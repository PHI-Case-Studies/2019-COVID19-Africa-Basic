{
 "cells": [
  {
   "cell_type": "markdown",
   "metadata": {},
   "source": [
    "# Covid-19 Cases by Country in Africa\n",
    "\n",
    "* The first Covid-19 Case in Africa was reported in Egypt on 14 February 2020\n",
    "* Since then more than 52 countries in Africa have reported cases\n",
    "* Through a series a visualizations This notebook answers the questions How many have been affected? and Where are they?"
   ]
  },
  {
   "cell_type": "code",
   "execution_count": null,
   "metadata": {},
   "outputs": [],
   "source": [
    "import pandas as pd\n",
    "#read csv file from the Data processing folder to create first dataframe df\n",
    "df = pd.read_pickle(\"data/cumcases_df_pickle.pkl\")\n",
    "df"
   ]
  },
  {
   "cell_type": "markdown",
   "metadata": {},
   "source": [
    "> # Review data from the first 10 rows of this dataframe\n",
    "* .head() command is the default and shows only 5 rows. to view a defined number of rows in a dataframe we can put a figure inside the curly brackets e.g to view ten rows we use df.head(10) as shown below\n",
    "* note that the index count for rows in a dataframe starts from zero"
   ]
  },
  {
   "cell_type": "code",
   "execution_count": null,
   "metadata": {},
   "outputs": [],
   "source": [
    "df.head(10)"
   ]
  },
  {
   "cell_type": "markdown",
   "metadata": {},
   "source": [
    "> # Print information in the data frame\n",
    "* .info() command shows the information about the dataframe i.e its class and contents"
   ]
  },
  {
   "cell_type": "code",
   "execution_count": null,
   "metadata": {},
   "outputs": [],
   "source": [
    "#floats are decimals and int are whole numbers\n",
    "df.info()"
   ]
  },
  {
   "cell_type": "markdown",
   "metadata": {},
   "source": [
    "# Creating a Dataframe to show Deaths per Country (Selecting Columns)\n",
    "> Using several python commands in pandas we are able to create a smaller dataframe and narrow doing on a specific variable and its values\n",
    "> * In the next step we will create a dataframe which shows number of deaths per country"
   ]
  },
  {
   "cell_type": "code",
   "execution_count": null,
   "metadata": {},
   "outputs": [],
   "source": [
    "#create second dataframe df1\n",
    "df1 = df[['Country_Region' , 'Deaths']]\n",
    "df1"
   ]
  },
  {
   "cell_type": "markdown",
   "metadata": {},
   "source": [
    "# Using Conditions to Create Dataframes\n",
    "> We can use conditions to narrow our analysis and choose only rows meeting a certain condition.For example we could choose only countries with more than 10000 Covid Deaths in the World\n",
    "> * In the next step we will create a dataframe for countries with 10000 or more deaths"
   ]
  },
  {
   "cell_type": "code",
   "execution_count": null,
   "metadata": {},
   "outputs": [],
   "source": [
    "df2 = df[(df.Deaths > 10000)]\n",
    "df2"
   ]
  },
  {
   "cell_type": "markdown",
   "metadata": {},
   "source": [
    "# Creating Visualizations\n",
    "> * Visualization display data and enable cognition.Informed decisions can then be taken out of the perceptions gained from this process\n",
    "> * Pandas makes use of various libraries to make these visualizations eg matplotlib and plotly libraries.These libraries are software packages and you import them into pandas to make use of them\n",
    "> * When creating a visualization you begin with an end in mind meaning the choice of visualization is determined by the type of data you want to display and how you want to display it eg line graph, bar graph, map or pie chart\n",
    "> * Just like in photography various effects can be applied to the visualizations to **amplify** Cognition\n",
    "> * In the next steps we will demnstrate some of these visualization\n"
   ]
  },
  {
   "cell_type": "markdown",
   "metadata": {},
   "source": [
    "# Create a bar chart to show countries with more than 10000 Covid-19 deaths"
   ]
  },
  {
   "cell_type": "code",
   "execution_count": null,
   "metadata": {},
   "outputs": [],
   "source": [
    "# Using the matplotlib library\n",
    "from matplotlib import pyplot as plt\n",
    "df2.plot.bar(y='Deaths',x='Country_Region', figsize = (16,10))\n",
    "plt.xlabel(\"Country\")\n",
    "plt.ylabel('Deaths Numbers')\n",
    "plt.title('Covid-19 Deaths')"
   ]
  },
  {
   "cell_type": "code",
   "execution_count": null,
   "metadata": {},
   "outputs": [],
   "source": [
    "# Using the plotly libaray for the same dataframe\n",
    "import plotly.express as px\n",
    "data = df2\n",
    "fig = px.bar(data, x='Country_Region', y='Deaths', title='Covid-19 Deaths')\n",
    "fig.show()"
   ]
  },
  {
   "cell_type": "markdown",
   "metadata": {},
   "source": [
    "# Comparing Cases and Deaths in Countries with more than 10K Deaths\n",
    "> The Matplotlib library can be used to make comparison by plotting two line graphs on same axes to compare and contrast"
   ]
  },
  {
   "cell_type": "code",
   "execution_count": null,
   "metadata": {},
   "outputs": [],
   "source": [
    "from matplotlib import pyplot as plt\n",
    "Country_Region = df2.Country_Region\n",
    "Confirmed = df2.Confirmed\n",
    "Deaths = df2.Deaths\n",
    "plt.plot(Country_Region , Confirmed)\n",
    "plt.plot(Country_Region , Deaths)\n",
    "plt.xlabel(\"Country\")\n",
    "plt.ylabel('Numbers')\n",
    "plt.title('Covid-19 Confrimed Cases and Deaths')"
   ]
  },
  {
   "cell_type": "markdown",
   "metadata": {},
   "source": [
    "# Selecting Rows eg Lets check cases in Zimbabwe\n",
    "> * We can use python commands in pandas to select a single row "
   ]
  },
  {
   "cell_type": "code",
   "execution_count": null,
   "metadata": {},
   "outputs": [],
   "source": [
    "# Select df.desired column row == Zimbabwe\n",
    "zdf = df[(df.Country_Region == \"Zimbabwe\")]\n",
    "zdf"
   ]
  },
  {
   "cell_type": "markdown",
   "metadata": {},
   "source": [
    "# Using Maps For Data Visualization\n",
    "* Maps are very powerful tools which can be used to answer the question Where is the problem?This section of the notebook will Covid_19 Data to demonstrate mapping techniques in pandas\n",
    "* Various pieces of data and effects can be applied on the maps for amplified cognition"
   ]
  },
  {
   "cell_type": "markdown",
   "metadata": {},
   "source": [
    "# Map of Africa\n",
    "> * We will start by creating a base map of Africa using Zimbabwe as starting point\n",
    "> * Mapping packages are available for use in pandas for use eg folium"
   ]
  },
  {
   "cell_type": "code",
   "execution_count": null,
   "metadata": {},
   "outputs": [],
   "source": [
    "#import folium package\n",
    "import folium\n",
    "folium.__version__"
   ]
  },
  {
   "cell_type": "code",
   "execution_count": null,
   "metadata": {},
   "outputs": [],
   "source": [
    "# select Zimbabwe coordinates and assign them to variable Zimbabwe_Coordinates\n",
    "Zimbabwe_Coordinates = (-19.015438 , 29.154857)"
   ]
  },
  {
   "cell_type": "code",
   "execution_count": null,
   "metadata": {},
   "outputs": [],
   "source": [
    "# plot map1\n",
    "map1 = folium.Map(location=Zimbabwe_Coordinates, zoom_start=3.2)\n",
    "map1"
   ]
  },
  {
   "cell_type": "markdown",
   "metadata": {},
   "source": [
    "# Applying Themes to Folium Maps\n",
    "> * Themes can be applied to maps for amplified cognition eg in the next visual we will apply the stamentoner theme to the basemap of Africa"
   ]
  },
  {
   "cell_type": "code",
   "execution_count": null,
   "metadata": {},
   "outputs": [],
   "source": [
    "folium.TileLayer('stamentoner').add_to(map1)"
   ]
  },
  {
   "cell_type": "code",
   "execution_count": null,
   "metadata": {},
   "outputs": [],
   "source": [
    "map1"
   ]
  },
  {
   "cell_type": "markdown",
   "metadata": {},
   "source": [
    "# Switch the theme to cartodposition\n",
    "> * We can switch the theme to cartodposition which results in a subdued background that **enhances map markers**"
   ]
  },
  {
   "cell_type": "code",
   "execution_count": null,
   "metadata": {},
   "outputs": [],
   "source": [
    "folium.TileLayer('cartodbpositron').add_to(map1)\n",
    "map1"
   ]
  },
  {
   "cell_type": "markdown",
   "metadata": {},
   "source": [
    "# We will now use mapping techniques in pandas to show the location of  Covid-19 Cases and Deaths in Africa\n",
    "> * Firstly we will Import Africa Shapefile and create a geodataframe\n",
    "> * We will then Convert the df dataframe to a geodataframe to enable merging\n",
    "> * We will then merge the two geodataframes and Plot Folium maps showing cases and deaths\n",
    "> * We will aslo show other types of maps"
   ]
  },
  {
   "cell_type": "markdown",
   "metadata": {},
   "source": [
    "# Import Africa Shapefile\n",
    "> * The shapefile format is a geospatial vector data format for geographic information system (GIS) software.\n",
    "> * Shapefiles enable us to plot maps with their geographical features\n",
    "> * We use the geopandas library to manipulate shapefiles in pandas"
   ]
  },
  {
   "cell_type": "code",
   "execution_count": null,
   "metadata": {},
   "outputs": [],
   "source": [
    "import geopandas as gpd"
   ]
  },
  {
   "cell_type": "code",
   "execution_count": null,
   "metadata": {},
   "outputs": [],
   "source": [
    "#create africa shapefile and assign it to variable africa_gdf\n",
    "africa_gdf = gpd.read_file('data/Africa_World_PROD_1_Lsib_2017_Mar.shp')"
   ]
  },
  {
   "cell_type": "code",
   "execution_count": null,
   "metadata": {},
   "outputs": [],
   "source": [
    "#show africa geodataframe\n",
    "africa_gdf"
   ]
  },
  {
   "cell_type": "markdown",
   "metadata": {},
   "source": [
    "# Convert df dataframe to a geodataframe to enable merging with africa_gdf geodataframe\n",
    "> * To enable a merge operation with a geodataframe using the sjoin operation we need to first convert df to a geo dataframe and then project it to the same coordinate referencing system"
   ]
  },
  {
   "cell_type": "code",
   "execution_count": null,
   "metadata": {},
   "outputs": [],
   "source": [
    "# create geodataframe from df and assign it to variable gdf\n",
    "gdf = gpd.GeoDataFrame(\n",
    "    df, geometry=gpd.points_from_xy(df.Long_, df.Lat))\n",
    "gdf"
   ]
  },
  {
   "cell_type": "code",
   "execution_count": null,
   "metadata": {},
   "outputs": [],
   "source": [
    "#Check the coordinate reference system for the africa_gdf geodataframe\n",
    "africa_gdf.crs"
   ]
  },
  {
   "cell_type": "code",
   "execution_count": null,
   "metadata": {},
   "outputs": [],
   "source": [
    "# project the derived geodataframe gdf to the same CRS as africa_gdf to enable merge\n",
    "gdf.crs = 'epsg:4326'\n",
    "gdf.crs"
   ]
  },
  {
   "cell_type": "code",
   "execution_count": null,
   "metadata": {
    "scrolled": false
   },
   "outputs": [],
   "source": [
    "# merge the two geodataframe using spatial join sjoin and assign the new geodataframe to gdf2 variable\n",
    "gdf2 = gpd.sjoin(africa_gdf, gdf, how='inner', op='intersects', lsuffix='left', rsuffix='right')\n",
    "gdf2"
   ]
  },
  {
   "cell_type": "code",
   "execution_count": null,
   "metadata": {},
   "outputs": [],
   "source": [
    "gdf2.to_pickle('data/gdf2_pickle.pkl')"
   ]
  },
  {
   "cell_type": "markdown",
   "metadata": {},
   "source": [
    "# Plot a map of Confirmed Covid-19 Cases in Africa\n",
    "> * This visualization shows the confirmed Covid-19 cases in Africa.The code imports folium and then applies cartodbpositron for amplified cognition.Popup messages contain location and number of confirmed cases."
   ]
  },
  {
   "cell_type": "code",
   "execution_count": null,
   "metadata": {},
   "outputs": [],
   "source": [
    "import folium \n",
    "folium.__version__\n",
    "\n",
    "map3 = folium.Map(location=Zimbabwe_Coordinates, zoom_start=3.2)\n",
    "\n",
    "folium.TileLayer('cartodbpositron').add_to(map3)\n",
    "\n",
    "\n",
    "for index, row in gdf2.iterrows():\n",
    "    country = row['Country_Region']\n",
    "    lat = row['Lat']\n",
    "    lon = row['Long_']\n",
    "    Confirmed = row['Confirmed']\n",
    "    popup_string = '<b>'+country.upper() +'</b> <br/>Location: '+'('+str(lat)+\\\n",
    "                     ', '+str(lon)+')'+\\\n",
    "                     '<br/>'+\\\n",
    "                    'Confirmed: '+ str(Confirmed)\n",
    "    popup = folium.Popup(popup_string)\n",
    "    folium.CircleMarker(\n",
    "                    location=[lat,lon], \\\n",
    "                    radius=Confirmed / 250 , \\\n",
    "                    color='black', \\\n",
    "                    weight=1, \\\n",
    "                    fill=True, \\\n",
    "                    popup=popup, \\\n",
    "                    fill_color='red', \\\n",
    "                    fill_opacity=1).add_to(map3)\n",
    "map3"
   ]
  },
  {
   "cell_type": "markdown",
   "metadata": {},
   "source": [
    "# Plotting a Map of the Covid-19 Deaths in Africa\n",
    "> * This visualization shows the Covid Deaths recorded in Africa.\n",
    "> * First we create a derived geodataframe gdf3 which which contains countries with one or more deaths then we plot a map, map4 using gdf3.\n",
    "> * gdf3 is derived from gdf2"
   ]
  },
  {
   "cell_type": "code",
   "execution_count": null,
   "metadata": {},
   "outputs": [],
   "source": [
    "gdf3 = gdf2[(gdf2.Deaths != 0)]\n",
    "gdf3"
   ]
  },
  {
   "cell_type": "code",
   "execution_count": null,
   "metadata": {},
   "outputs": [],
   "source": [
    "import folium \n",
    "folium.__version__\n",
    "\n",
    "map4 = folium.Map(location=Zimbabwe_Coordinates, zoom_start=3.2)\n",
    "\n",
    "folium.TileLayer('cartodbpositron').add_to(map4)\n",
    "\n",
    "\n",
    "for index, row in gdf3.iterrows():\n",
    "    country = row['Country_Region']\n",
    "    lat = row['Lat']\n",
    "    lon = row['Long_']\n",
    "    Confirmed = row['Deaths']\n",
    "    popup_string = country + ' Location: '+'('+str(lat)+\\\n",
    "                     ', '+str(lon)+')'+\\\n",
    "                     '<br/>'+\\\n",
    "                    'Deaths: '+ str(Confirmed)\n",
    "    popup = folium.Popup(popup_string)\n",
    "    folium.CircleMarker(\n",
    "                    location=[lat,lon], \\\n",
    "                    radius=Confirmed / 15 , \\\n",
    "                    color='black', \\\n",
    "                    weight=1, \\\n",
    "                    fill=True, \\\n",
    "                    popup=popup, \\\n",
    "                    fill_color='red', \\\n",
    "                    fill_opacity=1).add_to(map4)\n",
    "map4"
   ]
  },
  {
   "cell_type": "markdown",
   "metadata": {},
   "source": [
    "# Plot a Choropleth Map \n",
    "> * We will now visualize the same data in the form of a choropleth map which uses color intensity to quantify magnitude of the burden of Covid-19 cases in Africa"
   ]
  },
  {
   "cell_type": "code",
   "execution_count": null,
   "metadata": {},
   "outputs": [],
   "source": [
    "# First we will import the geojson data\n",
    "import json\n",
    "with open('data/Africa_World_PROD_1_Lsib_2017_Mar.geojson') as f:\n",
    "  countries = json.load(f)"
   ]
  },
  {
   "cell_type": "code",
   "execution_count": null,
   "metadata": {},
   "outputs": [],
   "source": [
    "countries"
   ]
  },
  {
   "cell_type": "code",
   "execution_count": null,
   "metadata": {},
   "outputs": [],
   "source": [
    "import pandas as pd\n",
    "\n",
    "\n",
    "Zimbabwe_Coordinates = (-19.015438 , 29.154857)\n",
    "\n",
    "map6 = folium.Map(location=Zimbabwe_Coordinates, zoom_start=3.2)\n",
    "\n",
    "folium.Choropleth(\n",
    "    geo_data=countries,\n",
    "    name='choropleth',\n",
    "    data=gdf2,\n",
    "    columns=['Country_Region', 'Confirmed'],\n",
    "    key_on=\"feature.properties.CNTRY_NAME\",\n",
    "    fill_color='YlGn',\n",
    "    fill_opacity=0.7,\n",
    "    line_opacity=0.2,\n",
    "    legend_name='Africa Covid Cases'\n",
    ").add_to(map6)\n",
    "\n",
    "folium.LayerControl().add_to(map6)\n",
    "\n",
    "map6"
   ]
  },
  {
   "cell_type": "code",
   "execution_count": null,
   "metadata": {},
   "outputs": [],
   "source": [
    "import folium    \n",
    "\n",
    "# Picked location Zimbabwe\n",
    "map5 = folium.Map(location=[-19.015438 , 29.154857],zoom_start=5,tiles=\"cartodbpositron\")\n",
    "\n",
    "for index, row in africa_gdf.iterrows():\n",
    "    \n",
    "    geojson = folium.GeoJson(row['geometry'])\n",
    "    geojson.add_to(map5)\n",
    "    \n",
    "map5"
   ]
  },
  {
   "cell_type": "code",
   "execution_count": null,
   "metadata": {},
   "outputs": [],
   "source": [
    "m = folium.Map(\n",
    "    location=[-11.202700, 17.873900],\n",
    "    tiles='Stamen Terrain',\n",
    "    zoom_start=4\n",
    ")\n",
    "\n",
    "m.add_child(folium.LatLngPopup())\n",
    "\n",
    "m"
   ]
  },
  {
   "cell_type": "code",
   "execution_count": null,
   "metadata": {},
   "outputs": [],
   "source": [
    "m = folium.Map(\n",
    "    location=[-11.202700, 17.873900],\n",
    "    tiles='Stamen Terrain',\n",
    "    zoom_start=3\n",
    ")\n",
    "\n",
    "folium.Marker(\n",
    "    [-22.328500, 24.684900],\n",
    "    popup='Botswana'\n",
    ").add_to(m)\n",
    "m.add_child(folium.ClickForMarker(popup='point'))\n",
    "\n",
    "m"
   ]
  },
  {
   "cell_type": "code",
   "execution_count": null,
   "metadata": {},
   "outputs": [],
   "source": [
    "africapopdf1 = pd.read_pickle('data/africapopdf1_pickle.pkl')\n",
    "africapopdf1"
   ]
  },
  {
   "cell_type": "code",
   "execution_count": null,
   "metadata": {},
   "outputs": [],
   "source": [
    "africapopdf1.columns = ['FIPS','Country_Region', 'Year', 'Pop_Mil']"
   ]
  },
  {
   "cell_type": "code",
   "execution_count": null,
   "metadata": {},
   "outputs": [],
   "source": [
    "africa_incidence = gdf2.merge(africapopdf1, on='Country_Region')\n",
    "africa_incidence"
   ]
  },
  {
   "cell_type": "code",
   "execution_count": null,
   "metadata": {},
   "outputs": [],
   "source": [
    "africa_incidence['Cases_100K'] = africa_incidence['Confirmed'] / africa_incidence['Pop_Mil'] / 10\n",
    "africa_incidence"
   ]
  },
  {
   "cell_type": "code",
   "execution_count": null,
   "metadata": {},
   "outputs": [],
   "source": [
    "import folium \n",
    "folium.__version__\n",
    "\n",
    "map10 = folium.Map(location=Zimbabwe_Coordinates, zoom_start=3.2)\n",
    "\n",
    "folium.TileLayer('cartodbpositron').add_to(map10)\n",
    "\n",
    "\n",
    "for index, row in africa_incidence.iterrows():\n",
    "    country = row['Country_Region']\n",
    "    lat = row['Lat']\n",
    "    lon = row['Long_']\n",
    "    Cases_100K = row['Cases_100K']\n",
    "    popup_string = country + ' Location: '+'('+str(lat)+\\\n",
    "                     ', '+str(lon)+')'+\\\n",
    "                     '<br/>'+\\\n",
    "                    'Incidence: '+ str(Cases_100K)\n",
    "    popup = folium.Popup(popup_string)\n",
    "    folium.CircleMarker(\n",
    "                    location=[lat,lon], \\\n",
    "                    radius=Cases_100K / 5 , \\\n",
    "                    color='black', \\\n",
    "                    weight=1, \\\n",
    "                    fill=True, \\\n",
    "                    popup=popup, \\\n",
    "                    fill_color='red', \\\n",
    "                    fill_opacity=1).add_to(map10)\n",
    "map10"
   ]
  },
  {
   "cell_type": "code",
   "execution_count": null,
   "metadata": {},
   "outputs": [],
   "source": [
    "import plotly.express as px\n",
    "from plotly.offline import download_plotlyjs, init_notebook_mode, plot, iplot\n",
    "init_notebook_mode(connected=True)\n",
    "\n",
    "max_cases = africa_incidence['Confirmed'].max()\n",
    "fig = px.choropleth_mapbox(africa_incidence, geojson=countries, \\\n",
    "              color=\"Confirmed\", hover_name=\"Country_Region\", \\\n",
    "              featureidkey=\"properties.CNTRY_NAME\", locations=\"CNTRY_NAME\",\\\n",
    "              #animation_frame=\"Confirmed_Cases\",\n",
    "              color_continuous_scale=px.colors.sequential.OrRd, \\\n",
    "              range_color=[0,max_cases])\n",
    "fig.update_layout(\n",
    "    #margin={\"r\":0,\"t\":0,\"l\":0,\"b\":0},\n",
    "    autosize=True,\n",
    "    height=770,\n",
    "    mapbox = {\n",
    "        'style': \"carto-positron\",\n",
    "        'center': {'lon': 29.918900, 'lat': -3.373100},\n",
    "        'zoom': 2\n",
    "    },\n",
    "    title={\n",
    "        'text': \"Confirmed Cases Africa Covid-19\",\n",
    "        'y':0.97,\n",
    "        'x':0.45,\n",
    "        'xanchor': 'center',\n",
    "        'yanchor': 'top'})\n",
    "\n",
    "fig.show()"
   ]
  },
  {
   "cell_type": "code",
   "execution_count": null,
   "metadata": {},
   "outputs": [],
   "source": [
    "import plotly.express as px\n",
    "\n",
    "max_cases = africa_incidence['Cases_100K'].max()\n",
    "fig = px.choropleth_mapbox(africa_incidence, geojson=countries, \\\n",
    "              color=\"Cases_100K\", hover_name=\"Country_Region\", \\\n",
    "              featureidkey=\"properties.CNTRY_NAME\", locations=\"CNTRY_NAME\",\\\n",
    "              #animation_frame=\"Date\",\n",
    "              color_continuous_scale=px.colors.sequential.OrRd, \\\n",
    "              range_color=[0,max_cases])\n",
    "fig.update_layout(\n",
    "    #margin={\"r\":0,\"t\":0,\"l\":0,\"b\":0},\n",
    "    autosize=True,\n",
    "    height=770,\n",
    "        mapbox = {\n",
    "        'style': \"carto-positron\",\n",
    "        'center': {'lon': 29.918900, 'lat': -3.373100},\n",
    "        'zoom': 2\n",
    "    },\n",
    "    title={\n",
    "        'text': \"Coronavirus Cases/100K in Africa Counties\",\n",
    "        'y':0.97,\n",
    "        'x':0.45,\n",
    "        'xanchor': 'center',\n",
    "        'yanchor': 'top'})\n",
    "\n",
    "#fig.write_html('Data/Africa/choropleth_02.html')\n",
    "fig.show()"
   ]
  },
  {
   "cell_type": "code",
   "execution_count": null,
   "metadata": {},
   "outputs": [],
   "source": []
  }
 ],
 "metadata": {
  "kernelspec": {
   "display_name": "Python 3",
   "language": "python",
   "name": "python3"
  },
  "language_info": {
   "codemirror_mode": {
    "name": "ipython",
    "version": 3
   },
   "file_extension": ".py",
   "mimetype": "text/x-python",
   "name": "python",
   "nbconvert_exporter": "python",
   "pygments_lexer": "ipython3",
   "version": "3.7.6"
  }
 },
 "nbformat": 4,
 "nbformat_minor": 4
}
