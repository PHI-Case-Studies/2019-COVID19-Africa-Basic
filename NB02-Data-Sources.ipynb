{
 "cells": [
  {
   "cell_type": "markdown",
   "metadata": {},
   "source": [
    "## COVID Case Data"
   ]
  },
  {
   "cell_type": "code",
   "execution_count": 1,
   "metadata": {},
   "outputs": [
    {
     "name": "stdout",
     "output_type": "stream",
     "text": [
      "--2020-07-12 02:43:22--  https://opendata.arcgis.com/datasets/bbb2e4f589ba40d692fab712ae37b9ac_2.csv\n",
      "Resolving opendata.arcgis.com (opendata.arcgis.com)... 3.93.28.231, 52.201.155.14, 3.231.244.127\n",
      "Connecting to opendata.arcgis.com (opendata.arcgis.com)|3.93.28.231|:443... connected.\n",
      "HTTP request sent, awaiting response... 200 OK\n",
      "Length: unspecified [text/csv]\n",
      "Saving to: ‘data/countrycases.csv’\n",
      "\n",
      "data/countrycases.c     [ <=>                ]  16.09K  --.-KB/s    in 0s      \n",
      "\n",
      "2020-07-12 02:43:23 (60.3 MB/s) - ‘data/countrycases.csv’ saved [16475]\n",
      "\n"
     ]
    }
   ],
   "source": [
    "!wget https://opendata.arcgis.com/datasets/bbb2e4f589ba40d692fab712ae37b9ac_2.csv -O data/countrycases.csv"
   ]
  },
  {
   "cell_type": "markdown",
   "metadata": {},
   "source": [
    "## COVID Cases Time Series"
   ]
  },
  {
   "cell_type": "markdown",
   "metadata": {},
   "source": [
    "### Narrow CSV"
   ]
  },
  {
   "cell_type": "code",
   "execution_count": 2,
   "metadata": {},
   "outputs": [
    {
     "name": "stdout",
     "output_type": "stream",
     "text": [
      "--2020-07-12 02:43:24--  https://data.humdata.org/hxlproxy/data/download/time_series_covid19_confirmed_global_narrow.csv?dest=data_edit&filter01=explode&explode-header-att01=date&explode-value-att01=value&filter02=rename&rename-oldtag02=%23affected%2Bdate&rename-newtag02=%23date&rename-header02=Date&filter03=rename&rename-oldtag03=%23affected%2Bvalue&rename-newtag03=%23affected%2Binfected%2Bvalue%2Bnum&rename-header03=Value&filter04=clean&clean-date-tags04=%23date&filter05=sort&sort-tags05=%23date&sort-reverse05=on&filter06=sort&sort-tags06=%23country%2Bname%2C%23adm1%2Bname&tagger-match-all=on&tagger-default-tag=%23affected%2Blabel&tagger-01-header=province%2Fstate&tagger-01-tag=%23adm1%2Bname&tagger-02-header=country%2Fregion&tagger-02-tag=%23country%2Bname&tagger-03-header=lat&tagger-03-tag=%23geo%2Blat&tagger-04-header=long&tagger-04-tag=%23geo%2Blon&header-row=1&url=https%3A%2F%2Fraw.githubusercontent.com%2FCSSEGISandData%2FCOVID-19%2Fmaster%2Fcsse_covid_19_data%2Fcsse_covid_19_time_series%2Ftime_series_covid19_confirmed_global.csv\n",
      "Resolving data.humdata.org (data.humdata.org)... 3.227.32.143, 54.161.199.142, 34.206.254.225\n",
      "Connecting to data.humdata.org (data.humdata.org)|3.227.32.143|:443... connected.\n",
      "HTTP request sent, awaiting response... 200 OK\n",
      "Length: 2050995 (2.0M) [text/csv]\n",
      "Saving to: ‘data/time_series_covid19_deaths_global_narrow.csv’\n",
      "\n",
      "data/time_series_co 100%[===================>]   1.96M  1.98MB/s    in 1.0s    \n",
      "\n",
      "2020-07-12 02:43:34 (1.98 MB/s) - ‘data/time_series_covid19_deaths_global_narrow.csv’ saved [2050995/2050995]\n",
      "\n"
     ]
    }
   ],
   "source": [
    "!wget 'https://data.humdata.org/hxlproxy/data/download/time_series_covid19_confirmed_global_narrow.csv?dest=data_edit&filter01=explode&explode-header-att01=date&explode-value-att01=value&filter02=rename&rename-oldtag02=%23affected%2Bdate&rename-newtag02=%23date&rename-header02=Date&filter03=rename&rename-oldtag03=%23affected%2Bvalue&rename-newtag03=%23affected%2Binfected%2Bvalue%2Bnum&rename-header03=Value&filter04=clean&clean-date-tags04=%23date&filter05=sort&sort-tags05=%23date&sort-reverse05=on&filter06=sort&sort-tags06=%23country%2Bname%2C%23adm1%2Bname&tagger-match-all=on&tagger-default-tag=%23affected%2Blabel&tagger-01-header=province%2Fstate&tagger-01-tag=%23adm1%2Bname&tagger-02-header=country%2Fregion&tagger-02-tag=%23country%2Bname&tagger-03-header=lat&tagger-03-tag=%23geo%2Blat&tagger-04-header=long&tagger-04-tag=%23geo%2Blon&header-row=1&url=https%3A%2F%2Fraw.githubusercontent.com%2FCSSEGISandData%2FCOVID-19%2Fmaster%2Fcsse_covid_19_data%2Fcsse_covid_19_time_series%2Ftime_series_covid19_confirmed_global.csv' -O data/time_series_covid19_deaths_global_narrow.csv"
   ]
  },
  {
   "cell_type": "markdown",
   "metadata": {},
   "source": [
    "## Covid Deaths Time Series"
   ]
  },
  {
   "cell_type": "code",
   "execution_count": 3,
   "metadata": {},
   "outputs": [
    {
     "name": "stdout",
     "output_type": "stream",
     "text": [
      "--2020-07-12 02:43:35--  https://data.humdata.org/hxlproxy/data/download/time_series_covid19_deaths_global_narrow.csv?dest=data_edit&filter01=explode&explode-header-att01=date&explode-value-att01=value&filter02=rename&rename-oldtag02=%23affected%2Bdate&rename-newtag02=%23date&rename-header02=Date&filter03=rename&rename-oldtag03=%23affected%2Bvalue&rename-newtag03=%23affected%2Binfected%2Bvalue%2Bnum&rename-header03=Value&filter04=clean&clean-date-tags04=%23date&filter05=sort&sort-tags05=%23date&sort-reverse05=on&filter06=sort&sort-tags06=%23country%2Bname%2C%23adm1%2Bname&tagger-match-all=on&tagger-default-tag=%23affected%2Blabel&tagger-01-header=province%2Fstate&tagger-01-tag=%23adm1%2Bname&tagger-02-header=country%2Fregion&tagger-02-tag=%23country%2Bname&tagger-03-header=lat&tagger-03-tag=%23geo%2Blat&tagger-04-header=long&tagger-04-tag=%23geo%2Blon&header-row=1&url=https%3A%2F%2Fraw.githubusercontent.com%2FCSSEGISandData%2FCOVID-19%2Fmaster%2Fcsse_covid_19_data%2Fcsse_covid_19_time_series%2Ftime_series_covid19_deaths_global.csv\n",
      "Resolving data.humdata.org (data.humdata.org)... 54.161.199.142, 3.227.32.143, 34.206.254.225\n",
      "Connecting to data.humdata.org (data.humdata.org)|54.161.199.142|:443... connected.\n",
      "HTTP request sent, awaiting response... 200 OK\n",
      "Length: 2002193 (1.9M) [text/csv]\n",
      "Saving to: ‘data/Deaths.csv’\n",
      "\n",
      "data/Deaths.csv     100%[===================>]   1.91M  2.43MB/s    in 0.8s    \n",
      "\n",
      "2020-07-12 02:43:45 (2.43 MB/s) - ‘data/Deaths.csv’ saved [2002193/2002193]\n",
      "\n"
     ]
    }
   ],
   "source": [
    "!wget 'https://data.humdata.org/hxlproxy/data/download/time_series_covid19_deaths_global_narrow.csv?dest=data_edit&filter01=explode&explode-header-att01=date&explode-value-att01=value&filter02=rename&rename-oldtag02=%23affected%2Bdate&rename-newtag02=%23date&rename-header02=Date&filter03=rename&rename-oldtag03=%23affected%2Bvalue&rename-newtag03=%23affected%2Binfected%2Bvalue%2Bnum&rename-header03=Value&filter04=clean&clean-date-tags04=%23date&filter05=sort&sort-tags05=%23date&sort-reverse05=on&filter06=sort&sort-tags06=%23country%2Bname%2C%23adm1%2Bname&tagger-match-all=on&tagger-default-tag=%23affected%2Blabel&tagger-01-header=province%2Fstate&tagger-01-tag=%23adm1%2Bname&tagger-02-header=country%2Fregion&tagger-02-tag=%23country%2Bname&tagger-03-header=lat&tagger-03-tag=%23geo%2Blat&tagger-04-header=long&tagger-04-tag=%23geo%2Blon&header-row=1&url=https%3A%2F%2Fraw.githubusercontent.com%2FCSSEGISandData%2FCOVID-19%2Fmaster%2Fcsse_covid_19_data%2Fcsse_covid_19_time_series%2Ftime_series_covid19_deaths_global.csv' -O data/Deaths.csv  "
   ]
  },
  {
   "cell_type": "markdown",
   "metadata": {},
   "source": [
    "## Armed Conflict Locations"
   ]
  },
  {
   "cell_type": "code",
   "execution_count": 4,
   "metadata": {},
   "outputs": [
    {
     "name": "stdout",
     "output_type": "stream",
     "text": [
      "--2020-07-09 14:27:11--  https://acleddata.com/download/2909/\n",
      "Resolving acleddata.com (acleddata.com)... failed: Temporary failure in name resolution.\n",
      "wget: unable to resolve host address ‘acleddata.com’\n"
     ]
    }
   ],
   "source": [
    "!wget https://acleddata.com/download/2909/ -O data/africa-conflict.xlsx"
   ]
  },
  {
   "cell_type": "markdown",
   "metadata": {},
   "source": [
    "## Google Mobility Data"
   ]
  },
  {
   "cell_type": "code",
   "execution_count": 5,
   "metadata": {},
   "outputs": [
    {
     "name": "stdout",
     "output_type": "stream",
     "text": [
      "--2020-07-09 14:27:27--  https://www.gstatic.com/covid19/mobility/Global_Mobility_Report.csv?cachebust=9cfdda8c20841ad1\n",
      "Resolving www.gstatic.com (www.gstatic.com)... 172.217.23.163, 2a00:1450:4001:81f::2003\n",
      "Connecting to www.gstatic.com (www.gstatic.com)|172.217.23.163|:443... connected.\n",
      "HTTP request sent, awaiting response... 200 OK\n",
      "Length: 44186309 (42M) [text/csv]\n",
      "Saving to: ‘data/Global_Mobility_Report.csv’\n",
      "\n",
      "data/Global_Mobilit 100%[===================>]  42.14M  89.3MB/s    in 0.5s    \n",
      "\n",
      "2020-07-09 14:27:28 (89.3 MB/s) - ‘data/Global_Mobility_Report.csv’ saved [44186309/44186309]\n",
      "\n"
     ]
    }
   ],
   "source": [
    "!wget https://www.gstatic.com/covid19/mobility/Global_Mobility_Report.csv?cachebust=9cfdda8c20841ad1 -O data/Global_Mobility_Report.csv"
   ]
  },
  {
   "cell_type": "markdown",
   "metadata": {},
   "source": [
    "## Building Footprints"
   ]
  },
  {
   "cell_type": "code",
   "execution_count": 6,
   "metadata": {},
   "outputs": [],
   "source": [
    "!mkdir -p data/geofabrik/"
   ]
  },
  {
   "cell_type": "markdown",
   "metadata": {},
   "source": [
    "### Uganda"
   ]
  },
  {
   "cell_type": "code",
   "execution_count": 7,
   "metadata": {},
   "outputs": [
    {
     "name": "stdout",
     "output_type": "stream",
     "text": [
      "--2020-07-09 14:27:30--  https://download.geofabrik.de/africa/uganda-latest-free.shp.zip\n",
      "Resolving download.geofabrik.de (download.geofabrik.de)... 88.99.142.44, 116.202.112.212\n",
      "Connecting to download.geofabrik.de (download.geofabrik.de)|88.99.142.44|:443... connected.\n",
      "HTTP request sent, awaiting response... 200 OK\n",
      "Length: 608551519 (580M) [application/zip]\n",
      "Saving to: ‘data/geofabrik/uganda-latest-free.shp.zip’\n",
      "\n",
      "data/geofabrik/ugan 100%[===================>] 580.36M  44.1MB/s    in 14s     \n",
      "\n",
      "2020-07-09 14:27:48 (41.7 MB/s) - ‘data/geofabrik/uganda-latest-free.shp.zip’ saved [608551519/608551519]\n",
      "\n"
     ]
    }
   ],
   "source": [
    "!wget https://download.geofabrik.de/africa/uganda-latest-free.shp.zip -O data/geofabrik/uganda-latest-free.shp.zip"
   ]
  },
  {
   "cell_type": "code",
   "execution_count": 8,
   "metadata": {},
   "outputs": [
    {
     "name": "stdout",
     "output_type": "stream",
     "text": [
      "Archive:  data/geofabrik/uganda-latest-free.shp.zip\n",
      "  inflating: data/geofabrik/uganda-latest-free/README  \n",
      " extracting: data/geofabrik/uganda-latest-free/gis_osm_buildings_a_free_1.cpg  \n",
      "  inflating: data/geofabrik/uganda-latest-free/gis_osm_buildings_a_free_1.dbf  \n",
      "  inflating: data/geofabrik/uganda-latest-free/gis_osm_buildings_a_free_1.prj  \n",
      "  inflating: data/geofabrik/uganda-latest-free/gis_osm_buildings_a_free_1.shp  \n",
      "  inflating: data/geofabrik/uganda-latest-free/gis_osm_buildings_a_free_1.shx  \n",
      " extracting: data/geofabrik/uganda-latest-free/gis_osm_landuse_a_free_1.cpg  \n",
      "  inflating: data/geofabrik/uganda-latest-free/gis_osm_landuse_a_free_1.dbf  \n",
      "  inflating: data/geofabrik/uganda-latest-free/gis_osm_landuse_a_free_1.prj  \n",
      "  inflating: data/geofabrik/uganda-latest-free/gis_osm_landuse_a_free_1.shp  \n",
      "  inflating: data/geofabrik/uganda-latest-free/gis_osm_landuse_a_free_1.shx  \n",
      " extracting: data/geofabrik/uganda-latest-free/gis_osm_natural_a_free_1.cpg  \n",
      "  inflating: data/geofabrik/uganda-latest-free/gis_osm_natural_a_free_1.dbf  \n",
      "  inflating: data/geofabrik/uganda-latest-free/gis_osm_natural_a_free_1.prj  \n",
      "  inflating: data/geofabrik/uganda-latest-free/gis_osm_natural_a_free_1.shp  \n",
      "  inflating: data/geofabrik/uganda-latest-free/gis_osm_natural_a_free_1.shx  \n",
      " extracting: data/geofabrik/uganda-latest-free/gis_osm_natural_free_1.cpg  \n",
      "  inflating: data/geofabrik/uganda-latest-free/gis_osm_natural_free_1.dbf  \n",
      "  inflating: data/geofabrik/uganda-latest-free/gis_osm_natural_free_1.prj  \n",
      "  inflating: data/geofabrik/uganda-latest-free/gis_osm_natural_free_1.shp  \n",
      "  inflating: data/geofabrik/uganda-latest-free/gis_osm_natural_free_1.shx  \n",
      " extracting: data/geofabrik/uganda-latest-free/gis_osm_places_a_free_1.cpg  \n",
      "  inflating: data/geofabrik/uganda-latest-free/gis_osm_places_a_free_1.dbf  \n",
      "  inflating: data/geofabrik/uganda-latest-free/gis_osm_places_a_free_1.prj  \n",
      "  inflating: data/geofabrik/uganda-latest-free/gis_osm_places_a_free_1.shp  \n",
      "  inflating: data/geofabrik/uganda-latest-free/gis_osm_places_a_free_1.shx  \n",
      " extracting: data/geofabrik/uganda-latest-free/gis_osm_places_free_1.cpg  \n",
      "  inflating: data/geofabrik/uganda-latest-free/gis_osm_places_free_1.dbf  \n",
      "  inflating: data/geofabrik/uganda-latest-free/gis_osm_places_free_1.prj  \n",
      "  inflating: data/geofabrik/uganda-latest-free/gis_osm_places_free_1.shp  \n",
      "  inflating: data/geofabrik/uganda-latest-free/gis_osm_places_free_1.shx  \n",
      " extracting: data/geofabrik/uganda-latest-free/gis_osm_pofw_a_free_1.cpg  \n",
      "  inflating: data/geofabrik/uganda-latest-free/gis_osm_pofw_a_free_1.dbf  \n",
      "  inflating: data/geofabrik/uganda-latest-free/gis_osm_pofw_a_free_1.prj  \n",
      "  inflating: data/geofabrik/uganda-latest-free/gis_osm_pofw_a_free_1.shp  \n",
      "  inflating: data/geofabrik/uganda-latest-free/gis_osm_pofw_a_free_1.shx  \n",
      " extracting: data/geofabrik/uganda-latest-free/gis_osm_pofw_free_1.cpg  \n",
      "  inflating: data/geofabrik/uganda-latest-free/gis_osm_pofw_free_1.dbf  \n",
      "  inflating: data/geofabrik/uganda-latest-free/gis_osm_pofw_free_1.prj  \n",
      "  inflating: data/geofabrik/uganda-latest-free/gis_osm_pofw_free_1.shp  \n",
      "  inflating: data/geofabrik/uganda-latest-free/gis_osm_pofw_free_1.shx  \n",
      " extracting: data/geofabrik/uganda-latest-free/gis_osm_pois_a_free_1.cpg  \n",
      "  inflating: data/geofabrik/uganda-latest-free/gis_osm_pois_a_free_1.dbf  \n",
      "  inflating: data/geofabrik/uganda-latest-free/gis_osm_pois_a_free_1.prj  \n",
      "  inflating: data/geofabrik/uganda-latest-free/gis_osm_pois_a_free_1.shp  \n",
      "  inflating: data/geofabrik/uganda-latest-free/gis_osm_pois_a_free_1.shx  \n",
      " extracting: data/geofabrik/uganda-latest-free/gis_osm_pois_free_1.cpg  \n",
      "  inflating: data/geofabrik/uganda-latest-free/gis_osm_pois_free_1.dbf  \n",
      "  inflating: data/geofabrik/uganda-latest-free/gis_osm_pois_free_1.prj  \n",
      "  inflating: data/geofabrik/uganda-latest-free/gis_osm_pois_free_1.shp  \n",
      "  inflating: data/geofabrik/uganda-latest-free/gis_osm_pois_free_1.shx  \n",
      " extracting: data/geofabrik/uganda-latest-free/gis_osm_railways_free_1.cpg  \n",
      "  inflating: data/geofabrik/uganda-latest-free/gis_osm_railways_free_1.dbf  \n",
      "  inflating: data/geofabrik/uganda-latest-free/gis_osm_railways_free_1.prj  \n",
      "  inflating: data/geofabrik/uganda-latest-free/gis_osm_railways_free_1.shp  \n",
      "  inflating: data/geofabrik/uganda-latest-free/gis_osm_railways_free_1.shx  \n",
      " extracting: data/geofabrik/uganda-latest-free/gis_osm_roads_free_1.cpg  \n",
      "  inflating: data/geofabrik/uganda-latest-free/gis_osm_roads_free_1.dbf  \n",
      "  inflating: data/geofabrik/uganda-latest-free/gis_osm_roads_free_1.prj  \n",
      "  inflating: data/geofabrik/uganda-latest-free/gis_osm_roads_free_1.shp  \n",
      "  inflating: data/geofabrik/uganda-latest-free/gis_osm_roads_free_1.shx  \n",
      " extracting: data/geofabrik/uganda-latest-free/gis_osm_traffic_a_free_1.cpg  \n",
      "  inflating: data/geofabrik/uganda-latest-free/gis_osm_traffic_a_free_1.dbf  \n",
      "  inflating: data/geofabrik/uganda-latest-free/gis_osm_traffic_a_free_1.prj  \n",
      "  inflating: data/geofabrik/uganda-latest-free/gis_osm_traffic_a_free_1.shp  \n",
      "  inflating: data/geofabrik/uganda-latest-free/gis_osm_traffic_a_free_1.shx  \n",
      " extracting: data/geofabrik/uganda-latest-free/gis_osm_traffic_free_1.cpg  \n",
      "  inflating: data/geofabrik/uganda-latest-free/gis_osm_traffic_free_1.dbf  \n",
      "  inflating: data/geofabrik/uganda-latest-free/gis_osm_traffic_free_1.prj  \n",
      "  inflating: data/geofabrik/uganda-latest-free/gis_osm_traffic_free_1.shp  \n",
      "  inflating: data/geofabrik/uganda-latest-free/gis_osm_traffic_free_1.shx  \n",
      " extracting: data/geofabrik/uganda-latest-free/gis_osm_transport_a_free_1.cpg  \n",
      "  inflating: data/geofabrik/uganda-latest-free/gis_osm_transport_a_free_1.dbf  \n",
      "  inflating: data/geofabrik/uganda-latest-free/gis_osm_transport_a_free_1.prj  \n",
      "  inflating: data/geofabrik/uganda-latest-free/gis_osm_transport_a_free_1.shp  \n",
      "  inflating: data/geofabrik/uganda-latest-free/gis_osm_transport_a_free_1.shx  \n",
      " extracting: data/geofabrik/uganda-latest-free/gis_osm_transport_free_1.cpg  \n",
      "  inflating: data/geofabrik/uganda-latest-free/gis_osm_transport_free_1.dbf  \n",
      "  inflating: data/geofabrik/uganda-latest-free/gis_osm_transport_free_1.prj  \n",
      "  inflating: data/geofabrik/uganda-latest-free/gis_osm_transport_free_1.shp  \n",
      "  inflating: data/geofabrik/uganda-latest-free/gis_osm_transport_free_1.shx  \n",
      " extracting: data/geofabrik/uganda-latest-free/gis_osm_water_a_free_1.cpg  \n",
      "  inflating: data/geofabrik/uganda-latest-free/gis_osm_water_a_free_1.dbf  \n",
      "  inflating: data/geofabrik/uganda-latest-free/gis_osm_water_a_free_1.prj  \n",
      "  inflating: data/geofabrik/uganda-latest-free/gis_osm_water_a_free_1.shp  \n",
      "  inflating: data/geofabrik/uganda-latest-free/gis_osm_water_a_free_1.shx  \n",
      " extracting: data/geofabrik/uganda-latest-free/gis_osm_waterways_free_1.cpg  \n",
      "  inflating: data/geofabrik/uganda-latest-free/gis_osm_waterways_free_1.dbf  \n",
      "  inflating: data/geofabrik/uganda-latest-free/gis_osm_waterways_free_1.prj  \n",
      "  inflating: data/geofabrik/uganda-latest-free/gis_osm_waterways_free_1.shp  \n",
      "  inflating: data/geofabrik/uganda-latest-free/gis_osm_waterways_free_1.shx  \n"
     ]
    }
   ],
   "source": [
    "!mkdir -p data/geofabrik/uganda-latest-free\n",
    "!unzip data/geofabrik/uganda-latest-free.shp.zip -d data/geofabrik/uganda-latest-free\n",
    "!rm data/geofabrik/uganda-latest-free.shp.zip"
   ]
  },
  {
   "cell_type": "code",
   "execution_count": 9,
   "metadata": {},
   "outputs": [],
   "source": [
    "!rm data/geofabrik/uganda-latest-free/gis*landuse*.*\n",
    "!rm data/geofabrik/uganda-latest-free/gis*natural*.*\n",
    "!rm data/geofabrik/uganda-latest-free/gis*places*.*\n",
    "!rm data/geofabrik/uganda-latest-free/gis*pofw*.*\n",
    "!rm data/geofabrik/uganda-latest-free/gis*pois*.*\n",
    "!rm data/geofabrik/uganda-latest-free/gis*railways*.*\n",
    "!rm data/geofabrik/uganda-latest-free/gis*roads*.*\n",
    "!rm data/geofabrik/uganda-latest-free/gis*traffic*.*\n",
    "!rm data/geofabrik/uganda-latest-free/gis*transport*.*\n",
    "!rm data/geofabrik/uganda-latest-free/gis*water*.*"
   ]
  },
  {
   "cell_type": "code",
   "execution_count": 10,
   "metadata": {},
   "outputs": [
    {
     "name": "stdout",
     "output_type": "stream",
     "text": [
      "total 1643060\r\n",
      "drwxr-xr-x 2 jovyan users      4096 Jul  9 14:28 .\r\n",
      "drwxr-xr-x 3 jovyan users      4096 Jul  9 14:28 ..\r\n",
      "-rw-rw-r-- 1 jovyan users         6 Jul  8 20:32 gis_osm_buildings_a_free_1.cpg\r\n",
      "-rw-rw-r-- 1 jovyan users 816052848 Jul  8 20:33 gis_osm_buildings_a_free_1.dbf\r\n",
      "-rw-rw-r-- 1 jovyan users       144 Jul  8 20:32 gis_osm_buildings_a_free_1.prj\r\n",
      "-rw-rw-r-- 1 jovyan users 826354040 Jul  8 20:33 gis_osm_buildings_a_free_1.shp\r\n",
      "-rw-rw-r-- 1 jovyan users  40051764 Jul  8 20:33 gis_osm_buildings_a_free_1.shx\r\n",
      "-rw-rw-r-- 1 jovyan users       651 Jul  8 20:33 README\r\n"
     ]
    }
   ],
   "source": [
    "!ls -la data/geofabrik/uganda-latest-free/"
   ]
  },
  {
   "cell_type": "markdown",
   "metadata": {},
   "source": [
    "### Kenya"
   ]
  },
  {
   "cell_type": "code",
   "execution_count": 11,
   "metadata": {},
   "outputs": [
    {
     "name": "stdout",
     "output_type": "stream",
     "text": [
      "--2020-07-09 14:28:37--  https://download.geofabrik.de/africa/kenya-latest-free.shp.zip\n",
      "Resolving download.geofabrik.de (download.geofabrik.de)... 88.99.142.44, 116.202.112.212\n",
      "Connecting to download.geofabrik.de (download.geofabrik.de)|88.99.142.44|:443... connected.\n",
      "HTTP request sent, awaiting response... 200 OK\n",
      "Length: 386062057 (368M) [application/zip]\n",
      "Saving to: ‘data/geofabrik/kenya-latest-free.shp.zip’\n",
      "\n",
      "data/geofabrik/keny 100%[===================>] 368.18M  51.6MB/s    in 7.1s    \n",
      "\n",
      "2020-07-09 14:28:44 (51.9 MB/s) - ‘data/geofabrik/kenya-latest-free.shp.zip’ saved [386062057/386062057]\n",
      "\n"
     ]
    }
   ],
   "source": [
    "!wget https://download.geofabrik.de/africa/kenya-latest-free.shp.zip -O data/geofabrik/kenya-latest-free.shp.zip"
   ]
  },
  {
   "cell_type": "code",
   "execution_count": 12,
   "metadata": {},
   "outputs": [
    {
     "name": "stdout",
     "output_type": "stream",
     "text": [
      "Archive:  data/geofabrik/kenya-latest-free.shp.zip\n",
      "  inflating: data/geofabrik/kenya-latest-free/README  \n",
      " extracting: data/geofabrik/kenya-latest-free/gis_osm_buildings_a_free_1.cpg  \n",
      "  inflating: data/geofabrik/kenya-latest-free/gis_osm_buildings_a_free_1.dbf  \n",
      "  inflating: data/geofabrik/kenya-latest-free/gis_osm_buildings_a_free_1.prj  \n",
      "  inflating: data/geofabrik/kenya-latest-free/gis_osm_buildings_a_free_1.shp  \n",
      "  inflating: data/geofabrik/kenya-latest-free/gis_osm_buildings_a_free_1.shx  \n",
      " extracting: data/geofabrik/kenya-latest-free/gis_osm_landuse_a_free_1.cpg  \n",
      "  inflating: data/geofabrik/kenya-latest-free/gis_osm_landuse_a_free_1.dbf  \n",
      "  inflating: data/geofabrik/kenya-latest-free/gis_osm_landuse_a_free_1.prj  \n",
      "  inflating: data/geofabrik/kenya-latest-free/gis_osm_landuse_a_free_1.shp  \n",
      "  inflating: data/geofabrik/kenya-latest-free/gis_osm_landuse_a_free_1.shx  \n",
      " extracting: data/geofabrik/kenya-latest-free/gis_osm_natural_a_free_1.cpg  \n",
      "  inflating: data/geofabrik/kenya-latest-free/gis_osm_natural_a_free_1.dbf  \n",
      "  inflating: data/geofabrik/kenya-latest-free/gis_osm_natural_a_free_1.prj  \n",
      "  inflating: data/geofabrik/kenya-latest-free/gis_osm_natural_a_free_1.shp  \n",
      "  inflating: data/geofabrik/kenya-latest-free/gis_osm_natural_a_free_1.shx  \n",
      " extracting: data/geofabrik/kenya-latest-free/gis_osm_natural_free_1.cpg  \n",
      "  inflating: data/geofabrik/kenya-latest-free/gis_osm_natural_free_1.dbf  \n",
      "  inflating: data/geofabrik/kenya-latest-free/gis_osm_natural_free_1.prj  \n",
      "  inflating: data/geofabrik/kenya-latest-free/gis_osm_natural_free_1.shp  \n",
      "  inflating: data/geofabrik/kenya-latest-free/gis_osm_natural_free_1.shx  \n",
      " extracting: data/geofabrik/kenya-latest-free/gis_osm_places_a_free_1.cpg  \n",
      "  inflating: data/geofabrik/kenya-latest-free/gis_osm_places_a_free_1.dbf  \n",
      "  inflating: data/geofabrik/kenya-latest-free/gis_osm_places_a_free_1.prj  \n",
      "  inflating: data/geofabrik/kenya-latest-free/gis_osm_places_a_free_1.shp  \n",
      "  inflating: data/geofabrik/kenya-latest-free/gis_osm_places_a_free_1.shx  \n",
      " extracting: data/geofabrik/kenya-latest-free/gis_osm_places_free_1.cpg  \n",
      "  inflating: data/geofabrik/kenya-latest-free/gis_osm_places_free_1.dbf  \n",
      "  inflating: data/geofabrik/kenya-latest-free/gis_osm_places_free_1.prj  \n",
      "  inflating: data/geofabrik/kenya-latest-free/gis_osm_places_free_1.shp  \n",
      "  inflating: data/geofabrik/kenya-latest-free/gis_osm_places_free_1.shx  \n",
      " extracting: data/geofabrik/kenya-latest-free/gis_osm_pofw_a_free_1.cpg  \n",
      "  inflating: data/geofabrik/kenya-latest-free/gis_osm_pofw_a_free_1.dbf  \n",
      "  inflating: data/geofabrik/kenya-latest-free/gis_osm_pofw_a_free_1.prj  \n",
      "  inflating: data/geofabrik/kenya-latest-free/gis_osm_pofw_a_free_1.shp  \n",
      "  inflating: data/geofabrik/kenya-latest-free/gis_osm_pofw_a_free_1.shx  \n",
      " extracting: data/geofabrik/kenya-latest-free/gis_osm_pofw_free_1.cpg  \n",
      "  inflating: data/geofabrik/kenya-latest-free/gis_osm_pofw_free_1.dbf  \n",
      "  inflating: data/geofabrik/kenya-latest-free/gis_osm_pofw_free_1.prj  \n",
      "  inflating: data/geofabrik/kenya-latest-free/gis_osm_pofw_free_1.shp  \n",
      "  inflating: data/geofabrik/kenya-latest-free/gis_osm_pofw_free_1.shx  \n",
      " extracting: data/geofabrik/kenya-latest-free/gis_osm_pois_a_free_1.cpg  \n",
      "  inflating: data/geofabrik/kenya-latest-free/gis_osm_pois_a_free_1.dbf  \n",
      "  inflating: data/geofabrik/kenya-latest-free/gis_osm_pois_a_free_1.prj  \n",
      "  inflating: data/geofabrik/kenya-latest-free/gis_osm_pois_a_free_1.shp  \n",
      "  inflating: data/geofabrik/kenya-latest-free/gis_osm_pois_a_free_1.shx  \n",
      " extracting: data/geofabrik/kenya-latest-free/gis_osm_pois_free_1.cpg  \n",
      "  inflating: data/geofabrik/kenya-latest-free/gis_osm_pois_free_1.dbf  \n",
      "  inflating: data/geofabrik/kenya-latest-free/gis_osm_pois_free_1.prj  \n",
      "  inflating: data/geofabrik/kenya-latest-free/gis_osm_pois_free_1.shp  \n",
      "  inflating: data/geofabrik/kenya-latest-free/gis_osm_pois_free_1.shx  \n",
      " extracting: data/geofabrik/kenya-latest-free/gis_osm_railways_free_1.cpg  \n",
      "  inflating: data/geofabrik/kenya-latest-free/gis_osm_railways_free_1.dbf  \n",
      "  inflating: data/geofabrik/kenya-latest-free/gis_osm_railways_free_1.prj  \n",
      "  inflating: data/geofabrik/kenya-latest-free/gis_osm_railways_free_1.shp  \n",
      "  inflating: data/geofabrik/kenya-latest-free/gis_osm_railways_free_1.shx  \n",
      " extracting: data/geofabrik/kenya-latest-free/gis_osm_roads_free_1.cpg  \n",
      "  inflating: data/geofabrik/kenya-latest-free/gis_osm_roads_free_1.dbf  \n",
      "  inflating: data/geofabrik/kenya-latest-free/gis_osm_roads_free_1.prj  \n",
      "  inflating: data/geofabrik/kenya-latest-free/gis_osm_roads_free_1.shp  \n",
      "  inflating: data/geofabrik/kenya-latest-free/gis_osm_roads_free_1.shx  \n",
      " extracting: data/geofabrik/kenya-latest-free/gis_osm_traffic_a_free_1.cpg  \n",
      "  inflating: data/geofabrik/kenya-latest-free/gis_osm_traffic_a_free_1.dbf  \n",
      "  inflating: data/geofabrik/kenya-latest-free/gis_osm_traffic_a_free_1.prj  \n",
      "  inflating: data/geofabrik/kenya-latest-free/gis_osm_traffic_a_free_1.shp  \n",
      "  inflating: data/geofabrik/kenya-latest-free/gis_osm_traffic_a_free_1.shx  \n",
      " extracting: data/geofabrik/kenya-latest-free/gis_osm_traffic_free_1.cpg  \n",
      "  inflating: data/geofabrik/kenya-latest-free/gis_osm_traffic_free_1.dbf  \n",
      "  inflating: data/geofabrik/kenya-latest-free/gis_osm_traffic_free_1.prj  \n",
      "  inflating: data/geofabrik/kenya-latest-free/gis_osm_traffic_free_1.shp  \n",
      "  inflating: data/geofabrik/kenya-latest-free/gis_osm_traffic_free_1.shx  \n",
      " extracting: data/geofabrik/kenya-latest-free/gis_osm_transport_a_free_1.cpg  \n",
      "  inflating: data/geofabrik/kenya-latest-free/gis_osm_transport_a_free_1.dbf  \n",
      "  inflating: data/geofabrik/kenya-latest-free/gis_osm_transport_a_free_1.prj  \n",
      "  inflating: data/geofabrik/kenya-latest-free/gis_osm_transport_a_free_1.shp  \n",
      "  inflating: data/geofabrik/kenya-latest-free/gis_osm_transport_a_free_1.shx  \n",
      " extracting: data/geofabrik/kenya-latest-free/gis_osm_transport_free_1.cpg  \n",
      "  inflating: data/geofabrik/kenya-latest-free/gis_osm_transport_free_1.dbf  \n",
      "  inflating: data/geofabrik/kenya-latest-free/gis_osm_transport_free_1.prj  \n",
      "  inflating: data/geofabrik/kenya-latest-free/gis_osm_transport_free_1.shp  \n",
      "  inflating: data/geofabrik/kenya-latest-free/gis_osm_transport_free_1.shx  \n",
      " extracting: data/geofabrik/kenya-latest-free/gis_osm_water_a_free_1.cpg  \n",
      "  inflating: data/geofabrik/kenya-latest-free/gis_osm_water_a_free_1.dbf  \n",
      "  inflating: data/geofabrik/kenya-latest-free/gis_osm_water_a_free_1.prj  \n",
      "  inflating: data/geofabrik/kenya-latest-free/gis_osm_water_a_free_1.shp  \n",
      "  inflating: data/geofabrik/kenya-latest-free/gis_osm_water_a_free_1.shx  \n",
      " extracting: data/geofabrik/kenya-latest-free/gis_osm_waterways_free_1.cpg  \n",
      "  inflating: data/geofabrik/kenya-latest-free/gis_osm_waterways_free_1.dbf  \n",
      "  inflating: data/geofabrik/kenya-latest-free/gis_osm_waterways_free_1.prj  \n",
      "  inflating: data/geofabrik/kenya-latest-free/gis_osm_waterways_free_1.shp  \n",
      "  inflating: data/geofabrik/kenya-latest-free/gis_osm_waterways_free_1.shx  \n"
     ]
    }
   ],
   "source": [
    "!mkdir -p data/geofabrik/kenya-latest-free\n",
    "!unzip data/geofabrik/kenya-latest-free.shp.zip -d data/geofabrik/kenya-latest-free\n",
    "!rm data/geofabrik/kenya-latest-free.shp.zip"
   ]
  },
  {
   "cell_type": "code",
   "execution_count": 13,
   "metadata": {},
   "outputs": [],
   "source": [
    "!rm data/geofabrik/kenya-latest-free/gis*landuse*.*\n",
    "!rm data/geofabrik/kenya-latest-free/gis*natural*.*\n",
    "!rm data/geofabrik/kenya-latest-free/gis*places*.*\n",
    "!rm data/geofabrik/kenya-latest-free/gis*pofw*.*\n",
    "!rm data/geofabrik/kenya-latest-free/gis*pois*.*\n",
    "!rm data/geofabrik/kenya-latest-free/gis*railways*.*\n",
    "!rm data/geofabrik/kenya-latest-free/gis*roads*.*\n",
    "!rm data/geofabrik/kenya-latest-free/gis*traffic*.*\n",
    "!rm data/geofabrik/kenya-latest-free/gis*transport*.*\n",
    "!rm data/geofabrik/kenya-latest-free/gis*water*.*"
   ]
  },
  {
   "cell_type": "code",
   "execution_count": 14,
   "metadata": {},
   "outputs": [
    {
     "name": "stdout",
     "output_type": "stream",
     "text": [
      "total 662084\r\n",
      "drwxr-xr-x 2 jovyan users      4096 Jul  9 14:29 .\r\n",
      "drwxr-xr-x 4 jovyan users      4096 Jul  9 14:29 ..\r\n",
      "-rw-rw-r-- 1 jovyan users         6 Jul  8 20:31 gis_osm_buildings_a_free_1.cpg\r\n",
      "-rw-rw-r-- 1 jovyan users 332681890 Jul  8 20:31 gis_osm_buildings_a_free_1.dbf\r\n",
      "-rw-rw-r-- 1 jovyan users       144 Jul  8 20:31 gis_osm_buildings_a_free_1.prj\r\n",
      "-rw-rw-r-- 1 jovyan users 328935860 Jul  8 20:31 gis_osm_buildings_a_free_1.shp\r\n",
      "-rw-rw-r-- 1 jovyan users  16328036 Jul  8 20:31 gis_osm_buildings_a_free_1.shx\r\n",
      "-rw-rw-r-- 1 jovyan users       650 Jul  8 20:31 README\r\n"
     ]
    }
   ],
   "source": [
    "!ls -la data/geofabrik/kenya-latest-free/"
   ]
  },
  {
   "cell_type": "markdown",
   "metadata": {},
   "source": [
    "### Tanzania"
   ]
  },
  {
   "cell_type": "code",
   "execution_count": 15,
   "metadata": {},
   "outputs": [
    {
     "name": "stdout",
     "output_type": "stream",
     "text": [
      "--2020-07-09 14:29:14--  https://download.geofabrik.de/africa/tanzania-latest-free.shp.zip\n",
      "Resolving download.geofabrik.de (download.geofabrik.de)... 116.202.112.212, 88.99.142.44\n",
      "Connecting to download.geofabrik.de (download.geofabrik.de)|116.202.112.212|:443... connected.\n",
      "HTTP request sent, awaiting response... 200 OK\n",
      "Length: 1234693315 (1.1G) [application/zip]\n",
      "Saving to: ‘data/geofabrik/tanzania-latest-free.shp.zip’\n",
      "\n",
      "data/geofabrik/tanz 100%[===================>]   1.15G  25.7MB/s    in 35s     \n",
      "\n",
      "2020-07-09 14:29:49 (33.2 MB/s) - ‘data/geofabrik/tanzania-latest-free.shp.zip’ saved [1234693315/1234693315]\n",
      "\n"
     ]
    }
   ],
   "source": [
    "!wget https://download.geofabrik.de/africa/tanzania-latest-free.shp.zip -O data/geofabrik/tanzania-latest-free.shp.zip"
   ]
  },
  {
   "cell_type": "code",
   "execution_count": 16,
   "metadata": {},
   "outputs": [
    {
     "name": "stdout",
     "output_type": "stream",
     "text": [
      "Archive:  data/geofabrik/tanzania-latest-free.shp.zip\n",
      "  inflating: data/geofabrik/tanzania-latest-free/README  \n",
      " extracting: data/geofabrik/tanzania-latest-free/gis_osm_buildings_a_free_1.cpg  \n",
      "  inflating: data/geofabrik/tanzania-latest-free/gis_osm_buildings_a_free_1.dbf  \n",
      "  inflating: data/geofabrik/tanzania-latest-free/gis_osm_buildings_a_free_1.prj  \n",
      "  inflating: data/geofabrik/tanzania-latest-free/gis_osm_buildings_a_free_1.shp  \n",
      "  inflating: data/geofabrik/tanzania-latest-free/gis_osm_buildings_a_free_1.shx  \n",
      " extracting: data/geofabrik/tanzania-latest-free/gis_osm_landuse_a_free_1.cpg  \n",
      "  inflating: data/geofabrik/tanzania-latest-free/gis_osm_landuse_a_free_1.dbf  \n",
      "  inflating: data/geofabrik/tanzania-latest-free/gis_osm_landuse_a_free_1.prj  \n",
      "  inflating: data/geofabrik/tanzania-latest-free/gis_osm_landuse_a_free_1.shp  \n",
      "  inflating: data/geofabrik/tanzania-latest-free/gis_osm_landuse_a_free_1.shx  \n",
      " extracting: data/geofabrik/tanzania-latest-free/gis_osm_natural_a_free_1.cpg  \n",
      "  inflating: data/geofabrik/tanzania-latest-free/gis_osm_natural_a_free_1.dbf  \n",
      "  inflating: data/geofabrik/tanzania-latest-free/gis_osm_natural_a_free_1.prj  \n",
      "  inflating: data/geofabrik/tanzania-latest-free/gis_osm_natural_a_free_1.shp  \n",
      "  inflating: data/geofabrik/tanzania-latest-free/gis_osm_natural_a_free_1.shx  \n",
      " extracting: data/geofabrik/tanzania-latest-free/gis_osm_natural_free_1.cpg  \n",
      "  inflating: data/geofabrik/tanzania-latest-free/gis_osm_natural_free_1.dbf  \n",
      "  inflating: data/geofabrik/tanzania-latest-free/gis_osm_natural_free_1.prj  \n",
      "  inflating: data/geofabrik/tanzania-latest-free/gis_osm_natural_free_1.shp  \n",
      "  inflating: data/geofabrik/tanzania-latest-free/gis_osm_natural_free_1.shx  \n",
      " extracting: data/geofabrik/tanzania-latest-free/gis_osm_places_a_free_1.cpg  \n",
      "  inflating: data/geofabrik/tanzania-latest-free/gis_osm_places_a_free_1.dbf  \n",
      "  inflating: data/geofabrik/tanzania-latest-free/gis_osm_places_a_free_1.prj  \n",
      "  inflating: data/geofabrik/tanzania-latest-free/gis_osm_places_a_free_1.shp  \n",
      "  inflating: data/geofabrik/tanzania-latest-free/gis_osm_places_a_free_1.shx  \n",
      " extracting: data/geofabrik/tanzania-latest-free/gis_osm_places_free_1.cpg  \n",
      "  inflating: data/geofabrik/tanzania-latest-free/gis_osm_places_free_1.dbf  \n",
      "  inflating: data/geofabrik/tanzania-latest-free/gis_osm_places_free_1.prj  \n",
      "  inflating: data/geofabrik/tanzania-latest-free/gis_osm_places_free_1.shp  \n",
      "  inflating: data/geofabrik/tanzania-latest-free/gis_osm_places_free_1.shx  \n",
      " extracting: data/geofabrik/tanzania-latest-free/gis_osm_pofw_a_free_1.cpg  \n",
      "  inflating: data/geofabrik/tanzania-latest-free/gis_osm_pofw_a_free_1.dbf  \n",
      "  inflating: data/geofabrik/tanzania-latest-free/gis_osm_pofw_a_free_1.prj  \n",
      "  inflating: data/geofabrik/tanzania-latest-free/gis_osm_pofw_a_free_1.shp  \n",
      "  inflating: data/geofabrik/tanzania-latest-free/gis_osm_pofw_a_free_1.shx  \n",
      " extracting: data/geofabrik/tanzania-latest-free/gis_osm_pofw_free_1.cpg  \n",
      "  inflating: data/geofabrik/tanzania-latest-free/gis_osm_pofw_free_1.dbf  \n",
      "  inflating: data/geofabrik/tanzania-latest-free/gis_osm_pofw_free_1.prj  \n",
      "  inflating: data/geofabrik/tanzania-latest-free/gis_osm_pofw_free_1.shp  \n",
      "  inflating: data/geofabrik/tanzania-latest-free/gis_osm_pofw_free_1.shx  \n",
      " extracting: data/geofabrik/tanzania-latest-free/gis_osm_pois_a_free_1.cpg  \n",
      "  inflating: data/geofabrik/tanzania-latest-free/gis_osm_pois_a_free_1.dbf  \n",
      "  inflating: data/geofabrik/tanzania-latest-free/gis_osm_pois_a_free_1.prj  \n",
      "  inflating: data/geofabrik/tanzania-latest-free/gis_osm_pois_a_free_1.shp  \n",
      "  inflating: data/geofabrik/tanzania-latest-free/gis_osm_pois_a_free_1.shx  \n",
      " extracting: data/geofabrik/tanzania-latest-free/gis_osm_pois_free_1.cpg  \n",
      "  inflating: data/geofabrik/tanzania-latest-free/gis_osm_pois_free_1.dbf  \n",
      "  inflating: data/geofabrik/tanzania-latest-free/gis_osm_pois_free_1.prj  \n",
      "  inflating: data/geofabrik/tanzania-latest-free/gis_osm_pois_free_1.shp  \n",
      "  inflating: data/geofabrik/tanzania-latest-free/gis_osm_pois_free_1.shx  \n",
      " extracting: data/geofabrik/tanzania-latest-free/gis_osm_railways_free_1.cpg  \n",
      "  inflating: data/geofabrik/tanzania-latest-free/gis_osm_railways_free_1.dbf  \n",
      "  inflating: data/geofabrik/tanzania-latest-free/gis_osm_railways_free_1.prj  \n",
      "  inflating: data/geofabrik/tanzania-latest-free/gis_osm_railways_free_1.shp  \n",
      "  inflating: data/geofabrik/tanzania-latest-free/gis_osm_railways_free_1.shx  \n",
      " extracting: data/geofabrik/tanzania-latest-free/gis_osm_roads_free_1.cpg  \n",
      "  inflating: data/geofabrik/tanzania-latest-free/gis_osm_roads_free_1.dbf  \n",
      "  inflating: data/geofabrik/tanzania-latest-free/gis_osm_roads_free_1.prj  \n",
      "  inflating: data/geofabrik/tanzania-latest-free/gis_osm_roads_free_1.shp  \n",
      "  inflating: data/geofabrik/tanzania-latest-free/gis_osm_roads_free_1.shx  \n",
      " extracting: data/geofabrik/tanzania-latest-free/gis_osm_traffic_a_free_1.cpg  \n",
      "  inflating: data/geofabrik/tanzania-latest-free/gis_osm_traffic_a_free_1.dbf  \n",
      "  inflating: data/geofabrik/tanzania-latest-free/gis_osm_traffic_a_free_1.prj  \n",
      "  inflating: data/geofabrik/tanzania-latest-free/gis_osm_traffic_a_free_1.shp  \n",
      "  inflating: data/geofabrik/tanzania-latest-free/gis_osm_traffic_a_free_1.shx  \n",
      " extracting: data/geofabrik/tanzania-latest-free/gis_osm_traffic_free_1.cpg  \n",
      "  inflating: data/geofabrik/tanzania-latest-free/gis_osm_traffic_free_1.dbf  \n",
      "  inflating: data/geofabrik/tanzania-latest-free/gis_osm_traffic_free_1.prj  \n",
      "  inflating: data/geofabrik/tanzania-latest-free/gis_osm_traffic_free_1.shp  \n",
      "  inflating: data/geofabrik/tanzania-latest-free/gis_osm_traffic_free_1.shx  \n",
      " extracting: data/geofabrik/tanzania-latest-free/gis_osm_transport_a_free_1.cpg  \n",
      "  inflating: data/geofabrik/tanzania-latest-free/gis_osm_transport_a_free_1.dbf  \n",
      "  inflating: data/geofabrik/tanzania-latest-free/gis_osm_transport_a_free_1.prj  \n",
      "  inflating: data/geofabrik/tanzania-latest-free/gis_osm_transport_a_free_1.shp  \n",
      "  inflating: data/geofabrik/tanzania-latest-free/gis_osm_transport_a_free_1.shx  \n",
      " extracting: data/geofabrik/tanzania-latest-free/gis_osm_transport_free_1.cpg  \n",
      "  inflating: data/geofabrik/tanzania-latest-free/gis_osm_transport_free_1.dbf  \n",
      "  inflating: data/geofabrik/tanzania-latest-free/gis_osm_transport_free_1.prj  \n",
      "  inflating: data/geofabrik/tanzania-latest-free/gis_osm_transport_free_1.shp  \n",
      "  inflating: data/geofabrik/tanzania-latest-free/gis_osm_transport_free_1.shx  \n",
      " extracting: data/geofabrik/tanzania-latest-free/gis_osm_water_a_free_1.cpg  \n",
      "  inflating: data/geofabrik/tanzania-latest-free/gis_osm_water_a_free_1.dbf  \n",
      "  inflating: data/geofabrik/tanzania-latest-free/gis_osm_water_a_free_1.prj  \n",
      "  inflating: data/geofabrik/tanzania-latest-free/gis_osm_water_a_free_1.shp  \n",
      "  inflating: data/geofabrik/tanzania-latest-free/gis_osm_water_a_free_1.shx  \n",
      " extracting: data/geofabrik/tanzania-latest-free/gis_osm_waterways_free_1.cpg  \n",
      "  inflating: data/geofabrik/tanzania-latest-free/gis_osm_waterways_free_1.dbf  \n",
      "  inflating: data/geofabrik/tanzania-latest-free/gis_osm_waterways_free_1.prj  \n",
      "  inflating: data/geofabrik/tanzania-latest-free/gis_osm_waterways_free_1.shp  \n",
      "  inflating: data/geofabrik/tanzania-latest-free/gis_osm_waterways_free_1.shx  \n"
     ]
    }
   ],
   "source": [
    "!mkdir -p data/geofabrik/tanzania-latest-free\n",
    "!unzip data/geofabrik/tanzania-latest-free.shp.zip -d data/geofabrik/tanzania-latest-free\n",
    "!rm data/geofabrik/tanzania-latest-free.shp.zip"
   ]
  },
  {
   "cell_type": "code",
   "execution_count": 17,
   "metadata": {},
   "outputs": [],
   "source": [
    "!rm data/geofabrik/tanzania-latest-free/gis*landuse*.*\n",
    "!rm data/geofabrik/tanzania-latest-free/gis*natural*.*\n",
    "!rm data/geofabrik/tanzania-latest-free/gis*places*.*\n",
    "!rm data/geofabrik/tanzania-latest-free/gis*pofw*.*\n",
    "!rm data/geofabrik/tanzania-latest-free/gis*pois*.*\n",
    "!rm data/geofabrik/tanzania-latest-free/gis*railways*.*\n",
    "!rm data/geofabrik/tanzania-latest-free/gis*roads*.*\n",
    "!rm data/geofabrik/tanzania-latest-free/gis*traffic*.*\n",
    "!rm data/geofabrik/tanzania-latest-free/gis*transport*.*\n",
    "!rm data/geofabrik/tanzania-latest-free/gis*water*.*"
   ]
  },
  {
   "cell_type": "code",
   "execution_count": 18,
   "metadata": {},
   "outputs": [
    {
     "name": "stdout",
     "output_type": "stream",
     "text": [
      "total 3594512\r\n",
      "drwxr-xr-x 2 jovyan users       4096 Jul  9 14:31 .\r\n",
      "drwxr-xr-x 5 jovyan users       4096 Jul  9 14:30 ..\r\n",
      "-rw-rw-r-- 1 jovyan users          6 Jul  8 20:38 gis_osm_buildings_a_free_1.cpg\r\n",
      "-rw-rw-r-- 1 jovyan users 1855203765 Jul  8 20:40 gis_osm_buildings_a_free_1.dbf\r\n",
      "-rw-rw-r-- 1 jovyan users        144 Jul  8 20:38 gis_osm_buildings_a_free_1.prj\r\n",
      "-rw-rw-r-- 1 jovyan users 1734490708 Jul  8 20:40 gis_osm_buildings_a_free_1.shp\r\n",
      "-rw-rw-r-- 1 jovyan users   91053036 Jul  8 20:40 gis_osm_buildings_a_free_1.shx\r\n",
      "-rw-rw-r-- 1 jovyan users        653 Jul  8 20:40 README\r\n"
     ]
    }
   ],
   "source": [
    "!ls -la data/geofabrik/tanzania-latest-free/"
   ]
  },
  {
   "cell_type": "markdown",
   "metadata": {},
   "source": [
    "# GDP Data"
   ]
  },
  {
   "cell_type": "code",
   "execution_count": 19,
   "metadata": {},
   "outputs": [
    {
     "name": "stdout",
     "output_type": "stream",
     "text": [
      "--2020-07-09 14:31:09--  http://api.worldbank.org/v2/en/indicator/NY.GDP.PCAP.CD?downloadformat=csv\n",
      "Resolving api.worldbank.org (api.worldbank.org)... failed: Temporary failure in name resolution.\n",
      "wget: unable to resolve host address ‘api.worldbank.org’\n"
     ]
    }
   ],
   "source": [
    "!wget http://api.worldbank.org/v2/en/indicator/NY.GDP.PCAP.CD?downloadformat=csv -O data/GDP.csv.zip"
   ]
  },
  {
   "cell_type": "code",
   "execution_count": 20,
   "metadata": {},
   "outputs": [
    {
     "name": "stdout",
     "output_type": "stream",
     "text": [
      "Archive:  data/GDP.csv.zip\r\n",
      "  End-of-central-directory signature not found.  Either this file is not\r\n",
      "  a zipfile, or it constitutes one disk of a multi-part archive.  In the\r\n",
      "  latter case the central directory and zipfile comment will be found on\r\n",
      "  the last disk(s) of this archive.\r\n",
      "unzip:  cannot find zipfile directory in one of data/GDP.csv.zip or\r\n",
      "        data/GDP.csv.zip.zip, and cannot find data/GDP.csv.zip.ZIP, period.\r\n"
     ]
    }
   ],
   "source": [
    "!unzip data/GDP.csv.zip -d data\n",
    "!rm data/GDP.csv.zip"
   ]
  },
  {
   "cell_type": "markdown",
   "metadata": {},
   "source": [
    "# Employment Data"
   ]
  },
  {
   "cell_type": "code",
   "execution_count": 21,
   "metadata": {},
   "outputs": [
    {
     "name": "stdout",
     "output_type": "stream",
     "text": [
      "--2020-07-09 14:31:27--  http://api.worldbank.org/v2/en/indicator/SL.EMP.TOTL.SP.MA.ZS?downloadformat=csv\n",
      "Resolving api.worldbank.org (api.worldbank.org)... 52.188.136.184\n",
      "Connecting to api.worldbank.org (api.worldbank.org)|52.188.136.184|:80... connected.\n",
      "HTTP request sent, awaiting response... 200 OK\n",
      "Length: 49656 (48K) [application/zip]\n",
      "Saving to: ‘data/Emp.csv.zip’\n",
      "\n",
      "data/Emp.csv.zip    100%[===================>]  48.49K   266KB/s    in 0.2s    \n",
      "\n",
      "2020-07-09 14:31:28 (266 KB/s) - ‘data/Emp.csv.zip’ saved [49656/49656]\n",
      "\n"
     ]
    }
   ],
   "source": [
    "! wget http://api.worldbank.org/v2/en/indicator/SL.EMP.TOTL.SP.MA.ZS?downloadformat=csv -O data/Emp.csv.zip"
   ]
  },
  {
   "cell_type": "code",
   "execution_count": 22,
   "metadata": {},
   "outputs": [
    {
     "name": "stdout",
     "output_type": "stream",
     "text": [
      "Archive:  data/Emp.csv.zip\r\n",
      "  inflating: data/Metadata_Indicator_API_SL.EMP.TOTL.SP.MA.ZS_DS2_en_csv_v2_1222654.csv  \r\n",
      "  inflating: data/API_SL.EMP.TOTL.SP.MA.ZS_DS2_en_csv_v2_1222654.csv  \r\n",
      "  inflating: data/Metadata_Country_API_SL.EMP.TOTL.SP.MA.ZS_DS2_en_csv_v2_1222654.csv  \r\n"
     ]
    }
   ],
   "source": [
    "!unzip data/Emp.csv.zip -d data\n",
    "!rm data/Emp.csv.zip"
   ]
  },
  {
   "cell_type": "markdown",
   "metadata": {},
   "source": [
    "# Human Development Index Data"
   ]
  },
  {
   "cell_type": "code",
   "execution_count": 23,
   "metadata": {},
   "outputs": [
    {
     "name": "stdout",
     "output_type": "stream",
     "text": [
      "--2020-07-09 14:31:31--  http://api.worldbank.org/v2/en/indicator/UNDP.HDI.XD?downloadformat=csv\n",
      "Resolving api.worldbank.org (api.worldbank.org)... 52.188.136.184\n",
      "Connecting to api.worldbank.org (api.worldbank.org)|52.188.136.184|:80... connected.\n",
      "HTTP request sent, awaiting response... 200 OK\n",
      "Length: 4858 (4.7K) [application/zip]\n",
      "Saving to: ‘data/Human_Dev_Index.csv.zip’\n",
      "\n",
      "data/Human_Dev_Inde 100%[===================>]   4.74K  --.-KB/s    in 0s      \n",
      "\n",
      "2020-07-09 14:31:31 (113 MB/s) - ‘data/Human_Dev_Index.csv.zip’ saved [4858/4858]\n",
      "\n"
     ]
    }
   ],
   "source": [
    "!wget http://api.worldbank.org/v2/en/indicator/UNDP.HDI.XD?downloadformat=csv  -O data/Human_Dev_Index.csv.zip"
   ]
  },
  {
   "cell_type": "code",
   "execution_count": 24,
   "metadata": {},
   "outputs": [
    {
     "name": "stdout",
     "output_type": "stream",
     "text": [
      "Archive:  data/Human_Dev_Index.csv.zip\r\n",
      "  inflating: data/Metadata_Indicator_API_UNDP.HDI.XD_DS11_en_csv_v2_1263520.csv  \r\n",
      "  inflating: data/API_UNDP.HDI.XD_DS11_en_csv_v2_1263520.csv  \r\n",
      "  inflating: data/Metadata_Country_API_UNDP.HDI.XD_DS11_en_csv_v2_1263520.csv  \r\n"
     ]
    }
   ],
   "source": [
    "!unzip data/Human_Dev_Index.csv.zip -d data\n",
    "!rm data/Human_Dev_Index.csv.zip"
   ]
  },
  {
   "cell_type": "markdown",
   "metadata": {},
   "source": [
    "# Population Data"
   ]
  },
  {
   "cell_type": "code",
   "execution_count": 4,
   "metadata": {},
   "outputs": [
    {
     "name": "stdout",
     "output_type": "stream",
     "text": [
      "--2020-07-12 04:38:39--  https://datacenter.prb.org/download/international/indicator/population/csv?geos=AFRICA\n",
      "Resolving datacenter.prb.org (datacenter.prb.org)... 34.233.175.150\n",
      "Connecting to datacenter.prb.org (datacenter.prb.org)|34.233.175.150|:443... connected.\n",
      "HTTP request sent, awaiting response... 200 OK\n",
      "Length: 2287 (2.2K) [text/csv]\n",
      "Saving to: ‘data/Popdata.csv’\n",
      "\n",
      "data/Popdata.csv    100%[===================>]   2.23K  --.-KB/s    in 0s      \n",
      "\n",
      "2020-07-12 04:38:39 (175 MB/s) - ‘data/Popdata.csv’ saved [2287/2287]\n",
      "\n"
     ]
    }
   ],
   "source": [
    "!wget https://datacenter.prb.org/download/international/indicator/population/csv?geos=AFRICA -O data/Popdata.csv"
   ]
  },
  {
   "cell_type": "code",
   "execution_count": null,
   "metadata": {},
   "outputs": [],
   "source": []
  },
  {
   "cell_type": "code",
   "execution_count": null,
   "metadata": {},
   "outputs": [],
   "source": []
  }
 ],
 "metadata": {
  "kernelspec": {
   "display_name": "Python 3",
   "language": "python",
   "name": "python3"
  },
  "language_info": {
   "codemirror_mode": {
    "name": "ipython",
    "version": 3
   },
   "file_extension": ".py",
   "mimetype": "text/x-python",
   "name": "python",
   "nbconvert_exporter": "python",
   "pygments_lexer": "ipython3",
   "version": "3.7.6"
  }
 },
 "nbformat": 4,
 "nbformat_minor": 4
}
