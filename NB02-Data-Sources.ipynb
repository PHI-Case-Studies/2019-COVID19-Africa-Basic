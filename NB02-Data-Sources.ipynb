{
 "cells": [
  {
   "cell_type": "markdown",
   "metadata": {},
   "source": [
    "## COVID Case Data"
   ]
  },
  {
   "cell_type": "code",
   "execution_count": 25,
   "metadata": {},
   "outputs": [
    {
     "name": "stdout",
     "output_type": "stream",
     "text": [
      "--2020-05-15 09:05:13--  https://opendata.arcgis.com/datasets/bbb2e4f589ba40d692fab712ae37b9ac_2.csv\n",
      "Resolving opendata.arcgis.com (opendata.arcgis.com)... 54.175.112.208, 34.237.57.61, 3.230.6.45\n",
      "Connecting to opendata.arcgis.com (opendata.arcgis.com)|54.175.112.208|:443... connected.\n",
      "HTTP request sent, awaiting response... 200 OK\n",
      "Length: unspecified [text/csv]\n",
      "Saving to: ‘data/countrycases.csv’\n",
      "\n",
      "data/countrycases.c     [ <=>                ]  14.97K  --.-KB/s    in 0s      \n",
      "\n",
      "2020-05-15 09:05:13 (120 MB/s) - ‘data/countrycases.csv’ saved [15332]\n",
      "\n"
     ]
    }
   ],
   "source": [
    "!wget https://opendata.arcgis.com/datasets/bbb2e4f589ba40d692fab712ae37b9ac_2.csv -O data/countrycases.csv"
   ]
  },
  {
   "cell_type": "markdown",
   "metadata": {},
   "source": [
    "## COVID Time Series"
   ]
  },
  {
   "cell_type": "markdown",
   "metadata": {},
   "source": [
    "### Narrow CSV"
   ]
  },
  {
   "cell_type": "code",
   "execution_count": 28,
   "metadata": {},
   "outputs": [
    {
     "name": "stdout",
     "output_type": "stream",
     "text": [
      "--2020-05-15 09:17:12--  https://data.humdata.org/hxlproxy/data/download/time_series_covid19_confirmed_global_narrow.csv?dest=data_edit&filter01=explode&explode-header-att01=date&explode-value-att01=value&filter02=rename&rename-oldtag02=%23affected%2Bdate&rename-newtag02=%23date&rename-header02=Date&filter03=rename&rename-oldtag03=%23affected%2Bvalue&rename-newtag03=%23affected%2Binfected%2Bvalue%2Bnum&rename-header03=Value&filter04=clean&clean-date-tags04=%23date&filter05=sort&sort-tags05=%23date&sort-reverse05=on&filter06=sort&sort-tags06=%23country%2Bname%2C%23adm1%2Bname&tagger-match-all=on&tagger-default-tag=%23affected%2Blabel&tagger-01-header=province%2Fstate&tagger-01-tag=%23adm1%2Bname&tagger-02-header=country%2Fregion&tagger-02-tag=%23country%2Bname&tagger-03-header=lat&tagger-03-tag=%23geo%2Blat&tagger-04-header=long&tagger-04-tag=%23geo%2Blon&header-row=1&url=https%3A%2F%2Fraw.githubusercontent.com%2FCSSEGISandData%2FCOVID-19%2Fmaster%2Fcsse_covid_19_data%2Fcsse_covid_19_time_series%2Ftime_series_covid19_confirmed_global.csv\n",
      "Resolving data.humdata.org (data.humdata.org)... 3.227.32.143, 54.161.199.142, 34.206.254.225\n",
      "Connecting to data.humdata.org (data.humdata.org)|3.227.32.143|:443... connected.\n",
      "HTTP request sent, awaiting response... 200 OK\n",
      "Length: 1344831 (1.3M) [text/csv]\n",
      "Saving to: ‘data/time_series_covid19_deaths_global_narrow.csv’\n",
      "\n",
      "data/time_series_co 100%[===================>]   1.28M  3.76MB/s    in 0.3s    \n",
      "\n",
      "2020-05-15 09:17:18 (3.76 MB/s) - ‘data/time_series_covid19_deaths_global_narrow.csv’ saved [1344831/1344831]\n",
      "\n"
     ]
    }
   ],
   "source": [
    "!wget 'https://data.humdata.org/hxlproxy/data/download/time_series_covid19_confirmed_global_narrow.csv?dest=data_edit&filter01=explode&explode-header-att01=date&explode-value-att01=value&filter02=rename&rename-oldtag02=%23affected%2Bdate&rename-newtag02=%23date&rename-header02=Date&filter03=rename&rename-oldtag03=%23affected%2Bvalue&rename-newtag03=%23affected%2Binfected%2Bvalue%2Bnum&rename-header03=Value&filter04=clean&clean-date-tags04=%23date&filter05=sort&sort-tags05=%23date&sort-reverse05=on&filter06=sort&sort-tags06=%23country%2Bname%2C%23adm1%2Bname&tagger-match-all=on&tagger-default-tag=%23affected%2Blabel&tagger-01-header=province%2Fstate&tagger-01-tag=%23adm1%2Bname&tagger-02-header=country%2Fregion&tagger-02-tag=%23country%2Bname&tagger-03-header=lat&tagger-03-tag=%23geo%2Blat&tagger-04-header=long&tagger-04-tag=%23geo%2Blon&header-row=1&url=https%3A%2F%2Fraw.githubusercontent.com%2FCSSEGISandData%2FCOVID-19%2Fmaster%2Fcsse_covid_19_data%2Fcsse_covid_19_time_series%2Ftime_series_covid19_confirmed_global.csv' -O data/time_series_covid19_deaths_global_narrow.csv"
   ]
  },
  {
   "cell_type": "markdown",
   "metadata": {},
   "source": [
    "## Armed Conflict Locations"
   ]
  },
  {
   "cell_type": "code",
   "execution_count": 1,
   "metadata": {},
   "outputs": [
    {
     "name": "stdout",
     "output_type": "stream",
     "text": [
      "--2020-05-13 17:05:21--  https://acleddata.com/download/2909/\n",
      "Resolving acleddata.com (acleddata.com)... 104.22.67.92, 104.22.66.92, 2606:4700:10::6816:435c, ...\n",
      "Connecting to acleddata.com (acleddata.com)|104.22.67.92|:443... connected.\n",
      "HTTP request sent, awaiting response... 200 OK\n",
      "Length: 34698472 (33M) [application/vnd.openxmlformats-officedocument.spreadsheetml.sheet]\n",
      "Saving to: ‘data/africa-conflict.xlsx’\n",
      "\n",
      "data/africa-conflic 100%[===================>]  33.09M  11.0MB/s    in 3.0s    \n",
      "\n",
      "2020-05-13 17:05:27 (11.0 MB/s) - ‘data/africa-conflict.xlsx’ saved [34698472/34698472]\n",
      "\n"
     ]
    }
   ],
   "source": [
    "!wget https://acleddata.com/download/2909/ -O data/africa-conflict.xlsx"
   ]
  },
  {
   "cell_type": "markdown",
   "metadata": {},
   "source": [
    "## Google Mobility Data"
   ]
  },
  {
   "cell_type": "code",
   "execution_count": 3,
   "metadata": {},
   "outputs": [
    {
     "name": "stdout",
     "output_type": "stream",
     "text": [
      "--2020-05-14 16:33:55--  https://www.gstatic.com/covid19/mobility/Global_Mobility_Report.csv?cachebust=9cfdda8c20841ad1\n",
      "Resolving www.gstatic.com (www.gstatic.com)... 172.217.6.99, 2607:f8b0:4009:804::2003\n",
      "Connecting to www.gstatic.com (www.gstatic.com)|172.217.6.99|:443... connected.\n",
      "HTTP request sent, awaiting response... 200 OK\n",
      "Length: 21175373 (20M) [text/csv]\n",
      "Saving to: ‘data/Global_Mobility_Report.csv’\n",
      "\n",
      "data/Global_Mobilit 100%[===================>]  20.19M  14.0MB/s    in 1.4s    \n",
      "\n",
      "2020-05-14 16:33:57 (14.0 MB/s) - ‘data/Global_Mobility_Report.csv’ saved [21175373/21175373]\n",
      "\n"
     ]
    }
   ],
   "source": [
    "!wget https://www.gstatic.com/covid19/mobility/Global_Mobility_Report.csv?cachebust=9cfdda8c20841ad1 -O data/Global_Mobility_Report.csv"
   ]
  },
  {
   "cell_type": "markdown",
   "metadata": {},
   "source": [
    "## Building Footprints"
   ]
  },
  {
   "cell_type": "code",
   "execution_count": 11,
   "metadata": {},
   "outputs": [],
   "source": [
    "!mkdir -p data/geofabrik/"
   ]
  },
  {
   "cell_type": "markdown",
   "metadata": {},
   "source": [
    "### Uganda"
   ]
  },
  {
   "cell_type": "code",
   "execution_count": 23,
   "metadata": {},
   "outputs": [
    {
     "name": "stdout",
     "output_type": "stream",
     "text": [
      "--2020-05-14 20:37:27--  https://download.geofabrik.de/africa/uganda-latest-free.shp.zip\n",
      "Resolving download.geofabrik.de (download.geofabrik.de)... 116.202.112.212, 88.99.142.44\n",
      "Connecting to download.geofabrik.de (download.geofabrik.de)|116.202.112.212|:443... connected.\n",
      "HTTP request sent, awaiting response... 200 OK\n",
      "Length: 587519908 (560M) [application/zip]\n",
      "Saving to: ‘data/geofabrik/uganda-latest-free.shp.zip’\n",
      "\n",
      "data/geofabrik/ugan 100%[===================>] 560.30M  11.4MB/s    in 40s     \n",
      "\n",
      "2020-05-14 20:38:09 (13.9 MB/s) - ‘data/geofabrik/uganda-latest-free.shp.zip’ saved [587519908/587519908]\n",
      "\n"
     ]
    }
   ],
   "source": [
    "!wget https://download.geofabrik.de/africa/uganda-latest-free.shp.zip -O data/geofabrik/uganda-latest-free.shp.zip"
   ]
  },
  {
   "cell_type": "code",
   "execution_count": 24,
   "metadata": {},
   "outputs": [
    {
     "name": "stdout",
     "output_type": "stream",
     "text": [
      "Archive:  data/geofabrik/uganda-latest-free.shp.zip\n",
      "  inflating: data/geofabrik/uganda-latest-free/README  \n",
      " extracting: data/geofabrik/uganda-latest-free/gis_osm_buildings_a_free_1.cpg  \n",
      "  inflating: data/geofabrik/uganda-latest-free/gis_osm_buildings_a_free_1.dbf  \n",
      "  inflating: data/geofabrik/uganda-latest-free/gis_osm_buildings_a_free_1.prj  \n",
      "  inflating: data/geofabrik/uganda-latest-free/gis_osm_buildings_a_free_1.shp  \n",
      "  inflating: data/geofabrik/uganda-latest-free/gis_osm_buildings_a_free_1.shx  \n",
      " extracting: data/geofabrik/uganda-latest-free/gis_osm_landuse_a_free_1.cpg  \n",
      "  inflating: data/geofabrik/uganda-latest-free/gis_osm_landuse_a_free_1.dbf  \n",
      "  inflating: data/geofabrik/uganda-latest-free/gis_osm_landuse_a_free_1.prj  \n",
      "  inflating: data/geofabrik/uganda-latest-free/gis_osm_landuse_a_free_1.shp  \n",
      "  inflating: data/geofabrik/uganda-latest-free/gis_osm_landuse_a_free_1.shx  \n",
      " extracting: data/geofabrik/uganda-latest-free/gis_osm_natural_a_free_1.cpg  \n",
      "  inflating: data/geofabrik/uganda-latest-free/gis_osm_natural_a_free_1.dbf  \n",
      "  inflating: data/geofabrik/uganda-latest-free/gis_osm_natural_a_free_1.prj  \n",
      "  inflating: data/geofabrik/uganda-latest-free/gis_osm_natural_a_free_1.shp  \n",
      "  inflating: data/geofabrik/uganda-latest-free/gis_osm_natural_a_free_1.shx  \n",
      " extracting: data/geofabrik/uganda-latest-free/gis_osm_natural_free_1.cpg  \n",
      "  inflating: data/geofabrik/uganda-latest-free/gis_osm_natural_free_1.dbf  \n",
      "  inflating: data/geofabrik/uganda-latest-free/gis_osm_natural_free_1.prj  \n",
      "  inflating: data/geofabrik/uganda-latest-free/gis_osm_natural_free_1.shp  \n",
      "  inflating: data/geofabrik/uganda-latest-free/gis_osm_natural_free_1.shx  \n",
      " extracting: data/geofabrik/uganda-latest-free/gis_osm_places_a_free_1.cpg  \n",
      "  inflating: data/geofabrik/uganda-latest-free/gis_osm_places_a_free_1.dbf  \n",
      "  inflating: data/geofabrik/uganda-latest-free/gis_osm_places_a_free_1.prj  \n",
      "  inflating: data/geofabrik/uganda-latest-free/gis_osm_places_a_free_1.shp  \n",
      "  inflating: data/geofabrik/uganda-latest-free/gis_osm_places_a_free_1.shx  \n",
      " extracting: data/geofabrik/uganda-latest-free/gis_osm_places_free_1.cpg  \n",
      "  inflating: data/geofabrik/uganda-latest-free/gis_osm_places_free_1.dbf  \n",
      "  inflating: data/geofabrik/uganda-latest-free/gis_osm_places_free_1.prj  \n",
      "  inflating: data/geofabrik/uganda-latest-free/gis_osm_places_free_1.shp  \n",
      "  inflating: data/geofabrik/uganda-latest-free/gis_osm_places_free_1.shx  \n",
      " extracting: data/geofabrik/uganda-latest-free/gis_osm_pofw_a_free_1.cpg  \n",
      "  inflating: data/geofabrik/uganda-latest-free/gis_osm_pofw_a_free_1.dbf  \n",
      "  inflating: data/geofabrik/uganda-latest-free/gis_osm_pofw_a_free_1.prj  \n",
      "  inflating: data/geofabrik/uganda-latest-free/gis_osm_pofw_a_free_1.shp  \n",
      "  inflating: data/geofabrik/uganda-latest-free/gis_osm_pofw_a_free_1.shx  \n",
      " extracting: data/geofabrik/uganda-latest-free/gis_osm_pofw_free_1.cpg  \n",
      "  inflating: data/geofabrik/uganda-latest-free/gis_osm_pofw_free_1.dbf  \n",
      "  inflating: data/geofabrik/uganda-latest-free/gis_osm_pofw_free_1.prj  \n",
      "  inflating: data/geofabrik/uganda-latest-free/gis_osm_pofw_free_1.shp  \n",
      "  inflating: data/geofabrik/uganda-latest-free/gis_osm_pofw_free_1.shx  \n",
      " extracting: data/geofabrik/uganda-latest-free/gis_osm_pois_a_free_1.cpg  \n",
      "  inflating: data/geofabrik/uganda-latest-free/gis_osm_pois_a_free_1.dbf  \n",
      "  inflating: data/geofabrik/uganda-latest-free/gis_osm_pois_a_free_1.prj  \n",
      "  inflating: data/geofabrik/uganda-latest-free/gis_osm_pois_a_free_1.shp  \n",
      "  inflating: data/geofabrik/uganda-latest-free/gis_osm_pois_a_free_1.shx  \n",
      " extracting: data/geofabrik/uganda-latest-free/gis_osm_pois_free_1.cpg  \n",
      "  inflating: data/geofabrik/uganda-latest-free/gis_osm_pois_free_1.dbf  \n",
      "  inflating: data/geofabrik/uganda-latest-free/gis_osm_pois_free_1.prj  \n",
      "  inflating: data/geofabrik/uganda-latest-free/gis_osm_pois_free_1.shp  \n",
      "  inflating: data/geofabrik/uganda-latest-free/gis_osm_pois_free_1.shx  \n",
      " extracting: data/geofabrik/uganda-latest-free/gis_osm_railways_free_1.cpg  \n",
      "  inflating: data/geofabrik/uganda-latest-free/gis_osm_railways_free_1.dbf  \n",
      "  inflating: data/geofabrik/uganda-latest-free/gis_osm_railways_free_1.prj  \n",
      "  inflating: data/geofabrik/uganda-latest-free/gis_osm_railways_free_1.shp  \n",
      "  inflating: data/geofabrik/uganda-latest-free/gis_osm_railways_free_1.shx  \n",
      " extracting: data/geofabrik/uganda-latest-free/gis_osm_roads_free_1.cpg  \n",
      "  inflating: data/geofabrik/uganda-latest-free/gis_osm_roads_free_1.dbf  \n",
      "  inflating: data/geofabrik/uganda-latest-free/gis_osm_roads_free_1.prj  \n",
      "  inflating: data/geofabrik/uganda-latest-free/gis_osm_roads_free_1.shp  \n",
      "  inflating: data/geofabrik/uganda-latest-free/gis_osm_roads_free_1.shx  \n",
      " extracting: data/geofabrik/uganda-latest-free/gis_osm_traffic_a_free_1.cpg  \n",
      "  inflating: data/geofabrik/uganda-latest-free/gis_osm_traffic_a_free_1.dbf  \n",
      "  inflating: data/geofabrik/uganda-latest-free/gis_osm_traffic_a_free_1.prj  \n",
      "  inflating: data/geofabrik/uganda-latest-free/gis_osm_traffic_a_free_1.shp  \n",
      "  inflating: data/geofabrik/uganda-latest-free/gis_osm_traffic_a_free_1.shx  \n",
      " extracting: data/geofabrik/uganda-latest-free/gis_osm_traffic_free_1.cpg  \n",
      "  inflating: data/geofabrik/uganda-latest-free/gis_osm_traffic_free_1.dbf  \n",
      "  inflating: data/geofabrik/uganda-latest-free/gis_osm_traffic_free_1.prj  \n",
      "  inflating: data/geofabrik/uganda-latest-free/gis_osm_traffic_free_1.shp  \n",
      "  inflating: data/geofabrik/uganda-latest-free/gis_osm_traffic_free_1.shx  \n",
      " extracting: data/geofabrik/uganda-latest-free/gis_osm_transport_a_free_1.cpg  \n",
      "  inflating: data/geofabrik/uganda-latest-free/gis_osm_transport_a_free_1.dbf  \n",
      "  inflating: data/geofabrik/uganda-latest-free/gis_osm_transport_a_free_1.prj  \n",
      "  inflating: data/geofabrik/uganda-latest-free/gis_osm_transport_a_free_1.shp  \n",
      "  inflating: data/geofabrik/uganda-latest-free/gis_osm_transport_a_free_1.shx  \n",
      " extracting: data/geofabrik/uganda-latest-free/gis_osm_transport_free_1.cpg  \n",
      "  inflating: data/geofabrik/uganda-latest-free/gis_osm_transport_free_1.dbf  \n",
      "  inflating: data/geofabrik/uganda-latest-free/gis_osm_transport_free_1.prj  \n",
      "  inflating: data/geofabrik/uganda-latest-free/gis_osm_transport_free_1.shp  \n",
      "  inflating: data/geofabrik/uganda-latest-free/gis_osm_transport_free_1.shx  \n",
      " extracting: data/geofabrik/uganda-latest-free/gis_osm_water_a_free_1.cpg  \n",
      "  inflating: data/geofabrik/uganda-latest-free/gis_osm_water_a_free_1.dbf  \n",
      "  inflating: data/geofabrik/uganda-latest-free/gis_osm_water_a_free_1.prj  \n",
      "  inflating: data/geofabrik/uganda-latest-free/gis_osm_water_a_free_1.shp  \n",
      "  inflating: data/geofabrik/uganda-latest-free/gis_osm_water_a_free_1.shx  \n",
      " extracting: data/geofabrik/uganda-latest-free/gis_osm_waterways_free_1.cpg  \n",
      "  inflating: data/geofabrik/uganda-latest-free/gis_osm_waterways_free_1.dbf  \n",
      "  inflating: data/geofabrik/uganda-latest-free/gis_osm_waterways_free_1.prj  \n",
      "  inflating: data/geofabrik/uganda-latest-free/gis_osm_waterways_free_1.shp  \n",
      "  inflating: data/geofabrik/uganda-latest-free/gis_osm_waterways_free_1.shx  \n"
     ]
    }
   ],
   "source": [
    "!mkdir -p data/geofabrik/uganda-latest-free\n",
    "!unzip data/geofabrik/uganda-latest-free.shp.zip -d data/geofabrik/uganda-latest-free\n",
    "!rm data/geofabrik/uganda-latest-free.shp.zip"
   ]
  },
  {
   "cell_type": "markdown",
   "metadata": {},
   "source": [
    "### Kenya"
   ]
  },
  {
   "cell_type": "code",
   "execution_count": 19,
   "metadata": {},
   "outputs": [
    {
     "name": "stdout",
     "output_type": "stream",
     "text": [
      "--2020-05-14 20:32:58--  https://download.geofabrik.de/africa/kenya-latest-free.shp.zip\n",
      "Resolving download.geofabrik.de (download.geofabrik.de)... 88.99.142.44, 116.202.112.212\n",
      "Connecting to download.geofabrik.de (download.geofabrik.de)|88.99.142.44|:443... connected.\n",
      "HTTP request sent, awaiting response... 200 OK\n",
      "Length: 380684810 (363M) [application/zip]\n",
      "Saving to: ‘data/geofabrik/kenya-latest-free.shp.zip’\n",
      "\n",
      "data/geofabrik/keny 100%[===================>] 363.05M  13.6MB/s    in 32s     \n",
      "\n",
      "2020-05-14 20:33:31 (11.3 MB/s) - ‘data/geofabrik/kenya-latest-free.shp.zip’ saved [380684810/380684810]\n",
      "\n"
     ]
    }
   ],
   "source": [
    "!wget https://download.geofabrik.de/africa/kenya-latest-free.shp.zip -O data/geofabrik/kenya-latest-free.shp.zip"
   ]
  },
  {
   "cell_type": "code",
   "execution_count": 20,
   "metadata": {},
   "outputs": [
    {
     "name": "stdout",
     "output_type": "stream",
     "text": [
      "Archive:  data/geofabrik/kenya-latest-free.shp.zip\n",
      "  inflating: data/geofabrik/kenya-latest-free/README  \n",
      " extracting: data/geofabrik/kenya-latest-free/gis_osm_buildings_a_free_1.cpg  \n",
      "  inflating: data/geofabrik/kenya-latest-free/gis_osm_buildings_a_free_1.dbf  \n",
      "  inflating: data/geofabrik/kenya-latest-free/gis_osm_buildings_a_free_1.prj  \n",
      "  inflating: data/geofabrik/kenya-latest-free/gis_osm_buildings_a_free_1.shp  \n",
      "  inflating: data/geofabrik/kenya-latest-free/gis_osm_buildings_a_free_1.shx  \n",
      " extracting: data/geofabrik/kenya-latest-free/gis_osm_landuse_a_free_1.cpg  \n",
      "  inflating: data/geofabrik/kenya-latest-free/gis_osm_landuse_a_free_1.dbf  \n",
      "  inflating: data/geofabrik/kenya-latest-free/gis_osm_landuse_a_free_1.prj  \n",
      "  inflating: data/geofabrik/kenya-latest-free/gis_osm_landuse_a_free_1.shp  \n",
      "  inflating: data/geofabrik/kenya-latest-free/gis_osm_landuse_a_free_1.shx  \n",
      " extracting: data/geofabrik/kenya-latest-free/gis_osm_natural_a_free_1.cpg  \n",
      "  inflating: data/geofabrik/kenya-latest-free/gis_osm_natural_a_free_1.dbf  \n",
      "  inflating: data/geofabrik/kenya-latest-free/gis_osm_natural_a_free_1.prj  \n",
      "  inflating: data/geofabrik/kenya-latest-free/gis_osm_natural_a_free_1.shp  \n",
      "  inflating: data/geofabrik/kenya-latest-free/gis_osm_natural_a_free_1.shx  \n",
      " extracting: data/geofabrik/kenya-latest-free/gis_osm_natural_free_1.cpg  \n",
      "  inflating: data/geofabrik/kenya-latest-free/gis_osm_natural_free_1.dbf  \n",
      "  inflating: data/geofabrik/kenya-latest-free/gis_osm_natural_free_1.prj  \n",
      "  inflating: data/geofabrik/kenya-latest-free/gis_osm_natural_free_1.shp  \n",
      "  inflating: data/geofabrik/kenya-latest-free/gis_osm_natural_free_1.shx  \n",
      " extracting: data/geofabrik/kenya-latest-free/gis_osm_places_a_free_1.cpg  \n",
      "  inflating: data/geofabrik/kenya-latest-free/gis_osm_places_a_free_1.dbf  \n",
      "  inflating: data/geofabrik/kenya-latest-free/gis_osm_places_a_free_1.prj  \n",
      "  inflating: data/geofabrik/kenya-latest-free/gis_osm_places_a_free_1.shp  \n",
      "  inflating: data/geofabrik/kenya-latest-free/gis_osm_places_a_free_1.shx  \n",
      " extracting: data/geofabrik/kenya-latest-free/gis_osm_places_free_1.cpg  \n",
      "  inflating: data/geofabrik/kenya-latest-free/gis_osm_places_free_1.dbf  \n",
      "  inflating: data/geofabrik/kenya-latest-free/gis_osm_places_free_1.prj  \n",
      "  inflating: data/geofabrik/kenya-latest-free/gis_osm_places_free_1.shp  \n",
      "  inflating: data/geofabrik/kenya-latest-free/gis_osm_places_free_1.shx  \n",
      " extracting: data/geofabrik/kenya-latest-free/gis_osm_pofw_a_free_1.cpg  \n",
      "  inflating: data/geofabrik/kenya-latest-free/gis_osm_pofw_a_free_1.dbf  \n",
      "  inflating: data/geofabrik/kenya-latest-free/gis_osm_pofw_a_free_1.prj  \n",
      "  inflating: data/geofabrik/kenya-latest-free/gis_osm_pofw_a_free_1.shp  \n",
      "  inflating: data/geofabrik/kenya-latest-free/gis_osm_pofw_a_free_1.shx  \n",
      " extracting: data/geofabrik/kenya-latest-free/gis_osm_pofw_free_1.cpg  \n",
      "  inflating: data/geofabrik/kenya-latest-free/gis_osm_pofw_free_1.dbf  \n",
      "  inflating: data/geofabrik/kenya-latest-free/gis_osm_pofw_free_1.prj  \n",
      "  inflating: data/geofabrik/kenya-latest-free/gis_osm_pofw_free_1.shp  \n",
      "  inflating: data/geofabrik/kenya-latest-free/gis_osm_pofw_free_1.shx  \n",
      " extracting: data/geofabrik/kenya-latest-free/gis_osm_pois_a_free_1.cpg  \n",
      "  inflating: data/geofabrik/kenya-latest-free/gis_osm_pois_a_free_1.dbf  \n",
      "  inflating: data/geofabrik/kenya-latest-free/gis_osm_pois_a_free_1.prj  \n",
      "  inflating: data/geofabrik/kenya-latest-free/gis_osm_pois_a_free_1.shp  \n",
      "  inflating: data/geofabrik/kenya-latest-free/gis_osm_pois_a_free_1.shx  \n",
      " extracting: data/geofabrik/kenya-latest-free/gis_osm_pois_free_1.cpg  \n",
      "  inflating: data/geofabrik/kenya-latest-free/gis_osm_pois_free_1.dbf  \n",
      "  inflating: data/geofabrik/kenya-latest-free/gis_osm_pois_free_1.prj  \n",
      "  inflating: data/geofabrik/kenya-latest-free/gis_osm_pois_free_1.shp  \n",
      "  inflating: data/geofabrik/kenya-latest-free/gis_osm_pois_free_1.shx  \n",
      " extracting: data/geofabrik/kenya-latest-free/gis_osm_railways_free_1.cpg  \n",
      "  inflating: data/geofabrik/kenya-latest-free/gis_osm_railways_free_1.dbf  \n",
      "  inflating: data/geofabrik/kenya-latest-free/gis_osm_railways_free_1.prj  \n",
      "  inflating: data/geofabrik/kenya-latest-free/gis_osm_railways_free_1.shp  \n",
      "  inflating: data/geofabrik/kenya-latest-free/gis_osm_railways_free_1.shx  \n",
      " extracting: data/geofabrik/kenya-latest-free/gis_osm_roads_free_1.cpg  \n",
      "  inflating: data/geofabrik/kenya-latest-free/gis_osm_roads_free_1.dbf  \n",
      "  inflating: data/geofabrik/kenya-latest-free/gis_osm_roads_free_1.prj  \n",
      "  inflating: data/geofabrik/kenya-latest-free/gis_osm_roads_free_1.shp  \n",
      "  inflating: data/geofabrik/kenya-latest-free/gis_osm_roads_free_1.shx  \n",
      " extracting: data/geofabrik/kenya-latest-free/gis_osm_traffic_a_free_1.cpg  \n",
      "  inflating: data/geofabrik/kenya-latest-free/gis_osm_traffic_a_free_1.dbf  \n",
      "  inflating: data/geofabrik/kenya-latest-free/gis_osm_traffic_a_free_1.prj  \n",
      "  inflating: data/geofabrik/kenya-latest-free/gis_osm_traffic_a_free_1.shp  \n",
      "  inflating: data/geofabrik/kenya-latest-free/gis_osm_traffic_a_free_1.shx  \n",
      " extracting: data/geofabrik/kenya-latest-free/gis_osm_traffic_free_1.cpg  \n",
      "  inflating: data/geofabrik/kenya-latest-free/gis_osm_traffic_free_1.dbf  \n",
      "  inflating: data/geofabrik/kenya-latest-free/gis_osm_traffic_free_1.prj  \n",
      "  inflating: data/geofabrik/kenya-latest-free/gis_osm_traffic_free_1.shp  \n",
      "  inflating: data/geofabrik/kenya-latest-free/gis_osm_traffic_free_1.shx  \n",
      " extracting: data/geofabrik/kenya-latest-free/gis_osm_transport_a_free_1.cpg  \n",
      "  inflating: data/geofabrik/kenya-latest-free/gis_osm_transport_a_free_1.dbf  \n",
      "  inflating: data/geofabrik/kenya-latest-free/gis_osm_transport_a_free_1.prj  \n",
      "  inflating: data/geofabrik/kenya-latest-free/gis_osm_transport_a_free_1.shp  \n",
      "  inflating: data/geofabrik/kenya-latest-free/gis_osm_transport_a_free_1.shx  \n",
      " extracting: data/geofabrik/kenya-latest-free/gis_osm_transport_free_1.cpg  \n",
      "  inflating: data/geofabrik/kenya-latest-free/gis_osm_transport_free_1.dbf  \n",
      "  inflating: data/geofabrik/kenya-latest-free/gis_osm_transport_free_1.prj  \n",
      "  inflating: data/geofabrik/kenya-latest-free/gis_osm_transport_free_1.shp  \n",
      "  inflating: data/geofabrik/kenya-latest-free/gis_osm_transport_free_1.shx  \n",
      " extracting: data/geofabrik/kenya-latest-free/gis_osm_water_a_free_1.cpg  \n",
      "  inflating: data/geofabrik/kenya-latest-free/gis_osm_water_a_free_1.dbf  \n",
      "  inflating: data/geofabrik/kenya-latest-free/gis_osm_water_a_free_1.prj  \n",
      "  inflating: data/geofabrik/kenya-latest-free/gis_osm_water_a_free_1.shp  \n",
      "  inflating: data/geofabrik/kenya-latest-free/gis_osm_water_a_free_1.shx  \n",
      " extracting: data/geofabrik/kenya-latest-free/gis_osm_waterways_free_1.cpg  \n",
      "  inflating: data/geofabrik/kenya-latest-free/gis_osm_waterways_free_1.dbf  \n",
      "  inflating: data/geofabrik/kenya-latest-free/gis_osm_waterways_free_1.prj  \n",
      "  inflating: data/geofabrik/kenya-latest-free/gis_osm_waterways_free_1.shp  \n",
      "  inflating: data/geofabrik/kenya-latest-free/gis_osm_waterways_free_1.shx  \n"
     ]
    }
   ],
   "source": [
    "!mkdir -p data/geofabrik/kenya-latest-free\n",
    "!unzip data/geofabrik/kenya-latest-free.shp.zip -d data/geofabrik/kenya-latest-free\n",
    "!rm data/geofabrik/kenya-latest-free.shp.zip"
   ]
  },
  {
   "cell_type": "markdown",
   "metadata": {},
   "source": [
    "### Tanzania"
   ]
  },
  {
   "cell_type": "code",
   "execution_count": 21,
   "metadata": {},
   "outputs": [
    {
     "name": "stdout",
     "output_type": "stream",
     "text": [
      "--2020-05-14 20:34:52--  https://download.geofabrik.de/africa/tanzania-latest-free.shp.zip\n",
      "Resolving download.geofabrik.de (download.geofabrik.de)... 88.99.142.44, 116.202.112.212\n",
      "Connecting to download.geofabrik.de (download.geofabrik.de)|88.99.142.44|:443... connected.\n",
      "HTTP request sent, awaiting response... 200 OK\n",
      "Length: 1204677935 (1.1G) [application/zip]\n",
      "Saving to: ‘data/geofabrik/tanzania-latest-free.shp.zip’\n",
      "\n",
      "data/geofabrik/tanz 100%[===================>]   1.12G  13.7MB/s    in 90s     \n",
      "\n",
      "2020-05-14 20:36:25 (12.8 MB/s) - ‘data/geofabrik/tanzania-latest-free.shp.zip’ saved [1204677935/1204677935]\n",
      "\n"
     ]
    }
   ],
   "source": [
    "!wget https://download.geofabrik.de/africa/tanzania-latest-free.shp.zip -O data/geofabrik/tanzania-latest-free.shp.zip"
   ]
  },
  {
   "cell_type": "code",
   "execution_count": 22,
   "metadata": {},
   "outputs": [
    {
     "name": "stdout",
     "output_type": "stream",
     "text": [
      "Archive:  data/geofabrik/tanzania-latest-free.shp.zip\n",
      "  inflating: data/geofabrik/tanzania-latest-free/README  \n",
      " extracting: data/geofabrik/tanzania-latest-free/gis_osm_buildings_a_free_1.cpg  \n",
      "  inflating: data/geofabrik/tanzania-latest-free/gis_osm_buildings_a_free_1.dbf  \n",
      "  inflating: data/geofabrik/tanzania-latest-free/gis_osm_buildings_a_free_1.prj  \n",
      "  inflating: data/geofabrik/tanzania-latest-free/gis_osm_buildings_a_free_1.shp  \n",
      "  inflating: data/geofabrik/tanzania-latest-free/gis_osm_buildings_a_free_1.shx  \n",
      " extracting: data/geofabrik/tanzania-latest-free/gis_osm_landuse_a_free_1.cpg  \n",
      "  inflating: data/geofabrik/tanzania-latest-free/gis_osm_landuse_a_free_1.dbf  \n",
      "  inflating: data/geofabrik/tanzania-latest-free/gis_osm_landuse_a_free_1.prj  \n",
      "  inflating: data/geofabrik/tanzania-latest-free/gis_osm_landuse_a_free_1.shp  \n",
      "  inflating: data/geofabrik/tanzania-latest-free/gis_osm_landuse_a_free_1.shx  \n",
      " extracting: data/geofabrik/tanzania-latest-free/gis_osm_natural_a_free_1.cpg  \n",
      "  inflating: data/geofabrik/tanzania-latest-free/gis_osm_natural_a_free_1.dbf  \n",
      "  inflating: data/geofabrik/tanzania-latest-free/gis_osm_natural_a_free_1.prj  \n",
      "  inflating: data/geofabrik/tanzania-latest-free/gis_osm_natural_a_free_1.shp  \n",
      "  inflating: data/geofabrik/tanzania-latest-free/gis_osm_natural_a_free_1.shx  \n",
      " extracting: data/geofabrik/tanzania-latest-free/gis_osm_natural_free_1.cpg  \n",
      "  inflating: data/geofabrik/tanzania-latest-free/gis_osm_natural_free_1.dbf  \n",
      "  inflating: data/geofabrik/tanzania-latest-free/gis_osm_natural_free_1.prj  \n",
      "  inflating: data/geofabrik/tanzania-latest-free/gis_osm_natural_free_1.shp  \n",
      "  inflating: data/geofabrik/tanzania-latest-free/gis_osm_natural_free_1.shx  \n",
      " extracting: data/geofabrik/tanzania-latest-free/gis_osm_places_a_free_1.cpg  \n",
      "  inflating: data/geofabrik/tanzania-latest-free/gis_osm_places_a_free_1.dbf  \n",
      "  inflating: data/geofabrik/tanzania-latest-free/gis_osm_places_a_free_1.prj  \n",
      "  inflating: data/geofabrik/tanzania-latest-free/gis_osm_places_a_free_1.shp  \n",
      "  inflating: data/geofabrik/tanzania-latest-free/gis_osm_places_a_free_1.shx  \n",
      " extracting: data/geofabrik/tanzania-latest-free/gis_osm_places_free_1.cpg  \n",
      "  inflating: data/geofabrik/tanzania-latest-free/gis_osm_places_free_1.dbf  \n",
      "  inflating: data/geofabrik/tanzania-latest-free/gis_osm_places_free_1.prj  \n",
      "  inflating: data/geofabrik/tanzania-latest-free/gis_osm_places_free_1.shp  \n",
      "  inflating: data/geofabrik/tanzania-latest-free/gis_osm_places_free_1.shx  \n",
      " extracting: data/geofabrik/tanzania-latest-free/gis_osm_pofw_a_free_1.cpg  \n",
      "  inflating: data/geofabrik/tanzania-latest-free/gis_osm_pofw_a_free_1.dbf  \n",
      "  inflating: data/geofabrik/tanzania-latest-free/gis_osm_pofw_a_free_1.prj  \n",
      "  inflating: data/geofabrik/tanzania-latest-free/gis_osm_pofw_a_free_1.shp  \n",
      "  inflating: data/geofabrik/tanzania-latest-free/gis_osm_pofw_a_free_1.shx  \n",
      " extracting: data/geofabrik/tanzania-latest-free/gis_osm_pofw_free_1.cpg  \n",
      "  inflating: data/geofabrik/tanzania-latest-free/gis_osm_pofw_free_1.dbf  \n",
      "  inflating: data/geofabrik/tanzania-latest-free/gis_osm_pofw_free_1.prj  \n",
      "  inflating: data/geofabrik/tanzania-latest-free/gis_osm_pofw_free_1.shp  \n",
      "  inflating: data/geofabrik/tanzania-latest-free/gis_osm_pofw_free_1.shx  \n",
      " extracting: data/geofabrik/tanzania-latest-free/gis_osm_pois_a_free_1.cpg  \n",
      "  inflating: data/geofabrik/tanzania-latest-free/gis_osm_pois_a_free_1.dbf  \n",
      "  inflating: data/geofabrik/tanzania-latest-free/gis_osm_pois_a_free_1.prj  \n",
      "  inflating: data/geofabrik/tanzania-latest-free/gis_osm_pois_a_free_1.shp  \n",
      "  inflating: data/geofabrik/tanzania-latest-free/gis_osm_pois_a_free_1.shx  \n",
      " extracting: data/geofabrik/tanzania-latest-free/gis_osm_pois_free_1.cpg  \n",
      "  inflating: data/geofabrik/tanzania-latest-free/gis_osm_pois_free_1.dbf  \n",
      "  inflating: data/geofabrik/tanzania-latest-free/gis_osm_pois_free_1.prj  \n",
      "  inflating: data/geofabrik/tanzania-latest-free/gis_osm_pois_free_1.shp  \n",
      "  inflating: data/geofabrik/tanzania-latest-free/gis_osm_pois_free_1.shx  \n",
      " extracting: data/geofabrik/tanzania-latest-free/gis_osm_railways_free_1.cpg  \n",
      "  inflating: data/geofabrik/tanzania-latest-free/gis_osm_railways_free_1.dbf  \n",
      "  inflating: data/geofabrik/tanzania-latest-free/gis_osm_railways_free_1.prj  \n",
      "  inflating: data/geofabrik/tanzania-latest-free/gis_osm_railways_free_1.shp  \n",
      "  inflating: data/geofabrik/tanzania-latest-free/gis_osm_railways_free_1.shx  \n",
      " extracting: data/geofabrik/tanzania-latest-free/gis_osm_roads_free_1.cpg  \n",
      "  inflating: data/geofabrik/tanzania-latest-free/gis_osm_roads_free_1.dbf  \n",
      "  inflating: data/geofabrik/tanzania-latest-free/gis_osm_roads_free_1.prj  \n",
      "  inflating: data/geofabrik/tanzania-latest-free/gis_osm_roads_free_1.shp  \n",
      "  inflating: data/geofabrik/tanzania-latest-free/gis_osm_roads_free_1.shx  \n",
      " extracting: data/geofabrik/tanzania-latest-free/gis_osm_traffic_a_free_1.cpg  \n",
      "  inflating: data/geofabrik/tanzania-latest-free/gis_osm_traffic_a_free_1.dbf  \n",
      "  inflating: data/geofabrik/tanzania-latest-free/gis_osm_traffic_a_free_1.prj  \n",
      "  inflating: data/geofabrik/tanzania-latest-free/gis_osm_traffic_a_free_1.shp  \n",
      "  inflating: data/geofabrik/tanzania-latest-free/gis_osm_traffic_a_free_1.shx  \n",
      " extracting: data/geofabrik/tanzania-latest-free/gis_osm_traffic_free_1.cpg  \n",
      "  inflating: data/geofabrik/tanzania-latest-free/gis_osm_traffic_free_1.dbf  \n",
      "  inflating: data/geofabrik/tanzania-latest-free/gis_osm_traffic_free_1.prj  \n",
      "  inflating: data/geofabrik/tanzania-latest-free/gis_osm_traffic_free_1.shp  \n",
      "  inflating: data/geofabrik/tanzania-latest-free/gis_osm_traffic_free_1.shx  \n",
      " extracting: data/geofabrik/tanzania-latest-free/gis_osm_transport_a_free_1.cpg  \n",
      "  inflating: data/geofabrik/tanzania-latest-free/gis_osm_transport_a_free_1.dbf  \n",
      "  inflating: data/geofabrik/tanzania-latest-free/gis_osm_transport_a_free_1.prj  \n",
      "  inflating: data/geofabrik/tanzania-latest-free/gis_osm_transport_a_free_1.shp  \n",
      "  inflating: data/geofabrik/tanzania-latest-free/gis_osm_transport_a_free_1.shx  \n",
      " extracting: data/geofabrik/tanzania-latest-free/gis_osm_transport_free_1.cpg  \n",
      "  inflating: data/geofabrik/tanzania-latest-free/gis_osm_transport_free_1.dbf  \n",
      "  inflating: data/geofabrik/tanzania-latest-free/gis_osm_transport_free_1.prj  \n",
      "  inflating: data/geofabrik/tanzania-latest-free/gis_osm_transport_free_1.shp  \n",
      "  inflating: data/geofabrik/tanzania-latest-free/gis_osm_transport_free_1.shx  \n",
      " extracting: data/geofabrik/tanzania-latest-free/gis_osm_water_a_free_1.cpg  \n",
      "  inflating: data/geofabrik/tanzania-latest-free/gis_osm_water_a_free_1.dbf  \n",
      "  inflating: data/geofabrik/tanzania-latest-free/gis_osm_water_a_free_1.prj  \n",
      "  inflating: data/geofabrik/tanzania-latest-free/gis_osm_water_a_free_1.shp  \n",
      "  inflating: data/geofabrik/tanzania-latest-free/gis_osm_water_a_free_1.shx  \n",
      " extracting: data/geofabrik/tanzania-latest-free/gis_osm_waterways_free_1.cpg  \n",
      "  inflating: data/geofabrik/tanzania-latest-free/gis_osm_waterways_free_1.dbf  \n",
      "  inflating: data/geofabrik/tanzania-latest-free/gis_osm_waterways_free_1.prj  \n",
      "  inflating: data/geofabrik/tanzania-latest-free/gis_osm_waterways_free_1.shp  \n",
      "  inflating: data/geofabrik/tanzania-latest-free/gis_osm_waterways_free_1.shx  \n"
     ]
    }
   ],
   "source": [
    "!mkdir -p data/geofabrik/tanzania-latest-free\n",
    "!unzip data/geofabrik/tanzania-latest-free.shp.zip -d data/geofabrik/tanzania-latest-free\n",
    "!rm data/geofabrik/tanzania-latest-free.shp.zip"
   ]
  },
  {
   "cell_type": "code",
   "execution_count": null,
   "metadata": {},
   "outputs": [],
   "source": []
  }
 ],
 "metadata": {
  "kernelspec": {
   "display_name": "Python 3",
   "language": "python",
   "name": "python3"
  },
  "language_info": {
   "codemirror_mode": {
    "name": "ipython",
    "version": 3
   },
   "file_extension": ".py",
   "mimetype": "text/x-python",
   "name": "python",
   "nbconvert_exporter": "python",
   "pygments_lexer": "ipython3",
   "version": "3.7.6"
  }
 },
 "nbformat": 4,
 "nbformat_minor": 4
}
