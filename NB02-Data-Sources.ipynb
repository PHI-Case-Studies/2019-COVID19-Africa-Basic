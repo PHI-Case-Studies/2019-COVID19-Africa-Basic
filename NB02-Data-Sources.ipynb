{
 "cells": [
  {
   "cell_type": "markdown",
   "metadata": {},
   "source": [
    "## COVID Case Data"
   ]
  },
  {
   "cell_type": "code",
   "execution_count": 2,
   "metadata": {},
   "outputs": [
    {
     "name": "stdout",
     "output_type": "stream",
     "text": [
      "--2020-05-15 20:40:52--  https://opendata.arcgis.com/datasets/bbb2e4f589ba40d692fab712ae37b9ac_2.csv\n",
      "Resolving opendata.arcgis.com (opendata.arcgis.com)... 34.237.57.61, 3.230.6.45, 54.175.112.208\n",
      "Connecting to opendata.arcgis.com (opendata.arcgis.com)|34.237.57.61|:443... connected.\n",
      "HTTP request sent, awaiting response... 200 OK\n",
      "Length: unspecified [text/csv]\n",
      "Saving to: ‘data/countrycases.csv’\n",
      "\n",
      "data/countrycases.c     [ <=>                ]  14.98K  --.-KB/s    in 0s      \n",
      "\n",
      "2020-05-15 20:40:53 (75.7 MB/s) - ‘data/countrycases.csv’ saved [15337]\n",
      "\n"
     ]
    }
   ],
   "source": [
    "!wget https://opendata.arcgis.com/datasets/bbb2e4f589ba40d692fab712ae37b9ac_2.csv -O data/countrycases.csv"
   ]
  },
  {
   "cell_type": "markdown",
   "metadata": {},
   "source": [
    "## COVID Cases Time Series"
   ]
  },
  {
   "cell_type": "markdown",
   "metadata": {},
   "source": [
    "### Narrow CSV"
   ]
  },
  {
   "cell_type": "code",
   "execution_count": 1,
   "metadata": {},
   "outputs": [
    {
     "name": "stdout",
     "output_type": "stream",
     "text": [
      "--2020-05-15 13:17:29--  https://data.humdata.org/hxlproxy/data/download/time_series_covid19_confirmed_global_narrow.csv?dest=data_edit&filter01=explode&explode-header-att01=date&explode-value-att01=value&filter02=rename&rename-oldtag02=%23affected%2Bdate&rename-newtag02=%23date&rename-header02=Date&filter03=rename&rename-oldtag03=%23affected%2Bvalue&rename-newtag03=%23affected%2Binfected%2Bvalue%2Bnum&rename-header03=Value&filter04=clean&clean-date-tags04=%23date&filter05=sort&sort-tags05=%23date&sort-reverse05=on&filter06=sort&sort-tags06=%23country%2Bname%2C%23adm1%2Bname&tagger-match-all=on&tagger-default-tag=%23affected%2Blabel&tagger-01-header=province%2Fstate&tagger-01-tag=%23adm1%2Bname&tagger-02-header=country%2Fregion&tagger-02-tag=%23country%2Bname&tagger-03-header=lat&tagger-03-tag=%23geo%2Blat&tagger-04-header=long&tagger-04-tag=%23geo%2Blon&header-row=1&url=https%3A%2F%2Fraw.githubusercontent.com%2FCSSEGISandData%2FCOVID-19%2Fmaster%2Fcsse_covid_19_data%2Fcsse_covid_19_time_series%2Ftime_series_covid19_confirmed_global.csv\n",
      "Resolving data.humdata.org (data.humdata.org)... 54.161.199.142, 34.206.254.225, 3.227.32.143\n",
      "Connecting to data.humdata.org (data.humdata.org)|54.161.199.142|:443... connected.\n",
      "HTTP request sent, awaiting response... 200 OK\n",
      "Length: 1344831 (1.3M) [text/csv]\n",
      "Saving to: ‘data/time_series_covid19_deaths_global_narrow.csv’\n",
      "\n",
      "data/time_series_co 100%[===================>]   1.28M  1.65MB/s    in 0.8s    \n",
      "\n",
      "2020-05-15 13:17:36 (1.65 MB/s) - ‘data/time_series_covid19_deaths_global_narrow.csv’ saved [1344831/1344831]\n",
      "\n"
     ]
    }
   ],
   "source": [
    "!wget 'https://data.humdata.org/hxlproxy/data/download/time_series_covid19_confirmed_global_narrow.csv?dest=data_edit&filter01=explode&explode-header-att01=date&explode-value-att01=value&filter02=rename&rename-oldtag02=%23affected%2Bdate&rename-newtag02=%23date&rename-header02=Date&filter03=rename&rename-oldtag03=%23affected%2Bvalue&rename-newtag03=%23affected%2Binfected%2Bvalue%2Bnum&rename-header03=Value&filter04=clean&clean-date-tags04=%23date&filter05=sort&sort-tags05=%23date&sort-reverse05=on&filter06=sort&sort-tags06=%23country%2Bname%2C%23adm1%2Bname&tagger-match-all=on&tagger-default-tag=%23affected%2Blabel&tagger-01-header=province%2Fstate&tagger-01-tag=%23adm1%2Bname&tagger-02-header=country%2Fregion&tagger-02-tag=%23country%2Bname&tagger-03-header=lat&tagger-03-tag=%23geo%2Blat&tagger-04-header=long&tagger-04-tag=%23geo%2Blon&header-row=1&url=https%3A%2F%2Fraw.githubusercontent.com%2FCSSEGISandData%2FCOVID-19%2Fmaster%2Fcsse_covid_19_data%2Fcsse_covid_19_time_series%2Ftime_series_covid19_confirmed_global.csv' -O data/time_series_covid19_deaths_global_narrow.csv"
   ]
  },
  {
   "cell_type": "markdown",
   "metadata": {},
   "source": [
    "## Covid Deaths Time Series"
   ]
  },
  {
   "cell_type": "code",
   "execution_count": 26,
   "metadata": {},
   "outputs": [
    {
     "name": "stdout",
     "output_type": "stream",
     "text": [
      "--2020-05-16 22:29:45--  https://data.humdata.org/hxlproxy/data/download/time_series_covid19_deaths_global_narrow.csv?dest=data_edit&filter01=explode&explode-header-att01=date&explode-value-att01=value&filter02=rename&rename-oldtag02=%23affected%2Bdate&rename-newtag02=%23date&rename-header02=Date&filter03=rename&rename-oldtag03=%23affected%2Bvalue&rename-newtag03=%23affected%2Binfected%2Bvalue%2Bnum&rename-header03=Value&filter04=clean&clean-date-tags04=%23date&filter05=sort&sort-tags05=%23date&sort-reverse05=on&filter06=sort&sort-tags06=%23country%2Bname%2C%23adm1%2Bname&tagger-match-all=on&tagger-default-tag=%23affected%2Blabel&tagger-01-header=province%2Fstate&tagger-01-tag=%23adm1%2Bname&tagger-02-header=country%2Fregion&tagger-02-tag=%23country%2Bname&tagger-03-header=lat&tagger-03-tag=%23geo%2Blat&tagger-04-header=long&tagger-04-tag=%23geo%2Blon&header-row=1&url=https%3A%2F%2Fraw.githubusercontent.com%2FCSSEGISandData%2FCOVID-19%2Fmaster%2Fcsse_covid_19_data%2Fcsse_covid_19_time_series%2Ftime_series_covid19_deaths_global.csv\n",
      "Resolving data.humdata.org (data.humdata.org)... 54.161.199.142, 34.206.254.225, 3.227.32.143\n",
      "Connecting to data.humdata.org (data.humdata.org)|54.161.199.142|:443... connected.\n",
      "HTTP request sent, awaiting response... 200 OK\n",
      "Length: 1343114 (1.3M) [text/csv]\n",
      "Saving to: ‘data/Deaths.csv’\n",
      "\n",
      "data/Deaths.csv     100%[===================>]   1.28M   272KB/s    in 4.9s    \n",
      "\n",
      "2020-05-16 22:29:56 (270 KB/s) - ‘data/Deaths.csv’ saved [1343114/1343114]\n",
      "\n"
     ]
    }
   ],
   "source": [
    "!wget 'https://data.humdata.org/hxlproxy/data/download/time_series_covid19_deaths_global_narrow.csv?dest=data_edit&filter01=explode&explode-header-att01=date&explode-value-att01=value&filter02=rename&rename-oldtag02=%23affected%2Bdate&rename-newtag02=%23date&rename-header02=Date&filter03=rename&rename-oldtag03=%23affected%2Bvalue&rename-newtag03=%23affected%2Binfected%2Bvalue%2Bnum&rename-header03=Value&filter04=clean&clean-date-tags04=%23date&filter05=sort&sort-tags05=%23date&sort-reverse05=on&filter06=sort&sort-tags06=%23country%2Bname%2C%23adm1%2Bname&tagger-match-all=on&tagger-default-tag=%23affected%2Blabel&tagger-01-header=province%2Fstate&tagger-01-tag=%23adm1%2Bname&tagger-02-header=country%2Fregion&tagger-02-tag=%23country%2Bname&tagger-03-header=lat&tagger-03-tag=%23geo%2Blat&tagger-04-header=long&tagger-04-tag=%23geo%2Blon&header-row=1&url=https%3A%2F%2Fraw.githubusercontent.com%2FCSSEGISandData%2FCOVID-19%2Fmaster%2Fcsse_covid_19_data%2Fcsse_covid_19_time_series%2Ftime_series_covid19_deaths_global.csv' -O data/Deaths.csv  "
   ]
  },
  {
   "cell_type": "markdown",
   "metadata": {},
   "source": [
    "## Armed Conflict Locations"
   ]
  },
  {
   "cell_type": "code",
   "execution_count": 1,
   "metadata": {},
   "outputs": [
    {
     "name": "stdout",
     "output_type": "stream",
     "text": [
      "--2020-05-13 17:05:21--  https://acleddata.com/download/2909/\n",
      "Resolving acleddata.com (acleddata.com)... 104.22.67.92, 104.22.66.92, 2606:4700:10::6816:435c, ...\n",
      "Connecting to acleddata.com (acleddata.com)|104.22.67.92|:443... connected.\n",
      "HTTP request sent, awaiting response... 200 OK\n",
      "Length: 34698472 (33M) [application/vnd.openxmlformats-officedocument.spreadsheetml.sheet]\n",
      "Saving to: ‘data/africa-conflict.xlsx’\n",
      "\n",
      "data/africa-conflic 100%[===================>]  33.09M  11.0MB/s    in 3.0s    \n",
      "\n",
      "2020-05-13 17:05:27 (11.0 MB/s) - ‘data/africa-conflict.xlsx’ saved [34698472/34698472]\n",
      "\n"
     ]
    }
   ],
   "source": [
    "!wget https://acleddata.com/download/2909/ -O data/africa-conflict.xlsx"
   ]
  },
  {
   "cell_type": "markdown",
   "metadata": {},
   "source": [
    "## Google Mobility Data"
   ]
  },
  {
   "cell_type": "code",
   "execution_count": 2,
   "metadata": {},
   "outputs": [
    {
     "name": "stdout",
     "output_type": "stream",
     "text": [
      "--2020-05-17 14:31:11--  https://www.gstatic.com/covid19/mobility/Global_Mobility_Report.csv?cachebust=9cfdda8c20841ad1\n",
      "Resolving www.gstatic.com (www.gstatic.com)... 172.217.16.163, 2a00:1450:4001:806::2003\n",
      "Connecting to www.gstatic.com (www.gstatic.com)|172.217.16.163|:443... connected.\n",
      "HTTP request sent, awaiting response... 200 OK\n",
      "Length: 21175373 (20M) [text/csv]\n",
      "Saving to: ‘data/Global_Mobility_Report.csv’\n",
      "\n",
      "data/Global_Mobilit 100%[===================>]  20.19M  46.7MB/s    in 0.4s    \n",
      "\n",
      "2020-05-17 14:31:12 (46.7 MB/s) - ‘data/Global_Mobility_Report.csv’ saved [21175373/21175373]\n",
      "\n"
     ]
    }
   ],
   "source": [
    "!wget https://www.gstatic.com/covid19/mobility/Global_Mobility_Report.csv?cachebust=9cfdda8c20841ad1 -O data/Global_Mobility_Report.csv"
   ]
  },
  {
   "cell_type": "markdown",
   "metadata": {},
   "source": [
    "## Building Footprints"
   ]
  },
  {
   "cell_type": "code",
   "execution_count": 11,
   "metadata": {},
   "outputs": [],
   "source": [
    "!mkdir -p data/geofabrik/"
   ]
  },
  {
   "cell_type": "markdown",
   "metadata": {},
   "source": [
    "### Uganda"
   ]
  },
  {
   "cell_type": "code",
   "execution_count": 23,
   "metadata": {},
   "outputs": [
    {
     "name": "stdout",
     "output_type": "stream",
     "text": [
      "--2020-05-14 20:37:27--  https://download.geofabrik.de/africa/uganda-latest-free.shp.zip\n",
      "Resolving download.geofabrik.de (download.geofabrik.de)... 116.202.112.212, 88.99.142.44\n",
      "Connecting to download.geofabrik.de (download.geofabrik.de)|116.202.112.212|:443... connected.\n",
      "HTTP request sent, awaiting response... 200 OK\n",
      "Length: 587519908 (560M) [application/zip]\n",
      "Saving to: ‘data/geofabrik/uganda-latest-free.shp.zip’\n",
      "\n",
      "data/geofabrik/ugan 100%[===================>] 560.30M  11.4MB/s    in 40s     \n",
      "\n",
      "2020-05-14 20:38:09 (13.9 MB/s) - ‘data/geofabrik/uganda-latest-free.shp.zip’ saved [587519908/587519908]\n",
      "\n"
     ]
    }
   ],
   "source": [
    "!wget https://download.geofabrik.de/africa/uganda-latest-free.shp.zip -O data/geofabrik/uganda-latest-free.shp.zip"
   ]
  },
  {
   "cell_type": "code",
   "execution_count": 24,
   "metadata": {},
   "outputs": [
    {
     "name": "stdout",
     "output_type": "stream",
     "text": [
      "Archive:  data/geofabrik/uganda-latest-free.shp.zip\n",
      "  inflating: data/geofabrik/uganda-latest-free/README  \n",
      " extracting: data/geofabrik/uganda-latest-free/gis_osm_buildings_a_free_1.cpg  \n",
      "  inflating: data/geofabrik/uganda-latest-free/gis_osm_buildings_a_free_1.dbf  \n",
      "  inflating: data/geofabrik/uganda-latest-free/gis_osm_buildings_a_free_1.prj  \n",
      "  inflating: data/geofabrik/uganda-latest-free/gis_osm_buildings_a_free_1.shp  \n",
      "  inflating: data/geofabrik/uganda-latest-free/gis_osm_buildings_a_free_1.shx  \n",
      " extracting: data/geofabrik/uganda-latest-free/gis_osm_landuse_a_free_1.cpg  \n",
      "  inflating: data/geofabrik/uganda-latest-free/gis_osm_landuse_a_free_1.dbf  \n",
      "  inflating: data/geofabrik/uganda-latest-free/gis_osm_landuse_a_free_1.prj  \n",
      "  inflating: data/geofabrik/uganda-latest-free/gis_osm_landuse_a_free_1.shp  \n",
      "  inflating: data/geofabrik/uganda-latest-free/gis_osm_landuse_a_free_1.shx  \n",
      " extracting: data/geofabrik/uganda-latest-free/gis_osm_natural_a_free_1.cpg  \n",
      "  inflating: data/geofabrik/uganda-latest-free/gis_osm_natural_a_free_1.dbf  \n",
      "  inflating: data/geofabrik/uganda-latest-free/gis_osm_natural_a_free_1.prj  \n",
      "  inflating: data/geofabrik/uganda-latest-free/gis_osm_natural_a_free_1.shp  \n",
      "  inflating: data/geofabrik/uganda-latest-free/gis_osm_natural_a_free_1.shx  \n",
      " extracting: data/geofabrik/uganda-latest-free/gis_osm_natural_free_1.cpg  \n",
      "  inflating: data/geofabrik/uganda-latest-free/gis_osm_natural_free_1.dbf  \n",
      "  inflating: data/geofabrik/uganda-latest-free/gis_osm_natural_free_1.prj  \n",
      "  inflating: data/geofabrik/uganda-latest-free/gis_osm_natural_free_1.shp  \n",
      "  inflating: data/geofabrik/uganda-latest-free/gis_osm_natural_free_1.shx  \n",
      " extracting: data/geofabrik/uganda-latest-free/gis_osm_places_a_free_1.cpg  \n",
      "  inflating: data/geofabrik/uganda-latest-free/gis_osm_places_a_free_1.dbf  \n",
      "  inflating: data/geofabrik/uganda-latest-free/gis_osm_places_a_free_1.prj  \n",
      "  inflating: data/geofabrik/uganda-latest-free/gis_osm_places_a_free_1.shp  \n",
      "  inflating: data/geofabrik/uganda-latest-free/gis_osm_places_a_free_1.shx  \n",
      " extracting: data/geofabrik/uganda-latest-free/gis_osm_places_free_1.cpg  \n",
      "  inflating: data/geofabrik/uganda-latest-free/gis_osm_places_free_1.dbf  \n",
      "  inflating: data/geofabrik/uganda-latest-free/gis_osm_places_free_1.prj  \n",
      "  inflating: data/geofabrik/uganda-latest-free/gis_osm_places_free_1.shp  \n",
      "  inflating: data/geofabrik/uganda-latest-free/gis_osm_places_free_1.shx  \n",
      " extracting: data/geofabrik/uganda-latest-free/gis_osm_pofw_a_free_1.cpg  \n",
      "  inflating: data/geofabrik/uganda-latest-free/gis_osm_pofw_a_free_1.dbf  \n",
      "  inflating: data/geofabrik/uganda-latest-free/gis_osm_pofw_a_free_1.prj  \n",
      "  inflating: data/geofabrik/uganda-latest-free/gis_osm_pofw_a_free_1.shp  \n",
      "  inflating: data/geofabrik/uganda-latest-free/gis_osm_pofw_a_free_1.shx  \n",
      " extracting: data/geofabrik/uganda-latest-free/gis_osm_pofw_free_1.cpg  \n",
      "  inflating: data/geofabrik/uganda-latest-free/gis_osm_pofw_free_1.dbf  \n",
      "  inflating: data/geofabrik/uganda-latest-free/gis_osm_pofw_free_1.prj  \n",
      "  inflating: data/geofabrik/uganda-latest-free/gis_osm_pofw_free_1.shp  \n",
      "  inflating: data/geofabrik/uganda-latest-free/gis_osm_pofw_free_1.shx  \n",
      " extracting: data/geofabrik/uganda-latest-free/gis_osm_pois_a_free_1.cpg  \n",
      "  inflating: data/geofabrik/uganda-latest-free/gis_osm_pois_a_free_1.dbf  \n",
      "  inflating: data/geofabrik/uganda-latest-free/gis_osm_pois_a_free_1.prj  \n",
      "  inflating: data/geofabrik/uganda-latest-free/gis_osm_pois_a_free_1.shp  \n",
      "  inflating: data/geofabrik/uganda-latest-free/gis_osm_pois_a_free_1.shx  \n",
      " extracting: data/geofabrik/uganda-latest-free/gis_osm_pois_free_1.cpg  \n",
      "  inflating: data/geofabrik/uganda-latest-free/gis_osm_pois_free_1.dbf  \n",
      "  inflating: data/geofabrik/uganda-latest-free/gis_osm_pois_free_1.prj  \n",
      "  inflating: data/geofabrik/uganda-latest-free/gis_osm_pois_free_1.shp  \n",
      "  inflating: data/geofabrik/uganda-latest-free/gis_osm_pois_free_1.shx  \n",
      " extracting: data/geofabrik/uganda-latest-free/gis_osm_railways_free_1.cpg  \n",
      "  inflating: data/geofabrik/uganda-latest-free/gis_osm_railways_free_1.dbf  \n",
      "  inflating: data/geofabrik/uganda-latest-free/gis_osm_railways_free_1.prj  \n",
      "  inflating: data/geofabrik/uganda-latest-free/gis_osm_railways_free_1.shp  \n",
      "  inflating: data/geofabrik/uganda-latest-free/gis_osm_railways_free_1.shx  \n",
      " extracting: data/geofabrik/uganda-latest-free/gis_osm_roads_free_1.cpg  \n",
      "  inflating: data/geofabrik/uganda-latest-free/gis_osm_roads_free_1.dbf  \n",
      "  inflating: data/geofabrik/uganda-latest-free/gis_osm_roads_free_1.prj  \n",
      "  inflating: data/geofabrik/uganda-latest-free/gis_osm_roads_free_1.shp  \n",
      "  inflating: data/geofabrik/uganda-latest-free/gis_osm_roads_free_1.shx  \n",
      " extracting: data/geofabrik/uganda-latest-free/gis_osm_traffic_a_free_1.cpg  \n",
      "  inflating: data/geofabrik/uganda-latest-free/gis_osm_traffic_a_free_1.dbf  \n",
      "  inflating: data/geofabrik/uganda-latest-free/gis_osm_traffic_a_free_1.prj  \n",
      "  inflating: data/geofabrik/uganda-latest-free/gis_osm_traffic_a_free_1.shp  \n",
      "  inflating: data/geofabrik/uganda-latest-free/gis_osm_traffic_a_free_1.shx  \n",
      " extracting: data/geofabrik/uganda-latest-free/gis_osm_traffic_free_1.cpg  \n",
      "  inflating: data/geofabrik/uganda-latest-free/gis_osm_traffic_free_1.dbf  \n",
      "  inflating: data/geofabrik/uganda-latest-free/gis_osm_traffic_free_1.prj  \n",
      "  inflating: data/geofabrik/uganda-latest-free/gis_osm_traffic_free_1.shp  \n",
      "  inflating: data/geofabrik/uganda-latest-free/gis_osm_traffic_free_1.shx  \n",
      " extracting: data/geofabrik/uganda-latest-free/gis_osm_transport_a_free_1.cpg  \n",
      "  inflating: data/geofabrik/uganda-latest-free/gis_osm_transport_a_free_1.dbf  \n",
      "  inflating: data/geofabrik/uganda-latest-free/gis_osm_transport_a_free_1.prj  \n",
      "  inflating: data/geofabrik/uganda-latest-free/gis_osm_transport_a_free_1.shp  \n",
      "  inflating: data/geofabrik/uganda-latest-free/gis_osm_transport_a_free_1.shx  \n",
      " extracting: data/geofabrik/uganda-latest-free/gis_osm_transport_free_1.cpg  \n",
      "  inflating: data/geofabrik/uganda-latest-free/gis_osm_transport_free_1.dbf  \n",
      "  inflating: data/geofabrik/uganda-latest-free/gis_osm_transport_free_1.prj  \n",
      "  inflating: data/geofabrik/uganda-latest-free/gis_osm_transport_free_1.shp  \n",
      "  inflating: data/geofabrik/uganda-latest-free/gis_osm_transport_free_1.shx  \n",
      " extracting: data/geofabrik/uganda-latest-free/gis_osm_water_a_free_1.cpg  \n",
      "  inflating: data/geofabrik/uganda-latest-free/gis_osm_water_a_free_1.dbf  \n",
      "  inflating: data/geofabrik/uganda-latest-free/gis_osm_water_a_free_1.prj  \n",
      "  inflating: data/geofabrik/uganda-latest-free/gis_osm_water_a_free_1.shp  \n",
      "  inflating: data/geofabrik/uganda-latest-free/gis_osm_water_a_free_1.shx  \n",
      " extracting: data/geofabrik/uganda-latest-free/gis_osm_waterways_free_1.cpg  \n",
      "  inflating: data/geofabrik/uganda-latest-free/gis_osm_waterways_free_1.dbf  \n",
      "  inflating: data/geofabrik/uganda-latest-free/gis_osm_waterways_free_1.prj  \n",
      "  inflating: data/geofabrik/uganda-latest-free/gis_osm_waterways_free_1.shp  \n",
      "  inflating: data/geofabrik/uganda-latest-free/gis_osm_waterways_free_1.shx  \n"
     ]
    }
   ],
   "source": [
    "!mkdir -p data/geofabrik/uganda-latest-free\n",
    "!unzip data/geofabrik/uganda-latest-free.shp.zip -d data/geofabrik/uganda-latest-free\n",
    "!rm data/geofabrik/uganda-latest-free.shp.zip"
   ]
  },
  {
   "cell_type": "markdown",
   "metadata": {},
   "source": [
    "### Kenya"
   ]
  },
  {
   "cell_type": "code",
   "execution_count": 19,
   "metadata": {},
   "outputs": [
    {
     "name": "stdout",
     "output_type": "stream",
     "text": [
      "--2020-05-14 20:32:58--  https://download.geofabrik.de/africa/kenya-latest-free.shp.zip\n",
      "Resolving download.geofabrik.de (download.geofabrik.de)... 88.99.142.44, 116.202.112.212\n",
      "Connecting to download.geofabrik.de (download.geofabrik.de)|88.99.142.44|:443... connected.\n",
      "HTTP request sent, awaiting response... 200 OK\n",
      "Length: 380684810 (363M) [application/zip]\n",
      "Saving to: ‘data/geofabrik/kenya-latest-free.shp.zip’\n",
      "\n",
      "data/geofabrik/keny 100%[===================>] 363.05M  13.6MB/s    in 32s     \n",
      "\n",
      "2020-05-14 20:33:31 (11.3 MB/s) - ‘data/geofabrik/kenya-latest-free.shp.zip’ saved [380684810/380684810]\n",
      "\n"
     ]
    }
   ],
   "source": [
    "!wget https://download.geofabrik.de/africa/kenya-latest-free.shp.zip -O data/geofabrik/kenya-latest-free.shp.zip"
   ]
  },
  {
   "cell_type": "code",
   "execution_count": 20,
   "metadata": {},
   "outputs": [
    {
     "name": "stdout",
     "output_type": "stream",
     "text": [
      "Archive:  data/geofabrik/kenya-latest-free.shp.zip\n",
      "  inflating: data/geofabrik/kenya-latest-free/README  \n",
      " extracting: data/geofabrik/kenya-latest-free/gis_osm_buildings_a_free_1.cpg  \n",
      "  inflating: data/geofabrik/kenya-latest-free/gis_osm_buildings_a_free_1.dbf  \n",
      "  inflating: data/geofabrik/kenya-latest-free/gis_osm_buildings_a_free_1.prj  \n",
      "  inflating: data/geofabrik/kenya-latest-free/gis_osm_buildings_a_free_1.shp  \n",
      "  inflating: data/geofabrik/kenya-latest-free/gis_osm_buildings_a_free_1.shx  \n",
      " extracting: data/geofabrik/kenya-latest-free/gis_osm_landuse_a_free_1.cpg  \n",
      "  inflating: data/geofabrik/kenya-latest-free/gis_osm_landuse_a_free_1.dbf  \n",
      "  inflating: data/geofabrik/kenya-latest-free/gis_osm_landuse_a_free_1.prj  \n",
      "  inflating: data/geofabrik/kenya-latest-free/gis_osm_landuse_a_free_1.shp  \n",
      "  inflating: data/geofabrik/kenya-latest-free/gis_osm_landuse_a_free_1.shx  \n",
      " extracting: data/geofabrik/kenya-latest-free/gis_osm_natural_a_free_1.cpg  \n",
      "  inflating: data/geofabrik/kenya-latest-free/gis_osm_natural_a_free_1.dbf  \n",
      "  inflating: data/geofabrik/kenya-latest-free/gis_osm_natural_a_free_1.prj  \n",
      "  inflating: data/geofabrik/kenya-latest-free/gis_osm_natural_a_free_1.shp  \n",
      "  inflating: data/geofabrik/kenya-latest-free/gis_osm_natural_a_free_1.shx  \n",
      " extracting: data/geofabrik/kenya-latest-free/gis_osm_natural_free_1.cpg  \n",
      "  inflating: data/geofabrik/kenya-latest-free/gis_osm_natural_free_1.dbf  \n",
      "  inflating: data/geofabrik/kenya-latest-free/gis_osm_natural_free_1.prj  \n",
      "  inflating: data/geofabrik/kenya-latest-free/gis_osm_natural_free_1.shp  \n",
      "  inflating: data/geofabrik/kenya-latest-free/gis_osm_natural_free_1.shx  \n",
      " extracting: data/geofabrik/kenya-latest-free/gis_osm_places_a_free_1.cpg  \n",
      "  inflating: data/geofabrik/kenya-latest-free/gis_osm_places_a_free_1.dbf  \n",
      "  inflating: data/geofabrik/kenya-latest-free/gis_osm_places_a_free_1.prj  \n",
      "  inflating: data/geofabrik/kenya-latest-free/gis_osm_places_a_free_1.shp  \n",
      "  inflating: data/geofabrik/kenya-latest-free/gis_osm_places_a_free_1.shx  \n",
      " extracting: data/geofabrik/kenya-latest-free/gis_osm_places_free_1.cpg  \n",
      "  inflating: data/geofabrik/kenya-latest-free/gis_osm_places_free_1.dbf  \n",
      "  inflating: data/geofabrik/kenya-latest-free/gis_osm_places_free_1.prj  \n",
      "  inflating: data/geofabrik/kenya-latest-free/gis_osm_places_free_1.shp  \n",
      "  inflating: data/geofabrik/kenya-latest-free/gis_osm_places_free_1.shx  \n",
      " extracting: data/geofabrik/kenya-latest-free/gis_osm_pofw_a_free_1.cpg  \n",
      "  inflating: data/geofabrik/kenya-latest-free/gis_osm_pofw_a_free_1.dbf  \n",
      "  inflating: data/geofabrik/kenya-latest-free/gis_osm_pofw_a_free_1.prj  \n",
      "  inflating: data/geofabrik/kenya-latest-free/gis_osm_pofw_a_free_1.shp  \n",
      "  inflating: data/geofabrik/kenya-latest-free/gis_osm_pofw_a_free_1.shx  \n",
      " extracting: data/geofabrik/kenya-latest-free/gis_osm_pofw_free_1.cpg  \n",
      "  inflating: data/geofabrik/kenya-latest-free/gis_osm_pofw_free_1.dbf  \n",
      "  inflating: data/geofabrik/kenya-latest-free/gis_osm_pofw_free_1.prj  \n",
      "  inflating: data/geofabrik/kenya-latest-free/gis_osm_pofw_free_1.shp  \n",
      "  inflating: data/geofabrik/kenya-latest-free/gis_osm_pofw_free_1.shx  \n",
      " extracting: data/geofabrik/kenya-latest-free/gis_osm_pois_a_free_1.cpg  \n",
      "  inflating: data/geofabrik/kenya-latest-free/gis_osm_pois_a_free_1.dbf  \n",
      "  inflating: data/geofabrik/kenya-latest-free/gis_osm_pois_a_free_1.prj  \n",
      "  inflating: data/geofabrik/kenya-latest-free/gis_osm_pois_a_free_1.shp  \n",
      "  inflating: data/geofabrik/kenya-latest-free/gis_osm_pois_a_free_1.shx  \n",
      " extracting: data/geofabrik/kenya-latest-free/gis_osm_pois_free_1.cpg  \n",
      "  inflating: data/geofabrik/kenya-latest-free/gis_osm_pois_free_1.dbf  \n",
      "  inflating: data/geofabrik/kenya-latest-free/gis_osm_pois_free_1.prj  \n",
      "  inflating: data/geofabrik/kenya-latest-free/gis_osm_pois_free_1.shp  \n",
      "  inflating: data/geofabrik/kenya-latest-free/gis_osm_pois_free_1.shx  \n",
      " extracting: data/geofabrik/kenya-latest-free/gis_osm_railways_free_1.cpg  \n",
      "  inflating: data/geofabrik/kenya-latest-free/gis_osm_railways_free_1.dbf  \n",
      "  inflating: data/geofabrik/kenya-latest-free/gis_osm_railways_free_1.prj  \n",
      "  inflating: data/geofabrik/kenya-latest-free/gis_osm_railways_free_1.shp  \n",
      "  inflating: data/geofabrik/kenya-latest-free/gis_osm_railways_free_1.shx  \n",
      " extracting: data/geofabrik/kenya-latest-free/gis_osm_roads_free_1.cpg  \n",
      "  inflating: data/geofabrik/kenya-latest-free/gis_osm_roads_free_1.dbf  \n",
      "  inflating: data/geofabrik/kenya-latest-free/gis_osm_roads_free_1.prj  \n",
      "  inflating: data/geofabrik/kenya-latest-free/gis_osm_roads_free_1.shp  \n",
      "  inflating: data/geofabrik/kenya-latest-free/gis_osm_roads_free_1.shx  \n",
      " extracting: data/geofabrik/kenya-latest-free/gis_osm_traffic_a_free_1.cpg  \n",
      "  inflating: data/geofabrik/kenya-latest-free/gis_osm_traffic_a_free_1.dbf  \n",
      "  inflating: data/geofabrik/kenya-latest-free/gis_osm_traffic_a_free_1.prj  \n",
      "  inflating: data/geofabrik/kenya-latest-free/gis_osm_traffic_a_free_1.shp  \n",
      "  inflating: data/geofabrik/kenya-latest-free/gis_osm_traffic_a_free_1.shx  \n",
      " extracting: data/geofabrik/kenya-latest-free/gis_osm_traffic_free_1.cpg  \n",
      "  inflating: data/geofabrik/kenya-latest-free/gis_osm_traffic_free_1.dbf  \n",
      "  inflating: data/geofabrik/kenya-latest-free/gis_osm_traffic_free_1.prj  \n",
      "  inflating: data/geofabrik/kenya-latest-free/gis_osm_traffic_free_1.shp  \n",
      "  inflating: data/geofabrik/kenya-latest-free/gis_osm_traffic_free_1.shx  \n",
      " extracting: data/geofabrik/kenya-latest-free/gis_osm_transport_a_free_1.cpg  \n",
      "  inflating: data/geofabrik/kenya-latest-free/gis_osm_transport_a_free_1.dbf  \n",
      "  inflating: data/geofabrik/kenya-latest-free/gis_osm_transport_a_free_1.prj  \n",
      "  inflating: data/geofabrik/kenya-latest-free/gis_osm_transport_a_free_1.shp  \n",
      "  inflating: data/geofabrik/kenya-latest-free/gis_osm_transport_a_free_1.shx  \n",
      " extracting: data/geofabrik/kenya-latest-free/gis_osm_transport_free_1.cpg  \n",
      "  inflating: data/geofabrik/kenya-latest-free/gis_osm_transport_free_1.dbf  \n",
      "  inflating: data/geofabrik/kenya-latest-free/gis_osm_transport_free_1.prj  \n",
      "  inflating: data/geofabrik/kenya-latest-free/gis_osm_transport_free_1.shp  \n",
      "  inflating: data/geofabrik/kenya-latest-free/gis_osm_transport_free_1.shx  \n",
      " extracting: data/geofabrik/kenya-latest-free/gis_osm_water_a_free_1.cpg  \n",
      "  inflating: data/geofabrik/kenya-latest-free/gis_osm_water_a_free_1.dbf  \n",
      "  inflating: data/geofabrik/kenya-latest-free/gis_osm_water_a_free_1.prj  \n",
      "  inflating: data/geofabrik/kenya-latest-free/gis_osm_water_a_free_1.shp  \n",
      "  inflating: data/geofabrik/kenya-latest-free/gis_osm_water_a_free_1.shx  \n",
      " extracting: data/geofabrik/kenya-latest-free/gis_osm_waterways_free_1.cpg  \n",
      "  inflating: data/geofabrik/kenya-latest-free/gis_osm_waterways_free_1.dbf  \n",
      "  inflating: data/geofabrik/kenya-latest-free/gis_osm_waterways_free_1.prj  \n",
      "  inflating: data/geofabrik/kenya-latest-free/gis_osm_waterways_free_1.shp  \n",
      "  inflating: data/geofabrik/kenya-latest-free/gis_osm_waterways_free_1.shx  \n"
     ]
    }
   ],
   "source": [
    "!mkdir -p data/geofabrik/kenya-latest-free\n",
    "!unzip data/geofabrik/kenya-latest-free.shp.zip -d data/geofabrik/kenya-latest-free\n",
    "!rm data/geofabrik/kenya-latest-free.shp.zip"
   ]
  },
  {
   "cell_type": "markdown",
   "metadata": {},
   "source": [
    "### Tanzania"
   ]
  },
  {
   "cell_type": "code",
   "execution_count": 21,
   "metadata": {},
   "outputs": [
    {
     "name": "stdout",
     "output_type": "stream",
     "text": [
      "--2020-05-14 20:34:52--  https://download.geofabrik.de/africa/tanzania-latest-free.shp.zip\n",
      "Resolving download.geofabrik.de (download.geofabrik.de)... 88.99.142.44, 116.202.112.212\n",
      "Connecting to download.geofabrik.de (download.geofabrik.de)|88.99.142.44|:443... connected.\n",
      "HTTP request sent, awaiting response... 200 OK\n",
      "Length: 1204677935 (1.1G) [application/zip]\n",
      "Saving to: ‘data/geofabrik/tanzania-latest-free.shp.zip’\n",
      "\n",
      "data/geofabrik/tanz 100%[===================>]   1.12G  13.7MB/s    in 90s     \n",
      "\n",
      "2020-05-14 20:36:25 (12.8 MB/s) - ‘data/geofabrik/tanzania-latest-free.shp.zip’ saved [1204677935/1204677935]\n",
      "\n"
     ]
    }
   ],
   "source": [
    "!wget https://download.geofabrik.de/africa/tanzania-latest-free.shp.zip -O data/geofabrik/tanzania-latest-free.shp.zip"
   ]
  },
  {
   "cell_type": "code",
   "execution_count": 22,
   "metadata": {},
   "outputs": [
    {
     "name": "stdout",
     "output_type": "stream",
     "text": [
      "Archive:  data/geofabrik/tanzania-latest-free.shp.zip\n",
      "  inflating: data/geofabrik/tanzania-latest-free/README  \n",
      " extracting: data/geofabrik/tanzania-latest-free/gis_osm_buildings_a_free_1.cpg  \n",
      "  inflating: data/geofabrik/tanzania-latest-free/gis_osm_buildings_a_free_1.dbf  \n",
      "  inflating: data/geofabrik/tanzania-latest-free/gis_osm_buildings_a_free_1.prj  \n",
      "  inflating: data/geofabrik/tanzania-latest-free/gis_osm_buildings_a_free_1.shp  \n",
      "  inflating: data/geofabrik/tanzania-latest-free/gis_osm_buildings_a_free_1.shx  \n",
      " extracting: data/geofabrik/tanzania-latest-free/gis_osm_landuse_a_free_1.cpg  \n",
      "  inflating: data/geofabrik/tanzania-latest-free/gis_osm_landuse_a_free_1.dbf  \n",
      "  inflating: data/geofabrik/tanzania-latest-free/gis_osm_landuse_a_free_1.prj  \n",
      "  inflating: data/geofabrik/tanzania-latest-free/gis_osm_landuse_a_free_1.shp  \n",
      "  inflating: data/geofabrik/tanzania-latest-free/gis_osm_landuse_a_free_1.shx  \n",
      " extracting: data/geofabrik/tanzania-latest-free/gis_osm_natural_a_free_1.cpg  \n",
      "  inflating: data/geofabrik/tanzania-latest-free/gis_osm_natural_a_free_1.dbf  \n",
      "  inflating: data/geofabrik/tanzania-latest-free/gis_osm_natural_a_free_1.prj  \n",
      "  inflating: data/geofabrik/tanzania-latest-free/gis_osm_natural_a_free_1.shp  \n",
      "  inflating: data/geofabrik/tanzania-latest-free/gis_osm_natural_a_free_1.shx  \n",
      " extracting: data/geofabrik/tanzania-latest-free/gis_osm_natural_free_1.cpg  \n",
      "  inflating: data/geofabrik/tanzania-latest-free/gis_osm_natural_free_1.dbf  \n",
      "  inflating: data/geofabrik/tanzania-latest-free/gis_osm_natural_free_1.prj  \n",
      "  inflating: data/geofabrik/tanzania-latest-free/gis_osm_natural_free_1.shp  \n",
      "  inflating: data/geofabrik/tanzania-latest-free/gis_osm_natural_free_1.shx  \n",
      " extracting: data/geofabrik/tanzania-latest-free/gis_osm_places_a_free_1.cpg  \n",
      "  inflating: data/geofabrik/tanzania-latest-free/gis_osm_places_a_free_1.dbf  \n",
      "  inflating: data/geofabrik/tanzania-latest-free/gis_osm_places_a_free_1.prj  \n",
      "  inflating: data/geofabrik/tanzania-latest-free/gis_osm_places_a_free_1.shp  \n",
      "  inflating: data/geofabrik/tanzania-latest-free/gis_osm_places_a_free_1.shx  \n",
      " extracting: data/geofabrik/tanzania-latest-free/gis_osm_places_free_1.cpg  \n",
      "  inflating: data/geofabrik/tanzania-latest-free/gis_osm_places_free_1.dbf  \n",
      "  inflating: data/geofabrik/tanzania-latest-free/gis_osm_places_free_1.prj  \n",
      "  inflating: data/geofabrik/tanzania-latest-free/gis_osm_places_free_1.shp  \n",
      "  inflating: data/geofabrik/tanzania-latest-free/gis_osm_places_free_1.shx  \n",
      " extracting: data/geofabrik/tanzania-latest-free/gis_osm_pofw_a_free_1.cpg  \n",
      "  inflating: data/geofabrik/tanzania-latest-free/gis_osm_pofw_a_free_1.dbf  \n",
      "  inflating: data/geofabrik/tanzania-latest-free/gis_osm_pofw_a_free_1.prj  \n",
      "  inflating: data/geofabrik/tanzania-latest-free/gis_osm_pofw_a_free_1.shp  \n",
      "  inflating: data/geofabrik/tanzania-latest-free/gis_osm_pofw_a_free_1.shx  \n",
      " extracting: data/geofabrik/tanzania-latest-free/gis_osm_pofw_free_1.cpg  \n",
      "  inflating: data/geofabrik/tanzania-latest-free/gis_osm_pofw_free_1.dbf  \n",
      "  inflating: data/geofabrik/tanzania-latest-free/gis_osm_pofw_free_1.prj  \n",
      "  inflating: data/geofabrik/tanzania-latest-free/gis_osm_pofw_free_1.shp  \n",
      "  inflating: data/geofabrik/tanzania-latest-free/gis_osm_pofw_free_1.shx  \n",
      " extracting: data/geofabrik/tanzania-latest-free/gis_osm_pois_a_free_1.cpg  \n",
      "  inflating: data/geofabrik/tanzania-latest-free/gis_osm_pois_a_free_1.dbf  \n",
      "  inflating: data/geofabrik/tanzania-latest-free/gis_osm_pois_a_free_1.prj  \n",
      "  inflating: data/geofabrik/tanzania-latest-free/gis_osm_pois_a_free_1.shp  \n",
      "  inflating: data/geofabrik/tanzania-latest-free/gis_osm_pois_a_free_1.shx  \n",
      " extracting: data/geofabrik/tanzania-latest-free/gis_osm_pois_free_1.cpg  \n",
      "  inflating: data/geofabrik/tanzania-latest-free/gis_osm_pois_free_1.dbf  \n",
      "  inflating: data/geofabrik/tanzania-latest-free/gis_osm_pois_free_1.prj  \n",
      "  inflating: data/geofabrik/tanzania-latest-free/gis_osm_pois_free_1.shp  \n",
      "  inflating: data/geofabrik/tanzania-latest-free/gis_osm_pois_free_1.shx  \n",
      " extracting: data/geofabrik/tanzania-latest-free/gis_osm_railways_free_1.cpg  \n",
      "  inflating: data/geofabrik/tanzania-latest-free/gis_osm_railways_free_1.dbf  \n",
      "  inflating: data/geofabrik/tanzania-latest-free/gis_osm_railways_free_1.prj  \n",
      "  inflating: data/geofabrik/tanzania-latest-free/gis_osm_railways_free_1.shp  \n",
      "  inflating: data/geofabrik/tanzania-latest-free/gis_osm_railways_free_1.shx  \n",
      " extracting: data/geofabrik/tanzania-latest-free/gis_osm_roads_free_1.cpg  \n",
      "  inflating: data/geofabrik/tanzania-latest-free/gis_osm_roads_free_1.dbf  \n",
      "  inflating: data/geofabrik/tanzania-latest-free/gis_osm_roads_free_1.prj  \n",
      "  inflating: data/geofabrik/tanzania-latest-free/gis_osm_roads_free_1.shp  \n",
      "  inflating: data/geofabrik/tanzania-latest-free/gis_osm_roads_free_1.shx  \n",
      " extracting: data/geofabrik/tanzania-latest-free/gis_osm_traffic_a_free_1.cpg  \n",
      "  inflating: data/geofabrik/tanzania-latest-free/gis_osm_traffic_a_free_1.dbf  \n",
      "  inflating: data/geofabrik/tanzania-latest-free/gis_osm_traffic_a_free_1.prj  \n",
      "  inflating: data/geofabrik/tanzania-latest-free/gis_osm_traffic_a_free_1.shp  \n",
      "  inflating: data/geofabrik/tanzania-latest-free/gis_osm_traffic_a_free_1.shx  \n",
      " extracting: data/geofabrik/tanzania-latest-free/gis_osm_traffic_free_1.cpg  \n",
      "  inflating: data/geofabrik/tanzania-latest-free/gis_osm_traffic_free_1.dbf  \n",
      "  inflating: data/geofabrik/tanzania-latest-free/gis_osm_traffic_free_1.prj  \n",
      "  inflating: data/geofabrik/tanzania-latest-free/gis_osm_traffic_free_1.shp  \n",
      "  inflating: data/geofabrik/tanzania-latest-free/gis_osm_traffic_free_1.shx  \n",
      " extracting: data/geofabrik/tanzania-latest-free/gis_osm_transport_a_free_1.cpg  \n",
      "  inflating: data/geofabrik/tanzania-latest-free/gis_osm_transport_a_free_1.dbf  \n",
      "  inflating: data/geofabrik/tanzania-latest-free/gis_osm_transport_a_free_1.prj  \n",
      "  inflating: data/geofabrik/tanzania-latest-free/gis_osm_transport_a_free_1.shp  \n",
      "  inflating: data/geofabrik/tanzania-latest-free/gis_osm_transport_a_free_1.shx  \n",
      " extracting: data/geofabrik/tanzania-latest-free/gis_osm_transport_free_1.cpg  \n",
      "  inflating: data/geofabrik/tanzania-latest-free/gis_osm_transport_free_1.dbf  \n",
      "  inflating: data/geofabrik/tanzania-latest-free/gis_osm_transport_free_1.prj  \n",
      "  inflating: data/geofabrik/tanzania-latest-free/gis_osm_transport_free_1.shp  \n",
      "  inflating: data/geofabrik/tanzania-latest-free/gis_osm_transport_free_1.shx  \n",
      " extracting: data/geofabrik/tanzania-latest-free/gis_osm_water_a_free_1.cpg  \n",
      "  inflating: data/geofabrik/tanzania-latest-free/gis_osm_water_a_free_1.dbf  \n",
      "  inflating: data/geofabrik/tanzania-latest-free/gis_osm_water_a_free_1.prj  \n",
      "  inflating: data/geofabrik/tanzania-latest-free/gis_osm_water_a_free_1.shp  \n",
      "  inflating: data/geofabrik/tanzania-latest-free/gis_osm_water_a_free_1.shx  \n",
      " extracting: data/geofabrik/tanzania-latest-free/gis_osm_waterways_free_1.cpg  \n",
      "  inflating: data/geofabrik/tanzania-latest-free/gis_osm_waterways_free_1.dbf  \n",
      "  inflating: data/geofabrik/tanzania-latest-free/gis_osm_waterways_free_1.prj  \n",
      "  inflating: data/geofabrik/tanzania-latest-free/gis_osm_waterways_free_1.shp  \n",
      "  inflating: data/geofabrik/tanzania-latest-free/gis_osm_waterways_free_1.shx  \n"
     ]
    }
   ],
   "source": [
    "!mkdir -p data/geofabrik/tanzania-latest-free\n",
    "!unzip data/geofabrik/tanzania-latest-free.shp.zip -d data/geofabrik/tanzania-latest-free\n",
    "!rm data/geofabrik/tanzania-latest-free.shp.zip"
   ]
  },
  {
   "cell_type": "markdown",
   "metadata": {},
   "source": [
    "# GDP Data"
   ]
  },
  {
   "cell_type": "code",
   "execution_count": 1,
   "metadata": {},
   "outputs": [
    {
     "name": "stdout",
     "output_type": "stream",
     "text": [
      "--2020-05-16 14:51:32--  http://api.worldbank.org/v2/en/indicator/NY.GDP.PCAP.CD?downloadformat=csv\n",
      "Resolving api.worldbank.org (api.worldbank.org)... 34.237.118.134\n",
      "Connecting to api.worldbank.org (api.worldbank.org)|34.237.118.134|:80... connected.\n",
      "HTTP request sent, awaiting response... 200 OK\n",
      "Length: 121508 (119K) [application/zip]\n",
      "Saving to: ‘data/GDP.csv.zip’\n",
      "\n",
      "data/GDP.csv.zip    100%[===================>] 118.66K   396KB/s    in 0.3s    \n",
      "\n",
      "2020-05-16 14:51:33 (396 KB/s) - ‘data/GDP.csv.zip’ saved [121508/121508]\n",
      "\n"
     ]
    }
   ],
   "source": [
    "!wget http://api.worldbank.org/v2/en/indicator/NY.GDP.PCAP.CD?downloadformat=csv -O data/GDP.csv.zip"
   ]
  },
  {
   "cell_type": "code",
   "execution_count": null,
   "metadata": {},
   "outputs": [
    {
     "name": "stdout",
     "output_type": "stream",
     "text": [
      "Archive:  data/GDP.csv.zip\r\n",
      "replace Metadata_Indicator_API_NY.GDP.PCAP.CD_DS2_en_csv_v2_988471.csv? [y]es, [n]o, [A]ll, [N]one, [r]ename: "
     ]
    }
   ],
   "source": [
    "!unzip data/GDP.csv.zip\n",
    "!rm data/GDP.csv.zip"
   ]
  },
  {
   "cell_type": "markdown",
   "metadata": {},
   "source": [
    "# Employment Data"
   ]
  },
  {
   "cell_type": "code",
   "execution_count": 1,
   "metadata": {},
   "outputs": [
    {
     "name": "stdout",
     "output_type": "stream",
     "text": [
      "--2020-05-16 14:57:33--  http://api.worldbank.org/v2/en/indicator/SL.EMP.TOTL.SP.MA.ZS?downloadformat=csv\n",
      "Resolving api.worldbank.org (api.worldbank.org)... 34.237.118.134\n",
      "Connecting to api.worldbank.org (api.worldbank.org)|34.237.118.134|:80... connected.\n",
      "HTTP request sent, awaiting response... 200 OK\n",
      "Length: 49401 (48K) [application/zip]\n",
      "Saving to: ‘data/Emp.csv.zip’\n",
      "\n",
      "data/Emp.csv.zip    100%[===================>]  48.24K   245KB/s    in 0.2s    \n",
      "\n",
      "2020-05-16 14:57:33 (245 KB/s) - ‘data/Emp.csv.zip’ saved [49401/49401]\n",
      "\n"
     ]
    }
   ],
   "source": [
    "! wget http://api.worldbank.org/v2/en/indicator/SL.EMP.TOTL.SP.MA.ZS?downloadformat=csv -O data/Emp.csv.zip"
   ]
  },
  {
   "cell_type": "code",
   "execution_count": 2,
   "metadata": {},
   "outputs": [
    {
     "name": "stdout",
     "output_type": "stream",
     "text": [
      "Archive:  data/Emp.csv.zip\r\n",
      "  inflating: Metadata_Indicator_API_SL.EMP.TOTL.SP.MA.ZS_DS2_en_csv_v2_989540.csv  \r\n",
      "  inflating: API_SL.EMP.TOTL.SP.MA.ZS_DS2_en_csv_v2_989540.csv  \r\n",
      "  inflating: Metadata_Country_API_SL.EMP.TOTL.SP.MA.ZS_DS2_en_csv_v2_989540.csv  \r\n"
     ]
    }
   ],
   "source": [
    "!unzip data/Emp.csv.zip\n",
    "!rm data/Emp.csv.zip"
   ]
  },
  {
   "cell_type": "markdown",
   "metadata": {},
   "source": [
    "# Human Development Index Data"
   ]
  },
  {
   "cell_type": "code",
   "execution_count": 22,
   "metadata": {},
   "outputs": [
    {
     "name": "stdout",
     "output_type": "stream",
     "text": [
      "--2020-05-16 16:22:21--  http://api.worldbank.org/v2/en/indicator/UNDP.HDI.XD?downloadformat=csv\n",
      "Resolving api.worldbank.org (api.worldbank.org)... 107.23.127.3\n",
      "Connecting to api.worldbank.org (api.worldbank.org)|107.23.127.3|:80... connected.\n",
      "HTTP request sent, awaiting response... 200 OK\n",
      "Length: 4863 (4.7K) [application/zip]\n",
      "Saving to: ‘data/Human_Dev_Index.csv.zip’\n",
      "\n",
      "data/Human_Dev_Inde 100%[===================>]   4.75K  --.-KB/s    in 0s      \n",
      "\n",
      "2020-05-16 16:22:27 (79.7 MB/s) - ‘data/Human_Dev_Index.csv.zip’ saved [4863/4863]\n",
      "\n"
     ]
    }
   ],
   "source": [
    "!wget http://api.worldbank.org/v2/en/indicator/UNDP.HDI.XD?downloadformat=csv  -O data/Human_Dev_Index.csv.zip"
   ]
  },
  {
   "cell_type": "code",
   "execution_count": 23,
   "metadata": {},
   "outputs": [
    {
     "name": "stdout",
     "output_type": "stream",
     "text": [
      "Archive:  data/Human_Dev_Index.csv.zip\r\n",
      "  inflating: Metadata_Indicator_API_UNDP.HDI.XD_DS11_en_csv_v2_1020266.csv  \r\n",
      "  inflating: API_UNDP.HDI.XD_DS11_en_csv_v2_1020266.csv  \r\n",
      "  inflating: Metadata_Country_API_UNDP.HDI.XD_DS11_en_csv_v2_1020266.csv  \r\n"
     ]
    }
   ],
   "source": [
    "!unzip data/Human_Dev_Index.csv.zip\n",
    "!rm data/Human_Dev_Index.csv.zip"
   ]
  },
  {
   "cell_type": "markdown",
   "metadata": {},
   "source": [
    "# Population Data"
   ]
  },
  {
   "cell_type": "code",
   "execution_count": 1,
   "metadata": {},
   "outputs": [
    {
     "name": "stdout",
     "output_type": "stream",
     "text": [
      "--2020-05-17 00:41:56--  https://datacenter.prb.org/download/international/indicator/population/csv?geos=AFRICA\n",
      "Resolving datacenter.prb.org (datacenter.prb.org)... 34.233.175.150\n",
      "Connecting to datacenter.prb.org (datacenter.prb.org)|34.233.175.150|:443... connected.\n",
      "HTTP request sent, awaiting response... 200 OK\n",
      "Length: 2291 (2.2K) [text/csv]\n",
      "Saving to: ‘data/Popdata.csv’\n",
      "\n",
      "data/Popdata.csv    100%[===================>]   2.24K  --.-KB/s    in 0s      \n",
      "\n",
      "2020-05-17 00:41:57 (229 MB/s) - ‘data/Popdata.csv’ saved [2291/2291]\n",
      "\n"
     ]
    }
   ],
   "source": [
    "!wget https://datacenter.prb.org/download/international/indicator/population/csv?geos=AFRICA -O data/Popdata.csv"
   ]
  },
  {
   "cell_type": "code",
   "execution_count": null,
   "metadata": {},
   "outputs": [],
   "source": []
  }
 ],
 "metadata": {
  "kernelspec": {
   "display_name": "Python 3",
   "language": "python",
   "name": "python3"
  },
  "language_info": {
   "codemirror_mode": {
    "name": "ipython",
    "version": 3
   },
   "file_extension": ".py",
   "mimetype": "text/x-python",
   "name": "python",
   "nbconvert_exporter": "python",
   "pygments_lexer": "ipython3",
   "version": "3.7.6"
  }
 },
 "nbformat": 4,
 "nbformat_minor": 4
}
