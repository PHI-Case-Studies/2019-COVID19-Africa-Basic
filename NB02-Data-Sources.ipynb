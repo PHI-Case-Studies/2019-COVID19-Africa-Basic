{
 "cells": [
  {
   "cell_type": "markdown",
   "metadata": {},
   "source": [
    "## Armed Conflict Locations"
   ]
  },
  {
   "cell_type": "code",
   "execution_count": 1,
   "metadata": {},
   "outputs": [
    {
     "name": "stdout",
     "output_type": "stream",
     "text": [
      "--2020-05-13 17:05:21--  https://acleddata.com/download/2909/\n",
      "Resolving acleddata.com (acleddata.com)... 104.22.67.92, 104.22.66.92, 2606:4700:10::6816:435c, ...\n",
      "Connecting to acleddata.com (acleddata.com)|104.22.67.92|:443... connected.\n",
      "HTTP request sent, awaiting response... 200 OK\n",
      "Length: 34698472 (33M) [application/vnd.openxmlformats-officedocument.spreadsheetml.sheet]\n",
      "Saving to: ‘data/africa-conflict.xlsx’\n",
      "\n",
      "data/africa-conflic 100%[===================>]  33.09M  11.0MB/s    in 3.0s    \n",
      "\n",
      "2020-05-13 17:05:27 (11.0 MB/s) - ‘data/africa-conflict.xlsx’ saved [34698472/34698472]\n",
      "\n"
     ]
    }
   ],
   "source": [
    "!wget https://acleddata.com/download/2909/ -O data/africa-conflict.xlsx"
   ]
  },
  {
   "cell_type": "markdown",
   "metadata": {},
   "source": [
    "## Google Mobility Data"
   ]
  },
  {
   "cell_type": "code",
   "execution_count": 3,
   "metadata": {},
   "outputs": [
    {
     "name": "stdout",
     "output_type": "stream",
     "text": [
      "--2020-05-14 16:33:55--  https://www.gstatic.com/covid19/mobility/Global_Mobility_Report.csv?cachebust=9cfdda8c20841ad1\n",
      "Resolving www.gstatic.com (www.gstatic.com)... 172.217.6.99, 2607:f8b0:4009:804::2003\n",
      "Connecting to www.gstatic.com (www.gstatic.com)|172.217.6.99|:443... connected.\n",
      "HTTP request sent, awaiting response... 200 OK\n",
      "Length: 21175373 (20M) [text/csv]\n",
      "Saving to: ‘data/Global_Mobility_Report.csv’\n",
      "\n",
      "data/Global_Mobilit 100%[===================>]  20.19M  14.0MB/s    in 1.4s    \n",
      "\n",
      "2020-05-14 16:33:57 (14.0 MB/s) - ‘data/Global_Mobility_Report.csv’ saved [21175373/21175373]\n",
      "\n"
     ]
    }
   ],
   "source": [
    "!wget https://www.gstatic.com/covid19/mobility/Global_Mobility_Report.csv?cachebust=9cfdda8c20841ad1 -O data/Global_Mobility_Report.csv"
   ]
  },
  {
   "cell_type": "code",
   "execution_count": null,
   "metadata": {},
   "outputs": [],
   "source": []
  }
 ],
 "metadata": {
  "kernelspec": {
   "display_name": "Python 3",
   "language": "python",
   "name": "python3"
  },
  "language_info": {
   "codemirror_mode": {
    "name": "ipython",
    "version": 3
   },
   "file_extension": ".py",
   "mimetype": "text/x-python",
   "name": "python",
   "nbconvert_exporter": "python",
   "pygments_lexer": "ipython3",
   "version": "3.7.6"
  }
 },
 "nbformat": 4,
 "nbformat_minor": 4
}
