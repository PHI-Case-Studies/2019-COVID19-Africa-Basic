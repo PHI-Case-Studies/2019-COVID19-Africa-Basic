{
 "cells": [
  {
   "cell_type": "markdown",
   "metadata": {},
   "source": [
    "# This notebook examines trends for some of the Social Determinants of Health for Africa before Covid-19 and also the relationship between these and reported cases: The Causes of the Causes!!\n",
    "> * In this notebook we will mostly use the merge operation to increase the value of data\n",
    "> * We will pickle these data frames from the data processing notebook\n",
    "> * we will then use line plots, maps and bubble charts to visualise this data"
   ]
  },
  {
   "cell_type": "markdown",
   "metadata": {},
   "source": [
    "# We will process and analyse GDP data first"
   ]
  },
  {
   "cell_type": "code",
   "execution_count": null,
   "metadata": {},
   "outputs": [],
   "source": [
    "#import pandas \n",
    "import pandas as pd\n",
    "#read the pickled gdp dataframe\n",
    "gdpdf = pd.read_pickle('data/gdpdf_pickle.pkl')\n",
    "gdpdf"
   ]
  },
  {
   "cell_type": "code",
   "execution_count": null,
   "metadata": {},
   "outputs": [],
   "source": [
    "#rename the column headings to enable merging with other Dataframes\n",
    "gdpdf.columns = ['CNTRY_NAME', 'Country Code', 'year', 'GDP']"
   ]
  },
  {
   "cell_type": "code",
   "execution_count": null,
   "metadata": {},
   "outputs": [],
   "source": [
    "#pickle population dataframe\n",
    "africapopdf1= pd.read_pickle('data/africapopdf1_pickle.pkl')\n",
    "africapopdf1"
   ]
  },
  {
   "cell_type": "code",
   "execution_count": null,
   "metadata": {},
   "outputs": [],
   "source": [
    "# merge population data frame and gdp dataframe\n",
    "gdppopdf = africapopdf1.merge(gdpdf, on='CNTRY_NAME')"
   ]
  },
  {
   "cell_type": "markdown",
   "metadata": {},
   "source": [
    "# GDP Per Capita Trends in Africa 2010-2018\n",
    "> * We will now use a line chart to plot GDP Trends accross Africa\n",
    "> * For enhanced effect we will also plot an animated choropleth map to visualize the same data"
   ]
  },
  {
   "cell_type": "code",
   "execution_count": null,
   "metadata": {},
   "outputs": [],
   "source": [
    "#using plotly\n",
    "import plotly.express as px\n",
    "\n",
    "fig = px.line(gdppopdf, x=\"year\", y=\"GDP\", color='CNTRY_NAME', title='GDP Per Capita Trends 2010-2018 in Africa')\n",
    "fig.show()"
   ]
  },
  {
   "cell_type": "code",
   "execution_count": null,
   "metadata": {},
   "outputs": [],
   "source": [
    "# First we will import the geojson data\n",
    "import json\n",
    "with open('data/Africa_World_PROD_1_Lsib_2017_Mar.geojson') as f:\n",
    "  countries = json.load(f)"
   ]
  },
  {
   "cell_type": "code",
   "execution_count": null,
   "metadata": {},
   "outputs": [],
   "source": [
    "import plotly.express as px\n",
    "from plotly.offline import download_plotlyjs, init_notebook_mode, plot, iplot\n",
    "init_notebook_mode(connected=True)\n",
    "\n",
    "max_gdp = gdppopdf['GDP'].max()\n",
    "fig = px.choropleth_mapbox(gdppopdf, geojson=countries, \\\n",
    "              color=\"GDP\", hover_name=\"CNTRY_NAME\", \\\n",
    "              featureidkey=\"properties.CNTRY_NAME\", locations=\"CNTRY_NAME\",\\\n",
    "              animation_frame=\"year\",\n",
    "              color_continuous_scale=px.colors.sequential.OrRd, \\\n",
    "              range_color=[0,max_gdp])\n",
    "fig.update_layout(\n",
    "    #margin={\"r\":0,\"t\":0,\"l\":0,\"b\":0},\n",
    "    autosize=True,\n",
    "    height=770,\n",
    "    mapbox = {\n",
    "        'style': \"carto-positron\",\n",
    "        'center': {'lon': 32, 'lat': 1},\n",
    "        'zoom': 2\n",
    "    },\n",
    "    title={\n",
    "        'text': \"Africa GDP Per Capita 2015-2018\",\n",
    "        'y':0.97,\n",
    "        'x':0.45,\n",
    "        'xanchor': 'center',\n",
    "        'yanchor': 'top'})\n",
    "\n",
    "fig.show()"
   ]
  },
  {
   "cell_type": "markdown",
   "metadata": {},
   "source": [
    "# Plot Bubble Chart : Confirmed Cases and Deaths Versus GPD\n",
    "### A bubble chart is a scatter plot in which a third dimension of the data is shown through the size of markers\n",
    "> * For example we will merge the social determinants data frames with the cumulative cases dataframe and calculate incidences and deaths rates.We will then plot Social Determinants, Incidence and Deaths rates in the same visualization(Bubble Chart)"
   ]
  },
  {
   "cell_type": "code",
   "execution_count": null,
   "metadata": {},
   "outputs": [],
   "source": [
    "gdppopdf"
   ]
  },
  {
   "cell_type": "code",
   "execution_count": null,
   "metadata": {},
   "outputs": [],
   "source": [
    "# select GDP for 2018 only\n",
    "gdppopdf1 = gdppopdf[(gdppopdf.year == \"2018\")]\n",
    "gdppopdf1"
   ]
  },
  {
   "cell_type": "code",
   "execution_count": null,
   "metadata": {},
   "outputs": [],
   "source": [
    "# read pickled cumulative cases data frame\n",
    "cumcases_df = pd.read_pickle('data/cumcases_df_pickle.pkl')\n",
    "cumcases_df"
   ]
  },
  {
   "cell_type": "code",
   "execution_count": null,
   "metadata": {},
   "outputs": [],
   "source": [
    "#rename the column headings\n",
    "cumcases_df.columns = ['OBJECTID', 'CNTRY_NAME', 'Last_Update', 'Lat', 'Long_', 'Confirmed', 'Deaths', 'Recovered']"
   ]
  },
  {
   "cell_type": "code",
   "execution_count": null,
   "metadata": {},
   "outputs": [],
   "source": [
    "#merge GDP population and cases dataframes to create composite dataframe\n",
    "composite_df = cumcases_df.merge(gdppopdf1, on='CNTRY_NAME')\n",
    "composite_df"
   ]
  },
  {
   "cell_type": "code",
   "execution_count": null,
   "metadata": {},
   "outputs": [],
   "source": [
    "#calculate incidence and deaths rate\n",
    "composite_df['Cases_100K'] = composite_df['Confirmed'] / composite_df['Pop_Mil'] / 10\n",
    "composite_df['Deaths_100K'] = composite_df['Deaths'] / composite_df['Pop_Mil'] / 10\n",
    "composite_df"
   ]
  },
  {
   "cell_type": "code",
   "execution_count": null,
   "metadata": {},
   "outputs": [],
   "source": [
    "# Use plotly to create bubble charts\n",
    "import plotly.express as px\n",
    "composite_df\n",
    "\n",
    "fig = px.scatter(composite_df, x=\"Cases_100K\", y=\"GDP\",\n",
    "             size=\"Deaths_100K\", color=\"CNTRY_NAME\",\n",
    "                 hover_name=\"CNTRY_NAME\", title='Covid Cases/100k and Deaths VS GDP Per Capita', log_x=False, size_max=60)\n",
    "fig.show()"
   ]
  },
  {
   "cell_type": "markdown",
   "metadata": {},
   "source": [
    "# We will now look at employment rates in Africa  Covid-19\n",
    "> * We will now process employment data the same way we did with GDP data"
   ]
  },
  {
   "cell_type": "code",
   "execution_count": null,
   "metadata": {},
   "outputs": [],
   "source": [
    "# read the pickled education dataframe\n",
    "empdf = pd.read_pickle('data/empdf_pickle.pkl')\n",
    "empdf"
   ]
  },
  {
   "cell_type": "code",
   "execution_count": null,
   "metadata": {},
   "outputs": [],
   "source": [
    "# rename columns\n",
    "empdf.columns = ['CNTRY_NAME', 'Country Code', 'year', 'emp_rate']"
   ]
  },
  {
   "cell_type": "code",
   "execution_count": null,
   "metadata": {},
   "outputs": [],
   "source": [
    "# merge with African Population Dataframe\n",
    "emppopdf = empdf.merge(africapopdf1, on = 'CNTRY_NAME')"
   ]
  },
  {
   "cell_type": "code",
   "execution_count": null,
   "metadata": {},
   "outputs": [],
   "source": [
    "#using plotly plot employment rate trends\n",
    "import plotly.express as px\n",
    "\n",
    "fig = px.line(emppopdf, x=\"year\", y=\"emp_rate\", color='CNTRY_NAME', title='Africa Employement Trends 2010-2018')\n",
    "fig.show()"
   ]
  },
  {
   "cell_type": "code",
   "execution_count": null,
   "metadata": {},
   "outputs": [],
   "source": [
    "# Select employment data for 2018 only\n",
    "emppopdf1 = emppopdf[(emppopdf.year == \"2018\")]"
   ]
  },
  {
   "cell_type": "code",
   "execution_count": null,
   "metadata": {},
   "outputs": [],
   "source": [
    "#create second composite dataframe for employment rates and cases\n",
    "composite_df1 = emppopdf1.merge(cumcases_df, on='CNTRY_NAME')\n",
    "composite_df1"
   ]
  },
  {
   "cell_type": "code",
   "execution_count": null,
   "metadata": {},
   "outputs": [],
   "source": [
    "#calculate incidence\n",
    "composite_df1['Cases_100K'] = composite_df1['Confirmed'] / composite_df1['Pop_Mil'] / 10\n",
    "composite_df1['Deaths_100K'] = composite_df1['Deaths'] / composite_df1['Pop_Mil'] / 10"
   ]
  },
  {
   "cell_type": "code",
   "execution_count": null,
   "metadata": {},
   "outputs": [],
   "source": [
    "import plotly.express as px\n",
    "composite_df1\n",
    "\n",
    "fig = px.scatter(composite_df1, x=\"Cases_100K\", y=\"emp_rate\",\n",
    "             size=\"Deaths_100K\", color=\"CNTRY_NAME\",\n",
    "                 hover_name=\"CNTRY_NAME\", title='Confirmed Cases and Deaths VS employment rates', log_x=False, size_max=60)\n",
    "fig.show()"
   ]
  },
  {
   "cell_type": "markdown",
   "metadata": {},
   "source": [
    "# Next we read the Human Development Index and Show the trends \n",
    "> * We will process HDI data the same way as GDP and Education"
   ]
  },
  {
   "cell_type": "code",
   "execution_count": null,
   "metadata": {},
   "outputs": [],
   "source": [
    "hdi_df = pd.read_pickle('data/hdi_df_pickle.pkl')\n",
    "hdi_df"
   ]
  },
  {
   "cell_type": "code",
   "execution_count": null,
   "metadata": {},
   "outputs": [],
   "source": [
    "# rename columns\n",
    "hdi_df.columns = ['CNTRY_NAME', 'Country Code', 'year', 'HDI']"
   ]
  },
  {
   "cell_type": "code",
   "execution_count": null,
   "metadata": {},
   "outputs": [],
   "source": [
    "# merge with population data frame\n",
    "hdipopdf = hdi_df.merge(africapopdf1, on= 'CNTRY_NAME')\n",
    "hdipopdf"
   ]
  },
  {
   "cell_type": "code",
   "execution_count": null,
   "metadata": {},
   "outputs": [],
   "source": [
    "#using plotly\n",
    "import plotly.express as px\n",
    "\n",
    "fig = px.line(hdipopdf, x=\"year\", y=\"HDI\", color='CNTRY_NAME', title='Africa Trends of Human Development Index')\n",
    "fig.show()"
   ]
  },
  {
   "cell_type": "code",
   "execution_count": null,
   "metadata": {},
   "outputs": [],
   "source": [
    "# Select HDI data for 2018 only\n",
    "hdipopdf1 = hdipopdf[(hdipopdf.year == \"2011\")]"
   ]
  },
  {
   "cell_type": "code",
   "execution_count": null,
   "metadata": {},
   "outputs": [],
   "source": [
    "#create third composite dataframe for HDI rates and cases\n",
    "composite_df2 = hdipopdf1.merge(cumcases_df, on='CNTRY_NAME')\n",
    "composite_df2"
   ]
  },
  {
   "cell_type": "code",
   "execution_count": null,
   "metadata": {},
   "outputs": [],
   "source": [
    "#calculate incidence\n",
    "composite_df2['Cases_100K'] = composite_df2['Confirmed'] / composite_df2['Pop_Mil'] / 10\n",
    "composite_df2['Deaths_100K'] = composite_df2['Deaths'] / composite_df2['Pop_Mil'] / 10"
   ]
  },
  {
   "cell_type": "code",
   "execution_count": null,
   "metadata": {},
   "outputs": [],
   "source": [
    "import plotly.express as px\n",
    "composite_df2\n",
    "\n",
    "fig = px.scatter(composite_df2, x=\"Cases_100K\", y=\"HDI\",\n",
    "             size=\"Deaths_100K\", color=\"CNTRY_NAME\",\n",
    "                 hover_name=\"CNTRY_NAME\", title='Confirmed Cases and Deaths VS HDI', log_x=False, size_max=60)\n",
    "fig.show()"
   ]
  },
  {
   "cell_type": "code",
   "execution_count": null,
   "metadata": {},
   "outputs": [],
   "source": []
  }
 ],
 "metadata": {
  "kernelspec": {
   "display_name": "Python 3",
   "language": "python",
   "name": "python3"
  },
  "language_info": {
   "codemirror_mode": {
    "name": "ipython",
    "version": 3
   },
   "file_extension": ".py",
   "mimetype": "text/x-python",
   "name": "python",
   "nbconvert_exporter": "python",
   "pygments_lexer": "ipython3",
   "version": "3.7.6"
  }
 },
 "nbformat": 4,
 "nbformat_minor": 4
}
